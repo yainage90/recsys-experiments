{
 "cells": [
  {
   "cell_type": "code",
   "execution_count": 1,
   "metadata": {},
   "outputs": [],
   "source": [
    "import numpy as np\n",
    "import pandas as pd\n",
    "import random\n",
    "from tqdm import tqdm\n",
    "\n",
    "import torch\n",
    "import torch.nn as nn\n",
    "import torch.nn.functional as F\n",
    "from torch.utils.data import Dataset, DataLoader\n",
    "import matplotlib.pyplot as plt"
   ]
  },
  {
   "cell_type": "code",
   "execution_count": 2,
   "metadata": {},
   "outputs": [
    {
     "data": {
      "text/html": [
       "<div>\n",
       "<style scoped>\n",
       "    .dataframe tbody tr th:only-of-type {\n",
       "        vertical-align: middle;\n",
       "    }\n",
       "\n",
       "    .dataframe tbody tr th {\n",
       "        vertical-align: top;\n",
       "    }\n",
       "\n",
       "    .dataframe thead th {\n",
       "        text-align: right;\n",
       "    }\n",
       "</style>\n",
       "<table border=\"1\" class=\"dataframe\">\n",
       "  <thead>\n",
       "    <tr style=\"text-align: right;\">\n",
       "      <th></th>\n",
       "      <th>user_id</th>\n",
       "      <th>product_id</th>\n",
       "      <th>category_id</th>\n",
       "      <th>category_code</th>\n",
       "      <th>brand</th>\n",
       "    </tr>\n",
       "  </thead>\n",
       "  <tbody>\n",
       "    <tr>\n",
       "      <th>0</th>\n",
       "      <td>541312140</td>\n",
       "      <td>44600062</td>\n",
       "      <td>2103807459595387724</td>\n",
       "      <td>#unknown</td>\n",
       "      <td>shiseido</td>\n",
       "    </tr>\n",
       "    <tr>\n",
       "      <th>1</th>\n",
       "      <td>554748717</td>\n",
       "      <td>3900821</td>\n",
       "      <td>2053013552326770905</td>\n",
       "      <td>appliances.environment.water_heater</td>\n",
       "      <td>aqua</td>\n",
       "    </tr>\n",
       "    <tr>\n",
       "      <th>2</th>\n",
       "      <td>519107250</td>\n",
       "      <td>17200506</td>\n",
       "      <td>2053013559792632471</td>\n",
       "      <td>furniture.living_room.sofa</td>\n",
       "      <td>#unknown</td>\n",
       "    </tr>\n",
       "    <tr>\n",
       "      <th>3</th>\n",
       "      <td>550050854</td>\n",
       "      <td>1307067</td>\n",
       "      <td>2053013558920217191</td>\n",
       "      <td>computers.notebook</td>\n",
       "      <td>lenovo</td>\n",
       "    </tr>\n",
       "    <tr>\n",
       "      <th>4</th>\n",
       "      <td>535871217</td>\n",
       "      <td>1004237</td>\n",
       "      <td>2053013555631882655</td>\n",
       "      <td>electronics.smartphone</td>\n",
       "      <td>apple</td>\n",
       "    </tr>\n",
       "  </tbody>\n",
       "</table>\n",
       "</div>"
      ],
      "text/plain": [
       "     user_id  product_id          category_id  \\\n",
       "0  541312140    44600062  2103807459595387724   \n",
       "1  554748717     3900821  2053013552326770905   \n",
       "2  519107250    17200506  2053013559792632471   \n",
       "3  550050854     1307067  2053013558920217191   \n",
       "4  535871217     1004237  2053013555631882655   \n",
       "\n",
       "                         category_code     brand  \n",
       "0                             #unknown  shiseido  \n",
       "1  appliances.environment.water_heater      aqua  \n",
       "2           furniture.living_room.sofa  #unknown  \n",
       "3                   computers.notebook    lenovo  \n",
       "4               electronics.smartphone     apple  "
      ]
     },
     "execution_count": 2,
     "metadata": {},
     "output_type": "execute_result"
    }
   ],
   "source": [
    "df = pd.read_feather('../../dataset/preprocessed_data.feather')[['user_id', 'product_id', 'category_id', 'category_code', 'brand']]\n",
    "df.head()"
   ]
  },
  {
   "cell_type": "code",
   "execution_count": 3,
   "metadata": {},
   "outputs": [
    {
     "name": "stdout",
     "output_type": "stream",
     "text": [
      "train: 38203885, test: 4244877\n"
     ]
    }
   ],
   "source": [
    "total_rows = len(df)\n",
    "\n",
    "train_size = int(total_rows * 0.9)\n",
    "\n",
    "train_df = df.iloc[:train_size]\n",
    "test_df = df.iloc[train_size:]\n",
    "\n",
    "print(f'train: {len(train_df)}, test: {len(test_df)}')\n",
    "\n",
    "del df"
   ]
  },
  {
   "cell_type": "code",
   "execution_count": 4,
   "metadata": {},
   "outputs": [],
   "source": [
    "user_counts = train_df['user_id'].value_counts().reset_index()[['user_id', 'count']]\n",
    "unique_user_ids = user_counts[user_counts['count'] >= 10]['user_id']\n",
    "user_id_to_index = {user_id: index for index, user_id in enumerate(unique_user_ids)}\n",
    "user_index_to_id = {index: user_id for index, user_id in enumerate(unique_user_ids)}\n",
    "\n",
    "product_counts = train_df['product_id'].value_counts().reset_index()[['product_id', 'count']]\n",
    "unique_product_ids = product_counts[product_counts['count'] >= 5]['product_id']\n",
    "product_id_to_index = {product_id: index for index, product_id in enumerate(unique_product_ids)}\n",
    "product_index_to_id = {index: product_id for index, product_id in enumerate(unique_product_ids)}\n",
    "\n",
    "del user_counts, product_counts"
   ]
  },
  {
   "cell_type": "code",
   "execution_count": 5,
   "metadata": {},
   "outputs": [],
   "source": [
    "unique_brands = train_df['brand'].unique()\n",
    "brand_id_to_index = {brand: index for index, brand in enumerate(unique_brands)}\n",
    "brand_index_to_id = {index: brand for index, brand in enumerate(unique_brands)}\n",
    "\n",
    "unique_category_ids = train_df['category_id'].unique()\n",
    "category_id_to_index = {category_id: index for index, category_id in enumerate(unique_category_ids)}\n",
    "category_index_to_id = {index: category_id for index, category_id in enumerate(unique_category_ids)}"
   ]
  },
  {
   "cell_type": "code",
   "execution_count": 6,
   "metadata": {},
   "outputs": [
    {
     "name": "stdout",
     "output_type": "stream",
     "text": [
      "unique user ids: 890624\n",
      "unique product ids: 130913\n",
      "unique brands: 3299\n",
      "unique category ids: 613\n",
      "train: 32022554, test: 2253627\n"
     ]
    },
    {
     "data": {
      "text/html": [
       "<div>\n",
       "<style scoped>\n",
       "    .dataframe tbody tr th:only-of-type {\n",
       "        vertical-align: middle;\n",
       "    }\n",
       "\n",
       "    .dataframe tbody tr th {\n",
       "        vertical-align: top;\n",
       "    }\n",
       "\n",
       "    .dataframe thead th {\n",
       "        text-align: right;\n",
       "    }\n",
       "</style>\n",
       "<table border=\"1\" class=\"dataframe\">\n",
       "  <thead>\n",
       "    <tr style=\"text-align: right;\">\n",
       "      <th></th>\n",
       "      <th>user_id</th>\n",
       "      <th>product_id</th>\n",
       "      <th>category_id</th>\n",
       "      <th>category_code</th>\n",
       "      <th>brand</th>\n",
       "      <th>user_index</th>\n",
       "      <th>product_index</th>\n",
       "      <th>brand_index</th>\n",
       "      <th>category_index</th>\n",
       "    </tr>\n",
       "  </thead>\n",
       "  <tbody>\n",
       "    <tr>\n",
       "      <th>0</th>\n",
       "      <td>541312140</td>\n",
       "      <td>44600062</td>\n",
       "      <td>2103807459595387724</td>\n",
       "      <td>#unknown</td>\n",
       "      <td>shiseido</td>\n",
       "      <td>32147</td>\n",
       "      <td>28939</td>\n",
       "      <td>0</td>\n",
       "      <td>0</td>\n",
       "    </tr>\n",
       "    <tr>\n",
       "      <th>2</th>\n",
       "      <td>519107250</td>\n",
       "      <td>17200506</td>\n",
       "      <td>2053013559792632471</td>\n",
       "      <td>furniture.living_room.sofa</td>\n",
       "      <td>#unknown</td>\n",
       "      <td>462789</td>\n",
       "      <td>5410</td>\n",
       "      <td>2</td>\n",
       "      <td>2</td>\n",
       "    </tr>\n",
       "    <tr>\n",
       "      <th>3</th>\n",
       "      <td>550050854</td>\n",
       "      <td>1307067</td>\n",
       "      <td>2053013558920217191</td>\n",
       "      <td>computers.notebook</td>\n",
       "      <td>lenovo</td>\n",
       "      <td>427246</td>\n",
       "      <td>213</td>\n",
       "      <td>3</td>\n",
       "      <td>3</td>\n",
       "    </tr>\n",
       "    <tr>\n",
       "      <th>4</th>\n",
       "      <td>535871217</td>\n",
       "      <td>1004237</td>\n",
       "      <td>2053013555631882655</td>\n",
       "      <td>electronics.smartphone</td>\n",
       "      <td>apple</td>\n",
       "      <td>84837</td>\n",
       "      <td>43</td>\n",
       "      <td>4</td>\n",
       "      <td>4</td>\n",
       "    </tr>\n",
       "    <tr>\n",
       "      <th>5</th>\n",
       "      <td>512742880</td>\n",
       "      <td>1480613</td>\n",
       "      <td>2053013561092866779</td>\n",
       "      <td>computers.desktop</td>\n",
       "      <td>pulser</td>\n",
       "      <td>140152</td>\n",
       "      <td>11240</td>\n",
       "      <td>5</td>\n",
       "      <td>5</td>\n",
       "    </tr>\n",
       "  </tbody>\n",
       "</table>\n",
       "</div>"
      ],
      "text/plain": [
       "     user_id  product_id          category_id               category_code  \\\n",
       "0  541312140    44600062  2103807459595387724                    #unknown   \n",
       "2  519107250    17200506  2053013559792632471  furniture.living_room.sofa   \n",
       "3  550050854     1307067  2053013558920217191          computers.notebook   \n",
       "4  535871217     1004237  2053013555631882655      electronics.smartphone   \n",
       "5  512742880     1480613  2053013561092866779           computers.desktop   \n",
       "\n",
       "      brand  user_index  product_index  brand_index  category_index  \n",
       "0  shiseido       32147          28939            0               0  \n",
       "2  #unknown      462789           5410            2               2  \n",
       "3    lenovo      427246            213            3               3  \n",
       "4     apple       84837             43            4               4  \n",
       "5    pulser      140152          11240            5               5  "
      ]
     },
     "execution_count": 6,
     "metadata": {},
     "output_type": "execute_result"
    }
   ],
   "source": [
    "train_df = train_df[\n",
    "    (train_df['user_id'].isin(unique_user_ids)) & \n",
    "    (train_df['product_id'].isin(unique_product_ids)) &\n",
    "    (train_df['brand'].isin(unique_brands)) &\n",
    "    (train_df['category_id'].isin(unique_category_ids))\n",
    "]\n",
    "\n",
    "test_df = test_df[\n",
    "    (test_df['user_id'].isin(unique_user_ids)) & \n",
    "    (test_df['product_id'].isin(unique_product_ids)) &\n",
    "    (test_df['brand'].isin(unique_brands)) &\n",
    "    (test_df['category_id'].isin(unique_category_ids))\n",
    "]\n",
    "\n",
    "train_df['user_index'] = [user_id_to_index[user_id] for user_id in train_df['user_id']]\n",
    "train_df['product_index'] = [product_id_to_index[product_id] for product_id in train_df['product_id']]\n",
    "train_df['brand_index'] = [brand_id_to_index[brand] for brand in train_df['brand']]\n",
    "train_df['category_index'] = [category_id_to_index[category_id] for category_id in train_df['category_id']]\n",
    "\n",
    "test_df['user_index'] = [user_id_to_index[user_id] for user_id in test_df['user_id']]\n",
    "test_df['product_index'] = [product_id_to_index[product_id] for product_id in test_df['product_id']]\n",
    "test_df['brand_index'] = [brand_id_to_index[brand] for brand in test_df['brand']]\n",
    "test_df['category_index'] = [category_id_to_index[category_id] for category_id in test_df['category_id']]\n",
    "\n",
    "print(f'unique user ids: {len(unique_user_ids)}')\n",
    "print(f'unique product ids: {len(unique_product_ids)}')\n",
    "print(f'unique brands: {len(unique_brands)}')\n",
    "print(f'unique category ids: {len(unique_category_ids)}')\n",
    "print(f'train: {len(train_df)}, test: {len(test_df)}')\n",
    "\n",
    "train_df.head()"
   ]
  },
  {
   "cell_type": "code",
   "execution_count": 7,
   "metadata": {},
   "outputs": [],
   "source": [
    "class RecommendDataset(Dataset):\n",
    "    def __init__(self, df):\n",
    "        self.data = []\n",
    "        for user, product, brand, category in df[['user_index', 'product_index', 'brand_index', 'category_index']].values:\n",
    "            self.data.append([int(user), int(product), int(brand), int(category)])\n",
    "\n",
    "    def __len__(self):\n",
    "        return len(self.data)\n",
    "\n",
    "    def __getitem__(self, idx):\n",
    "        return self.data[idx]\n",
    "\n",
    "train_dataset = RecommendDataset(train_df)\n",
    "test_dataset = RecommendDataset(test_df)"
   ]
  },
  {
   "cell_type": "code",
   "execution_count": 8,
   "metadata": {},
   "outputs": [
    {
     "name": "stdout",
     "output_type": "stream",
     "text": [
      "train:32022554, test: 2253627\n",
      "[32147, 28939, 0, 0]\n",
      "[183080, 363, 53, 4]\n"
     ]
    }
   ],
   "source": [
    "print(f'train:{len(train_dataset)}, test: {len(test_dataset)}')\n",
    "print(train_dataset[0])\n",
    "print(test_dataset[0])"
   ]
  },
  {
   "cell_type": "code",
   "execution_count": 9,
   "metadata": {},
   "outputs": [],
   "source": [
    "# For negative sampling\n",
    "user_index_to_viewed_product_indices = train_df.groupby('user_index')['product_index'].agg(set).to_dict()\n",
    "product_index_to_brand_index = dict(zip(train_df['product_index'], train_df['brand_index']))\n",
    "product_index_to_category_index = dict(zip(train_df['product_index'], train_df['category_index']))\n",
    "total_product_indices = train_df['product_index'].unique().tolist()"
   ]
  },
  {
   "cell_type": "code",
   "execution_count": 10,
   "metadata": {},
   "outputs": [],
   "source": [
    "def collate_fn(batch):\n",
    "    users = []\n",
    "    products = []\n",
    "    brands = []\n",
    "    categories = []\n",
    "\n",
    "    neg_users = []\n",
    "    neg_products = []\n",
    "    neg_brands = []\n",
    "    neg_categories = []\n",
    "    \n",
    "    for row in batch:\n",
    "        user = row[0]\n",
    "        product = row[1]\n",
    "        brand = row[2]\n",
    "        category = row[3]\n",
    "\n",
    "        user_viewed_product_indices = user_index_to_viewed_product_indices.get(user, [])\n",
    "        negative_product = None\n",
    "        while True:\n",
    "            negative_product = random.choice(total_product_indices)\n",
    "            if negative_product not in user_viewed_product_indices:\n",
    "                break\n",
    "\n",
    "        negative_brand = product_index_to_brand_index[negative_product]\n",
    "        negative_category = product_index_to_category_index[negative_product]\n",
    "\n",
    "        users.append(user)\n",
    "        products.append(product)\n",
    "        brands.append(brand)\n",
    "        categories.append(category)\n",
    "\n",
    "        neg_users.append(user)\n",
    "        neg_products.append(negative_product)\n",
    "        neg_brands.append(negative_brand)\n",
    "        neg_categories.append(negative_category)\n",
    "\n",
    "    return {\n",
    "        \"positive\": (\n",
    "            torch.LongTensor(users),\n",
    "            torch.LongTensor(products),\n",
    "            torch.LongTensor(brands),\n",
    "            torch.LongTensor(categories),\n",
    "        ),\n",
    "        \"negative\": (\n",
    "            torch.LongTensor(neg_users),\n",
    "            torch.LongTensor(neg_products),\n",
    "            torch.LongTensor(neg_brands),\n",
    "            torch.LongTensor(neg_categories),\n",
    "        )\n",
    "    }"
   ]
  },
  {
   "cell_type": "code",
   "execution_count": 11,
   "metadata": {},
   "outputs": [
    {
     "name": "stdout",
     "output_type": "stream",
     "text": [
      "train: 7819, test: 551\n"
     ]
    }
   ],
   "source": [
    "batch_size = 4096\n",
    "train_loader = DataLoader(train_dataset, batch_size=batch_size, shuffle=True, collate_fn=collate_fn)\n",
    "test_loader = DataLoader(test_dataset, batch_size=batch_size, shuffle=False, collate_fn=collate_fn)\n",
    "\n",
    "print(f'train: {len(train_loader)}, test: {len(test_loader)}')"
   ]
  },
  {
   "cell_type": "code",
   "execution_count": 12,
   "metadata": {},
   "outputs": [
    {
     "name": "stdout",
     "output_type": "stream",
     "text": [
      "device: mps\n"
     ]
    }
   ],
   "source": [
    "device = torch.device('mps') if torch.backends.mps.is_available() else torch.device('cpu')\n",
    "print(f'device: {device}')"
   ]
  },
  {
   "cell_type": "code",
   "execution_count": 13,
   "metadata": {},
   "outputs": [],
   "source": [
    "class UserTower(nn.Module):\n",
    "    def __init__(self, num_users, embedding_dim, layers):\n",
    "        super(UserTower, self).__init__()\n",
    "        self.user_embedding = nn.Embedding(num_users, embedding_dim)\n",
    "\n",
    "        self.layers = nn.ModuleList()\n",
    "        self.layers.append(nn.Linear(embedding_dim, layers[0]))\n",
    "        for h_in, h_out in zip(layers[:-1], layers[1:]):\n",
    "            self.layers.append(nn.Linear(h_in, h_out))\n",
    "\n",
    "    def forward(self, user_index):\n",
    "        x = self.user_embedding(user_index)\n",
    "        for i, layer in enumerate(self.layers):\n",
    "            x = layer(x)\n",
    "            if i != len(self.layers) - 1:\n",
    "                x = F.relu(x)\n",
    "        # x = F.normalize(x, p=2, dim=1)\n",
    "\n",
    "        return x\n",
    "\n",
    "class ProductTower(nn.Module):\n",
    "    def __init__(self, num_products, num_brands, num_categories, product_embedding_dim, brand_embedding_dim, category_embedding_dim, layers):\n",
    "        super(ProductTower, self).__init__()\n",
    "        self.product_embedding = nn.Embedding(num_products, product_embedding_dim)\n",
    "        self.brand_embedding = nn.Embedding(num_brands, brand_embedding_dim)\n",
    "        self.category_embedding = nn.Embedding(num_categories, category_embedding_dim)\n",
    "\n",
    "        self.layers = nn.ModuleList()\n",
    "        self.layers.append(nn.Linear(product_embedding_dim + brand_embedding_dim + category_embedding_dim, layers[0]))\n",
    "        for h_in, h_out in zip(layers[:-1], layers[1:]):\n",
    "            self.layers.append(nn.Linear(h_in, h_out))\n",
    "\n",
    "    def forward(self, product_index, brand_index, category_index):\n",
    "        product_emb = self.product_embedding(product_index)\n",
    "        brand_emb = self.brand_embedding(brand_index)\n",
    "        category_emb = self.category_embedding(category_index)\n",
    "        x = torch.cat([product_emb, brand_emb, category_emb], dim=1)\n",
    "        for i, layer in enumerate(self.layers):\n",
    "            x = layer(x)\n",
    "            if i != len(self.layers) - 1:\n",
    "                x = F.relu(x)\n",
    "        # x = F.normalize(x, p=2, dim=1)\n",
    "\n",
    "        return x\n",
    "\n",
    "class TwoTower(nn.Module):\n",
    "    def __init__(\n",
    "        self,\n",
    "        num_users,\n",
    "        num_products,\n",
    "        num_brands,\n",
    "        num_categories,\n",
    "        user_embedding_dim,\n",
    "        product_embedding_dim,\n",
    "        brand_embedding_dim,\n",
    "        category_embedding_dim,\n",
    "        user_tower_layers,\n",
    "        product_tower_layers,\n",
    "    ):\n",
    "        super(TwoTower, self).__init__()\n",
    "        self.user_tower = UserTower(num_users, user_embedding_dim, user_tower_layers)\n",
    "        self.product_tower = ProductTower(num_products, num_brands, num_categories, product_embedding_dim, brand_embedding_dim, category_embedding_dim, product_tower_layers)\n",
    "\n",
    "    def forward(\n",
    "        self,\n",
    "        user_index,\n",
    "        product_index,\n",
    "        brand_index,\n",
    "        category_index,\n",
    "    ):\n",
    "        user_embedding = self.user_tower(user_index)\n",
    "        product_embedding = self.product_tower(product_index, brand_index, category_index)\n",
    "\n",
    "        return user_embedding, product_embedding"
   ]
  },
  {
   "cell_type": "code",
   "execution_count": 14,
   "metadata": {},
   "outputs": [],
   "source": [
    "class ContrastiveLoss(nn.Module):\n",
    "    def __init__(self, margin=0.1):\n",
    "        super(ContrastiveLoss, self).__init__()\n",
    "        self.margin = margin\n",
    "\n",
    "    def forward(self, positive_scores, negative_scores):\n",
    "        losses = F.relu(self.margin - positive_scores + negative_scores)\n",
    "        return losses.mean()\n",
    "\n",
    "class BPRLoss(nn.Module):\n",
    "    def __init__(self, **kwargs):\n",
    "        super(BPRLoss, self).__init__(**kwargs)\n",
    "        self.sigmoid = nn.Sigmoid()\n",
    "\n",
    "    def forward(self, positive, negative):\n",
    "        distances = positive - negative\n",
    "        loss = -torch.sum(torch.log(self.sigmoid(distances)))\n",
    "        return loss"
   ]
  },
  {
   "cell_type": "code",
   "execution_count": 15,
   "metadata": {},
   "outputs": [],
   "source": [
    "def create_model():\n",
    "    model = TwoTower(\n",
    "        num_users=len(unique_user_ids),\n",
    "        num_products=len(unique_product_ids),\n",
    "        num_brands=len(unique_brands),\n",
    "        num_categories=len(unique_category_ids),\n",
    "        user_embedding_dim=64,\n",
    "        product_embedding_dim=32,\n",
    "        brand_embedding_dim=16,\n",
    "        category_embedding_dim=8,\n",
    "        user_tower_layers=[32, 32],\n",
    "        product_tower_layers=[32, 32],\n",
    "    ).to(device)\n",
    "    return model\n",
    "\n",
    "model = create_model()\n",
    "# criterion = ContrastiveLoss()\n",
    "criterion = BPRLoss()\n",
    "optimizer = torch.optim.Adam(model.parameters(), lr=1e-4, weight_decay=1e-5)\n"
   ]
  },
  {
   "cell_type": "code",
   "execution_count": 16,
   "metadata": {},
   "outputs": [],
   "source": [
    "def train(model, optimizer, criterion, dataloader):\n",
    "    model.train()\n",
    "    total_loss = 0\n",
    "    total = 0\n",
    "\n",
    "    for batch in tqdm(dataloader, desc=\"Train\"):\n",
    "        pos_users, pos_products, pos_brands, pos_categories = batch[\"positive\"]\n",
    "        pos_users, pos_products, pos_brands, pos_categories = pos_users.to(device), pos_products.to(device), pos_brands.to(device), pos_categories.to(device)\n",
    "        neg_users, neg_products, neg_brands, neg_categories = batch[\"negative\"]\n",
    "        neg_users, neg_products, neg_brands, neg_categories = neg_users.to(device), neg_products.to(device), neg_brands.to(device), neg_categories.to(device)\n",
    "        pos_user_embedding, pos_product_embedding = model(pos_users, pos_products, pos_brands, pos_categories)\n",
    "        neg_user_embedding, neg_product_embedding = model(neg_users, neg_products, neg_brands, neg_categories)\n",
    "\n",
    "        pos_score = torch.sum(pos_user_embedding * pos_product_embedding, dim=1)\n",
    "        neg_score = torch.sum(neg_user_embedding * neg_product_embedding, dim=1)\n",
    "        loss = criterion(pos_score, neg_score)\n",
    "        \n",
    "        optimizer.zero_grad()\n",
    "        loss.backward()\n",
    "        optimizer.step()\n",
    "\n",
    "        total_loss += loss.item()\n",
    "        total += pos_users.size(0)\n",
    "\n",
    "    avg_loss = total_loss / len(dataloader)\n",
    "    return avg_loss\n",
    "\n",
    "def evaluate(model, criterion, dataloader):\n",
    "    model.eval()\n",
    "    total_loss = 0\n",
    "    total = 0\n",
    "\n",
    "    with torch.no_grad():\n",
    "        for batch in tqdm(dataloader, desc=\"Eval\"):\n",
    "            pos_users, pos_products, pos_brands, pos_categories = batch[\"positive\"]\n",
    "            pos_users, pos_products, pos_brands, pos_categories = pos_users.to(device), pos_products.to(device), pos_brands.to(device), pos_categories.to(device)\n",
    "            neg_users, neg_products, neg_brands, neg_categories = batch[\"negative\"]\n",
    "            neg_users, neg_products, neg_brands, neg_categories = neg_users.to(device), neg_products.to(device), neg_brands.to(device), neg_categories.to(device)\n",
    "            pos_user_embedding, pos_product_embedding = model(pos_users, pos_products, pos_brands, pos_categories)\n",
    "            neg_user_embedding, neg_product_embedding = model(neg_users, neg_products, neg_brands, neg_categories)\n",
    "\n",
    "            pos_score = torch.sum(pos_user_embedding * pos_product_embedding, dim=1)\n",
    "            neg_score = torch.sum(neg_user_embedding * neg_product_embedding, dim=1)\n",
    "            loss = criterion(pos_score, neg_score)\n",
    "\n",
    "            total_loss += loss.item()\n",
    "            total += pos_users.size(0)\n",
    "\n",
    "    avg_loss = total_loss / len(dataloader)\n",
    "    return avg_loss"
   ]
  },
  {
   "cell_type": "code",
   "execution_count": 17,
   "metadata": {},
   "outputs": [
    {
     "name": "stderr",
     "output_type": "stream",
     "text": [
      "Train: 100%|██████████| 7819/7819 [08:22<00:00, 15.57it/s]\n",
      "Eval: 100%|██████████| 551/551 [00:05<00:00, 96.84it/s] \n"
     ]
    },
    {
     "name": "stdout",
     "output_type": "stream",
     "text": [
      "Epoch 1, Train Loss: 1427.6442, Eval Loss: 1227.6697\n"
     ]
    },
    {
     "name": "stderr",
     "output_type": "stream",
     "text": [
      "Train: 100%|██████████| 7819/7819 [07:48<00:00, 16.70it/s]\n",
      "Eval: 100%|██████████| 551/551 [00:05<00:00, 93.78it/s]\n"
     ]
    },
    {
     "name": "stdout",
     "output_type": "stream",
     "text": [
      "Epoch 2, Train Loss: 985.9711, Eval Loss: 1060.6225\n"
     ]
    },
    {
     "name": "stderr",
     "output_type": "stream",
     "text": [
      "Train: 100%|██████████| 7819/7819 [08:10<00:00, 15.93it/s]\n",
      "Eval: 100%|██████████| 551/551 [00:06<00:00, 91.06it/s] \n"
     ]
    },
    {
     "name": "stdout",
     "output_type": "stream",
     "text": [
      "Epoch 3, Train Loss: 859.1058, Eval Loss: 993.8692\n"
     ]
    },
    {
     "name": "stderr",
     "output_type": "stream",
     "text": [
      "Train: 100%|██████████| 7819/7819 [09:05<00:00, 14.33it/s]\n",
      "Eval: 100%|██████████| 551/551 [00:06<00:00, 88.12it/s]\n"
     ]
    },
    {
     "name": "stdout",
     "output_type": "stream",
     "text": [
      "Epoch 4, Train Loss: 796.2633, Eval Loss: 960.1606\n"
     ]
    },
    {
     "name": "stderr",
     "output_type": "stream",
     "text": [
      "Train: 100%|██████████| 7819/7819 [08:46<00:00, 14.86it/s]\n",
      "Eval: 100%|██████████| 551/551 [00:05<00:00, 91.91it/s]\n"
     ]
    },
    {
     "name": "stdout",
     "output_type": "stream",
     "text": [
      "Epoch 5, Train Loss: 758.0263, Eval Loss: 944.5519\n"
     ]
    },
    {
     "name": "stderr",
     "output_type": "stream",
     "text": [
      "Train: 100%|██████████| 7819/7819 [09:12<00:00, 14.15it/s]\n",
      "Eval: 100%|██████████| 551/551 [00:06<00:00, 89.87it/s]\n"
     ]
    },
    {
     "name": "stdout",
     "output_type": "stream",
     "text": [
      "Epoch 6, Train Loss: 730.3938, Eval Loss: 939.5454\n"
     ]
    },
    {
     "name": "stderr",
     "output_type": "stream",
     "text": [
      "Train: 100%|██████████| 7819/7819 [09:34<00:00, 13.61it/s]\n",
      "Eval: 100%|██████████| 551/551 [00:05<00:00, 92.70it/s]\n"
     ]
    },
    {
     "name": "stdout",
     "output_type": "stream",
     "text": [
      "Epoch 7, Train Loss: 707.8099, Eval Loss: 934.3833\n"
     ]
    },
    {
     "name": "stderr",
     "output_type": "stream",
     "text": [
      "Train: 100%|██████████| 7819/7819 [09:43<00:00, 13.39it/s]\n",
      "Eval: 100%|██████████| 551/551 [00:05<00:00, 92.40it/s]\n"
     ]
    },
    {
     "name": "stdout",
     "output_type": "stream",
     "text": [
      "Epoch 8, Train Loss: 687.2283, Eval Loss: 933.2125\n"
     ]
    },
    {
     "name": "stderr",
     "output_type": "stream",
     "text": [
      "Train: 100%|██████████| 7819/7819 [09:57<00:00, 13.08it/s]\n",
      "Eval: 100%|██████████| 551/551 [00:05<00:00, 95.79it/s]\n"
     ]
    },
    {
     "name": "stdout",
     "output_type": "stream",
     "text": [
      "Epoch 9, Train Loss: 667.8377, Eval Loss: 929.8916\n"
     ]
    },
    {
     "name": "stderr",
     "output_type": "stream",
     "text": [
      "Train: 100%|██████████| 7819/7819 [09:29<00:00, 13.73it/s]\n",
      "Eval: 100%|██████████| 551/551 [00:05<00:00, 92.54it/s]\n"
     ]
    },
    {
     "name": "stdout",
     "output_type": "stream",
     "text": [
      "Epoch 10, Train Loss: 648.3394, Eval Loss: 931.4064\n"
     ]
    },
    {
     "name": "stderr",
     "output_type": "stream",
     "text": [
      "Train: 100%|██████████| 7819/7819 [08:51<00:00, 14.70it/s]\n",
      "Eval: 100%|██████████| 551/551 [00:05<00:00, 94.79it/s]\n"
     ]
    },
    {
     "name": "stdout",
     "output_type": "stream",
     "text": [
      "Epoch 11, Train Loss: 629.1844, Eval Loss: 929.8209\n"
     ]
    },
    {
     "name": "stderr",
     "output_type": "stream",
     "text": [
      "Train: 100%|██████████| 7819/7819 [09:05<00:00, 14.35it/s]\n",
      "Eval: 100%|██████████| 551/551 [00:05<00:00, 95.97it/s]\n"
     ]
    },
    {
     "name": "stdout",
     "output_type": "stream",
     "text": [
      "Epoch 12, Train Loss: 611.0436, Eval Loss: 934.4645\n"
     ]
    },
    {
     "name": "stderr",
     "output_type": "stream",
     "text": [
      "Train: 100%|██████████| 7819/7819 [09:09<00:00, 14.23it/s]\n",
      "Eval: 100%|██████████| 551/551 [00:05<00:00, 95.78it/s]\n"
     ]
    },
    {
     "name": "stdout",
     "output_type": "stream",
     "text": [
      "Epoch 13, Train Loss: 592.0296, Eval Loss: 931.6210\n"
     ]
    },
    {
     "name": "stderr",
     "output_type": "stream",
     "text": [
      "Train: 100%|██████████| 7819/7819 [09:08<00:00, 14.26it/s]\n",
      "Eval: 100%|██████████| 551/551 [00:05<00:00, 94.32it/s]"
     ]
    },
    {
     "name": "stdout",
     "output_type": "stream",
     "text": [
      "Epoch 14, Train Loss: 574.8273, Eval Loss: 933.5515\n",
      "Early stopping triggered at epoch 14\n"
     ]
    },
    {
     "name": "stderr",
     "output_type": "stream",
     "text": [
      "\n"
     ]
    }
   ],
   "source": [
    "patience = 3\n",
    "best_loss = float('inf')\n",
    "counter = 0\n",
    "\n",
    "n_epochs = 50\n",
    "for epoch in range(n_epochs):\n",
    "    train_loss = train(model, optimizer, criterion, train_loader)\n",
    "    eval_loss = evaluate(model, criterion, test_loader)\n",
    "\n",
    "    print(f'Epoch {epoch + 1}, Train Loss: {train_loss:.4f}, Eval Loss: {eval_loss:.4f}')\n",
    "\n",
    "    if eval_loss < best_loss:\n",
    "        best_loss = eval_loss\n",
    "        counter = 0\n",
    "        torch.save(model.state_dict(), 'best_model.pth')\n",
    "    else:\n",
    "        counter += 1\n",
    "        if counter >= patience:\n",
    "            print(f\"Early stopping triggered at epoch {epoch + 1}\")\n",
    "            break"
   ]
  },
  {
   "cell_type": "code",
   "execution_count": 18,
   "metadata": {},
   "outputs": [
    {
     "data": {
      "text/plain": [
       "<All keys matched successfully>"
      ]
     },
     "execution_count": 18,
     "metadata": {},
     "output_type": "execute_result"
    }
   ],
   "source": [
    "model = create_model().to(device)\n",
    "model.load_state_dict(torch.load('best_model.pth', weights_only=True))"
   ]
  },
  {
   "cell_type": "code",
   "execution_count": 19,
   "metadata": {},
   "outputs": [
    {
     "name": "stderr",
     "output_type": "stream",
     "text": [
      "100%|██████████| 10/10 [00:00<00:00, 147.51it/s]\n",
      "100%|██████████| 128/128 [00:00<00:00, 340.05it/s]\n",
      "100%|██████████| 10000/10000 [22:17<00:00,  7.48it/s]\n"
     ]
    }
   ],
   "source": [
    "def recommend_all(n_sample_users=10000):\n",
    "    sample_user_indicies = test_df['user_index'].unique().tolist()[:n_sample_users]\n",
    "    product_indices = train_df['product_index'].unique().tolist()\n",
    "\n",
    "    sample_user_embeddings = []\n",
    "    product_embeddings = []\n",
    "\n",
    "    for i in tqdm(range(0, len(sample_user_indicies), 1024)):\n",
    "        batch_user_indices = sample_user_indicies[i: i + 1024]\n",
    "        batch_user_embeddings = model.user_tower(torch.LongTensor(batch_user_indices).to(device))\n",
    "        sample_user_embeddings.extend(batch_user_embeddings.tolist())\n",
    "\n",
    "    for i in tqdm(range(0, len(product_indices), 1024)):\n",
    "        batch_product_indices = product_indices[i: i + 1024]\n",
    "        batch_brand_indices = [product_index_to_brand_index[i] for i in batch_product_indices]\n",
    "        batch_category_indices = [product_index_to_category_index[i] for i in batch_product_indices]\n",
    "        batch_product_embeddings = model.product_tower(\n",
    "            torch.LongTensor(batch_product_indices).to(device),\n",
    "            torch.LongTensor(batch_brand_indices).to(device),\n",
    "            torch.LongTensor(batch_category_indices).to(device),\n",
    "        )\n",
    "        product_embeddings.extend(batch_product_embeddings.tolist())\n",
    "\n",
    "    recommendations_dict = {}\n",
    "    for i, user_emb in tqdm(enumerate(sample_user_embeddings), total=len(sample_user_embeddings)):\n",
    "        scores = np.sum(np.multiply([user_emb], product_embeddings), axis=1)\n",
    "        descending_indices = np.argsort(scores)[::-1][:500]\n",
    "        descending_product_indices = [product_indices[i] for i in descending_indices]\n",
    "        product_ids = [product_index_to_id[i] for i in descending_product_indices]\n",
    "        user_idx = sample_user_indicies[i]\n",
    "        user_id = user_index_to_id[user_idx]\n",
    "        recommendations_dict[user_id] = product_ids\n",
    "\n",
    "    return recommendations_dict\n",
    "\n",
    "recommendations_dict = recommend_all()"
   ]
  },
  {
   "cell_type": "code",
   "execution_count": 20,
   "metadata": {},
   "outputs": [],
   "source": [
    "interaction_dict = test_df.groupby('user_id')['product_id'].agg(lambda x: list(set(x))).to_dict()"
   ]
  },
  {
   "cell_type": "code",
   "execution_count": 21,
   "metadata": {},
   "outputs": [],
   "source": [
    "def calculate_metrics(topk=10):\n",
    "\n",
    "    total_users = 0\n",
    "    precision_sum = 0\n",
    "    recall_sum = 0\n",
    "    ndcg_sum = 0\n",
    "\n",
    "    for user_id in tqdm(interaction_dict.keys()):\n",
    "        if user_id not in recommendations_dict:\n",
    "            continue\n",
    "\n",
    "        true_items = set(interaction_dict[user_id])\n",
    "        recommended_items = recommendations_dict[user_id]\n",
    "        top_k_items = set(recommended_items[:topk])\n",
    "\n",
    "        # precision\n",
    "        precision = len(top_k_items & true_items) / len(recommended_items)\n",
    "        precision_sum += precision\n",
    "        \n",
    "        # recall\n",
    "        recall = len(top_k_items & true_items) / len(true_items)\n",
    "        recall_sum += recall\n",
    "\n",
    "        # NDCG\n",
    "        dcg = 0\n",
    "        idcg = 0\n",
    "        for i, item in enumerate(top_k_items):\n",
    "            rel = 1 if item in true_items else 0\n",
    "            dcg += (2**rel - 1) / np.log2(i + 2)\n",
    "        \n",
    "        ideal_ranking = sorted([1 if item in true_items else 0 for item in top_k_items], reverse=True)\n",
    "        for i, rel in enumerate(ideal_ranking):\n",
    "            idcg += (2**rel - 1) / np.log2(i + 2)\n",
    "        \n",
    "        ndcg = dcg / idcg if idcg > 0 else 0\n",
    "        ndcg_sum += ndcg\n",
    "\n",
    "        total_users += 1\n",
    "        \n",
    "    mean_precision = precision_sum / total_users\n",
    "    mean_recall = recall_sum / total_users\n",
    "    mean_ndcg = float(ndcg_sum / total_users)\n",
    "\n",
    "    return mean_precision, mean_recall, mean_ndcg"
   ]
  },
  {
   "cell_type": "code",
   "execution_count": 22,
   "metadata": {},
   "outputs": [
    {
     "name": "stderr",
     "output_type": "stream",
     "text": [
      "100%|██████████| 201629/201629 [00:00<00:00, 911911.80it/s]\n"
     ]
    },
    {
     "name": "stdout",
     "output_type": "stream",
     "text": [
      "precision@10: 0.00061, recall@10: 0.06016, ndcg@10: 0.09601\n"
     ]
    },
    {
     "name": "stderr",
     "output_type": "stream",
     "text": [
      "100%|██████████| 201629/201629 [00:00<00:00, 352933.82it/s]\n"
     ]
    },
    {
     "name": "stdout",
     "output_type": "stream",
     "text": [
      "precision@30: 0.00128, recall@30: 0.11361, ndcg@30: 0.10861\n"
     ]
    },
    {
     "name": "stderr",
     "output_type": "stream",
     "text": [
      "100%|██████████| 201629/201629 [00:00<00:00, 216408.85it/s]\n"
     ]
    },
    {
     "name": "stdout",
     "output_type": "stream",
     "text": [
      "precision@50: 0.00174, recall@50: 0.14689, ndcg@50: 0.11500\n"
     ]
    },
    {
     "name": "stderr",
     "output_type": "stream",
     "text": [
      "100%|██████████| 201629/201629 [00:01<00:00, 108673.27it/s]\n"
     ]
    },
    {
     "name": "stdout",
     "output_type": "stream",
     "text": [
      "precision@100: 0.00244, recall@100: 0.19602, ndcg@100: 0.11563\n"
     ]
    },
    {
     "name": "stderr",
     "output_type": "stream",
     "text": [
      "100%|██████████| 201629/201629 [00:03<00:00, 56880.06it/s]\n"
     ]
    },
    {
     "name": "stdout",
     "output_type": "stream",
     "text": [
      "precision@200: 0.00336, recall@200: 0.25622, ndcg@200: 0.11975\n"
     ]
    },
    {
     "name": "stderr",
     "output_type": "stream",
     "text": [
      "100%|██████████| 201629/201629 [00:05<00:00, 38410.06it/s]\n"
     ]
    },
    {
     "name": "stdout",
     "output_type": "stream",
     "text": [
      "precision@300: 0.00399, recall@300: 0.29516, ndcg@300: 0.12292\n"
     ]
    },
    {
     "name": "stderr",
     "output_type": "stream",
     "text": [
      "100%|██████████| 201629/201629 [00:07<00:00, 28381.59it/s]\n"
     ]
    },
    {
     "name": "stdout",
     "output_type": "stream",
     "text": [
      "precision@400: 0.00446, recall@400: 0.32423, ndcg@400: 0.12252\n"
     ]
    },
    {
     "name": "stderr",
     "output_type": "stream",
     "text": [
      "100%|██████████| 201629/201629 [00:08<00:00, 22578.88it/s]"
     ]
    },
    {
     "name": "stdout",
     "output_type": "stream",
     "text": [
      "precision@500: 0.00485, recall@500: 0.34825, ndcg@500: 0.12374\n"
     ]
    },
    {
     "name": "stderr",
     "output_type": "stream",
     "text": [
      "\n"
     ]
    }
   ],
   "source": [
    "topk_values = [10, 30, 50, 100, 200, 300, 400, 500]\n",
    "\n",
    "precisions, recalls, ndcgs = [], [], []\n",
    "for topk in topk_values:\n",
    "    precision, recall, ndcg = calculate_metrics(topk=topk)\n",
    "    precisions.append(precision)\n",
    "    recalls.append(recall)\n",
    "    ndcgs.append(ndcg)\n",
    "    print(f'precision@{topk}: {precision:.5f}, recall@{topk}: {recall:.5f}, ndcg@{topk}: {ndcg:.5f}')"
   ]
  },
  {
   "cell_type": "code",
   "execution_count": 23,
   "metadata": {},
   "outputs": [
    {
     "data": {
      "image/png": "[encoded data removed]",
      "text/plain": [
       "<Figure size 1200x600 with 1 Axes>"
      ]
     },
     "metadata": {},
     "output_type": "display_data"
    }
   ],
   "source": [
    "plt.figure(figsize=(12, 6))\n",
    "\n",
    "plt.plot(topk_values, precisions, marker='o', label='Precision')\n",
    "plt.plot(topk_values, recalls, marker='s', label='Recall')\n",
    "plt.plot(topk_values, ndcgs, marker='^', label='NDCG')\n",
    "\n",
    "plt.title('Metrics vs Top-K')\n",
    "plt.xlabel('Top-K')\n",
    "plt.ylabel('Metric Value')\n",
    "plt.legend()\n",
    "plt.grid(True, linestyle='--', alpha=0.7)\n",
    "\n",
    "plt.xticks(topk_values)\n",
    "\n",
    "plt.ylim(bottom=0)\n",
    "\n",
    "plt.tight_layout()\n",
    "plt.show()"
   ]
  },
  {
   "cell_type": "code",
   "execution_count": 24,
   "metadata": {},
   "outputs": [
    {
     "name": "stdout",
     "output_type": "stream",
     "text": [
      "514916579\n"
     ]
    },
    {
     "data": {
      "text/html": [
       "<div>\n",
       "<style scoped>\n",
       "    .dataframe tbody tr th:only-of-type {\n",
       "        vertical-align: middle;\n",
       "    }\n",
       "\n",
       "    .dataframe tbody tr th {\n",
       "        vertical-align: top;\n",
       "    }\n",
       "\n",
       "    .dataframe thead th {\n",
       "        text-align: right;\n",
       "    }\n",
       "</style>\n",
       "<table border=\"1\" class=\"dataframe\">\n",
       "  <thead>\n",
       "    <tr style=\"text-align: right;\">\n",
       "      <th></th>\n",
       "      <th>user_id</th>\n",
       "      <th>product_id</th>\n",
       "      <th>category_id</th>\n",
       "      <th>category_code</th>\n",
       "      <th>brand</th>\n",
       "      <th>user_index</th>\n",
       "      <th>product_index</th>\n",
       "      <th>brand_index</th>\n",
       "      <th>category_index</th>\n",
       "    </tr>\n",
       "  </thead>\n",
       "  <tbody>\n",
       "    <tr>\n",
       "      <th>3727059</th>\n",
       "      <td>514916579</td>\n",
       "      <td>4800358</td>\n",
       "      <td>2053013554658804075</td>\n",
       "      <td>electronics.audio.headphone</td>\n",
       "      <td>plantronics</td>\n",
       "      <td>251676</td>\n",
       "      <td>1270</td>\n",
       "      <td>161</td>\n",
       "      <td>14</td>\n",
       "    </tr>\n",
       "    <tr>\n",
       "      <th>3728011</th>\n",
       "      <td>514916579</td>\n",
       "      <td>4800358</td>\n",
       "      <td>2053013554658804075</td>\n",
       "      <td>electronics.audio.headphone</td>\n",
       "      <td>plantronics</td>\n",
       "      <td>251676</td>\n",
       "      <td>1270</td>\n",
       "      <td>161</td>\n",
       "      <td>14</td>\n",
       "    </tr>\n",
       "    <tr>\n",
       "      <th>3728680</th>\n",
       "      <td>514916579</td>\n",
       "      <td>4801033</td>\n",
       "      <td>2053013554658804075</td>\n",
       "      <td>electronics.audio.headphone</td>\n",
       "      <td>plantronics</td>\n",
       "      <td>251676</td>\n",
       "      <td>1704</td>\n",
       "      <td>161</td>\n",
       "      <td>14</td>\n",
       "    </tr>\n",
       "    <tr>\n",
       "      <th>3729091</th>\n",
       "      <td>514916579</td>\n",
       "      <td>4802068</td>\n",
       "      <td>2053013554658804075</td>\n",
       "      <td>electronics.audio.headphone</td>\n",
       "      <td>plantronics</td>\n",
       "      <td>251676</td>\n",
       "      <td>5520</td>\n",
       "      <td>161</td>\n",
       "      <td>14</td>\n",
       "    </tr>\n",
       "    <tr>\n",
       "      <th>5430728</th>\n",
       "      <td>514916579</td>\n",
       "      <td>1002550</td>\n",
       "      <td>2053013555631882655</td>\n",
       "      <td>electronics.smartphone</td>\n",
       "      <td>blackberry</td>\n",
       "      <td>251676</td>\n",
       "      <td>3388</td>\n",
       "      <td>844</td>\n",
       "      <td>4</td>\n",
       "    </tr>\n",
       "    <tr>\n",
       "      <th>5431564</th>\n",
       "      <td>514916579</td>\n",
       "      <td>1004739</td>\n",
       "      <td>2053013555631882655</td>\n",
       "      <td>electronics.smartphone</td>\n",
       "      <td>xiaomi</td>\n",
       "      <td>251676</td>\n",
       "      <td>12</td>\n",
       "      <td>17</td>\n",
       "      <td>4</td>\n",
       "    </tr>\n",
       "    <tr>\n",
       "      <th>5433716</th>\n",
       "      <td>514916579</td>\n",
       "      <td>1005161</td>\n",
       "      <td>2053013555631882655</td>\n",
       "      <td>electronics.smartphone</td>\n",
       "      <td>xiaomi</td>\n",
       "      <td>251676</td>\n",
       "      <td>48</td>\n",
       "      <td>17</td>\n",
       "      <td>4</td>\n",
       "    </tr>\n",
       "    <tr>\n",
       "      <th>5435458</th>\n",
       "      <td>514916579</td>\n",
       "      <td>1005161</td>\n",
       "      <td>2053013555631882655</td>\n",
       "      <td>electronics.smartphone</td>\n",
       "      <td>xiaomi</td>\n",
       "      <td>251676</td>\n",
       "      <td>48</td>\n",
       "      <td>17</td>\n",
       "      <td>4</td>\n",
       "    </tr>\n",
       "    <tr>\n",
       "      <th>5436921</th>\n",
       "      <td>514916579</td>\n",
       "      <td>1004957</td>\n",
       "      <td>2053013555631882655</td>\n",
       "      <td>electronics.smartphone</td>\n",
       "      <td>xiaomi</td>\n",
       "      <td>251676</td>\n",
       "      <td>42</td>\n",
       "      <td>17</td>\n",
       "      <td>4</td>\n",
       "    </tr>\n",
       "    <tr>\n",
       "      <th>5440323</th>\n",
       "      <td>514916579</td>\n",
       "      <td>1004957</td>\n",
       "      <td>2053013555631882655</td>\n",
       "      <td>electronics.smartphone</td>\n",
       "      <td>xiaomi</td>\n",
       "      <td>251676</td>\n",
       "      <td>42</td>\n",
       "      <td>17</td>\n",
       "      <td>4</td>\n",
       "    </tr>\n",
       "    <tr>\n",
       "      <th>5441628</th>\n",
       "      <td>514916579</td>\n",
       "      <td>1004956</td>\n",
       "      <td>2053013555631882655</td>\n",
       "      <td>electronics.smartphone</td>\n",
       "      <td>xiaomi</td>\n",
       "      <td>251676</td>\n",
       "      <td>185</td>\n",
       "      <td>17</td>\n",
       "      <td>4</td>\n",
       "    </tr>\n",
       "    <tr>\n",
       "      <th>5450423</th>\n",
       "      <td>514916579</td>\n",
       "      <td>1004836</td>\n",
       "      <td>2053013555631882655</td>\n",
       "      <td>electronics.smartphone</td>\n",
       "      <td>samsung</td>\n",
       "      <td>251676</td>\n",
       "      <td>11</td>\n",
       "      <td>11</td>\n",
       "      <td>4</td>\n",
       "    </tr>\n",
       "    <tr>\n",
       "      <th>5531637</th>\n",
       "      <td>514916579</td>\n",
       "      <td>1003328</td>\n",
       "      <td>2053013555631882655</td>\n",
       "      <td>electronics.smartphone</td>\n",
       "      <td>nokia</td>\n",
       "      <td>251676</td>\n",
       "      <td>3112</td>\n",
       "      <td>41</td>\n",
       "      <td>4</td>\n",
       "    </tr>\n",
       "    <tr>\n",
       "      <th>5533251</th>\n",
       "      <td>514916579</td>\n",
       "      <td>1004730</td>\n",
       "      <td>2053013555631882655</td>\n",
       "      <td>electronics.smartphone</td>\n",
       "      <td>sony</td>\n",
       "      <td>251676</td>\n",
       "      <td>482</td>\n",
       "      <td>33</td>\n",
       "      <td>4</td>\n",
       "    </tr>\n",
       "    <tr>\n",
       "      <th>5543137</th>\n",
       "      <td>514916579</td>\n",
       "      <td>1004910</td>\n",
       "      <td>2053013555631882655</td>\n",
       "      <td>electronics.smartphone</td>\n",
       "      <td>sony</td>\n",
       "      <td>251676</td>\n",
       "      <td>3878</td>\n",
       "      <td>33</td>\n",
       "      <td>4</td>\n",
       "    </tr>\n",
       "    <tr>\n",
       "      <th>5543803</th>\n",
       "      <td>514916579</td>\n",
       "      <td>1004730</td>\n",
       "      <td>2053013555631882655</td>\n",
       "      <td>electronics.smartphone</td>\n",
       "      <td>sony</td>\n",
       "      <td>251676</td>\n",
       "      <td>482</td>\n",
       "      <td>33</td>\n",
       "      <td>4</td>\n",
       "    </tr>\n",
       "    <tr>\n",
       "      <th>5544630</th>\n",
       "      <td>514916579</td>\n",
       "      <td>1004730</td>\n",
       "      <td>2053013555631882655</td>\n",
       "      <td>electronics.smartphone</td>\n",
       "      <td>sony</td>\n",
       "      <td>251676</td>\n",
       "      <td>482</td>\n",
       "      <td>33</td>\n",
       "      <td>4</td>\n",
       "    </tr>\n",
       "    <tr>\n",
       "      <th>5545139</th>\n",
       "      <td>514916579</td>\n",
       "      <td>1004732</td>\n",
       "      <td>2053013555631882655</td>\n",
       "      <td>electronics.smartphone</td>\n",
       "      <td>sony</td>\n",
       "      <td>251676</td>\n",
       "      <td>2248</td>\n",
       "      <td>33</td>\n",
       "      <td>4</td>\n",
       "    </tr>\n",
       "    <tr>\n",
       "      <th>5547013</th>\n",
       "      <td>514916579</td>\n",
       "      <td>1004735</td>\n",
       "      <td>2053013555631882655</td>\n",
       "      <td>electronics.smartphone</td>\n",
       "      <td>sony</td>\n",
       "      <td>251676</td>\n",
       "      <td>2267</td>\n",
       "      <td>33</td>\n",
       "      <td>4</td>\n",
       "    </tr>\n",
       "    <tr>\n",
       "      <th>5547377</th>\n",
       "      <td>514916579</td>\n",
       "      <td>1004735</td>\n",
       "      <td>2053013555631882655</td>\n",
       "      <td>electronics.smartphone</td>\n",
       "      <td>sony</td>\n",
       "      <td>251676</td>\n",
       "      <td>2267</td>\n",
       "      <td>33</td>\n",
       "      <td>4</td>\n",
       "    </tr>\n",
       "    <tr>\n",
       "      <th>5547521</th>\n",
       "      <td>514916579</td>\n",
       "      <td>1004732</td>\n",
       "      <td>2053013555631882655</td>\n",
       "      <td>electronics.smartphone</td>\n",
       "      <td>sony</td>\n",
       "      <td>251676</td>\n",
       "      <td>2248</td>\n",
       "      <td>33</td>\n",
       "      <td>4</td>\n",
       "    </tr>\n",
       "    <tr>\n",
       "      <th>5557954</th>\n",
       "      <td>514916579</td>\n",
       "      <td>1004737</td>\n",
       "      <td>2053013555631882655</td>\n",
       "      <td>electronics.smartphone</td>\n",
       "      <td>sony</td>\n",
       "      <td>251676</td>\n",
       "      <td>6556</td>\n",
       "      <td>33</td>\n",
       "      <td>4</td>\n",
       "    </tr>\n",
       "    <tr>\n",
       "      <th>5559187</th>\n",
       "      <td>514916579</td>\n",
       "      <td>1004737</td>\n",
       "      <td>2053013555631882655</td>\n",
       "      <td>electronics.smartphone</td>\n",
       "      <td>sony</td>\n",
       "      <td>251676</td>\n",
       "      <td>6556</td>\n",
       "      <td>33</td>\n",
       "      <td>4</td>\n",
       "    </tr>\n",
       "    <tr>\n",
       "      <th>5559650</th>\n",
       "      <td>514916579</td>\n",
       "      <td>1004738</td>\n",
       "      <td>2053013555631882655</td>\n",
       "      <td>electronics.smartphone</td>\n",
       "      <td>sony</td>\n",
       "      <td>251676</td>\n",
       "      <td>6949</td>\n",
       "      <td>33</td>\n",
       "      <td>4</td>\n",
       "    </tr>\n",
       "    <tr>\n",
       "      <th>5560089</th>\n",
       "      <td>514916579</td>\n",
       "      <td>1004732</td>\n",
       "      <td>2053013555631882655</td>\n",
       "      <td>electronics.smartphone</td>\n",
       "      <td>sony</td>\n",
       "      <td>251676</td>\n",
       "      <td>2248</td>\n",
       "      <td>33</td>\n",
       "      <td>4</td>\n",
       "    </tr>\n",
       "    <tr>\n",
       "      <th>5560247</th>\n",
       "      <td>514916579</td>\n",
       "      <td>1004735</td>\n",
       "      <td>2053013555631882655</td>\n",
       "      <td>electronics.smartphone</td>\n",
       "      <td>sony</td>\n",
       "      <td>251676</td>\n",
       "      <td>2267</td>\n",
       "      <td>33</td>\n",
       "      <td>4</td>\n",
       "    </tr>\n",
       "    <tr>\n",
       "      <th>5560585</th>\n",
       "      <td>514916579</td>\n",
       "      <td>1004735</td>\n",
       "      <td>2053013555631882655</td>\n",
       "      <td>electronics.smartphone</td>\n",
       "      <td>sony</td>\n",
       "      <td>251676</td>\n",
       "      <td>2267</td>\n",
       "      <td>33</td>\n",
       "      <td>4</td>\n",
       "    </tr>\n",
       "    <tr>\n",
       "      <th>5563962</th>\n",
       "      <td>514916579</td>\n",
       "      <td>1004735</td>\n",
       "      <td>2053013555631882655</td>\n",
       "      <td>electronics.smartphone</td>\n",
       "      <td>sony</td>\n",
       "      <td>251676</td>\n",
       "      <td>2267</td>\n",
       "      <td>33</td>\n",
       "      <td>4</td>\n",
       "    </tr>\n",
       "    <tr>\n",
       "      <th>5566123</th>\n",
       "      <td>514916579</td>\n",
       "      <td>1004735</td>\n",
       "      <td>2053013555631882655</td>\n",
       "      <td>electronics.smartphone</td>\n",
       "      <td>sony</td>\n",
       "      <td>251676</td>\n",
       "      <td>2267</td>\n",
       "      <td>33</td>\n",
       "      <td>4</td>\n",
       "    </tr>\n",
       "    <tr>\n",
       "      <th>5608363</th>\n",
       "      <td>514916579</td>\n",
       "      <td>1005160</td>\n",
       "      <td>2053013555631882655</td>\n",
       "      <td>electronics.smartphone</td>\n",
       "      <td>xiaomi</td>\n",
       "      <td>251676</td>\n",
       "      <td>15</td>\n",
       "      <td>17</td>\n",
       "      <td>4</td>\n",
       "    </tr>\n",
       "    <tr>\n",
       "      <th>5608835</th>\n",
       "      <td>514916579</td>\n",
       "      <td>1005160</td>\n",
       "      <td>2053013555631882655</td>\n",
       "      <td>electronics.smartphone</td>\n",
       "      <td>xiaomi</td>\n",
       "      <td>251676</td>\n",
       "      <td>15</td>\n",
       "      <td>17</td>\n",
       "      <td>4</td>\n",
       "    </tr>\n",
       "    <tr>\n",
       "      <th>5609990</th>\n",
       "      <td>514916579</td>\n",
       "      <td>1004957</td>\n",
       "      <td>2053013555631882655</td>\n",
       "      <td>electronics.smartphone</td>\n",
       "      <td>xiaomi</td>\n",
       "      <td>251676</td>\n",
       "      <td>42</td>\n",
       "      <td>17</td>\n",
       "      <td>4</td>\n",
       "    </tr>\n",
       "    <tr>\n",
       "      <th>5610817</th>\n",
       "      <td>514916579</td>\n",
       "      <td>1004956</td>\n",
       "      <td>2053013555631882655</td>\n",
       "      <td>electronics.smartphone</td>\n",
       "      <td>xiaomi</td>\n",
       "      <td>251676</td>\n",
       "      <td>185</td>\n",
       "      <td>17</td>\n",
       "      <td>4</td>\n",
       "    </tr>\n",
       "    <tr>\n",
       "      <th>38157268</th>\n",
       "      <td>514916579</td>\n",
       "      <td>9600042</td>\n",
       "      <td>2053013561185141473</td>\n",
       "      <td>#unknown</td>\n",
       "      <td>dji</td>\n",
       "      <td>251676</td>\n",
       "      <td>9364</td>\n",
       "      <td>678</td>\n",
       "      <td>167</td>\n",
       "    </tr>\n",
       "    <tr>\n",
       "      <th>38159369</th>\n",
       "      <td>514916579</td>\n",
       "      <td>9600124</td>\n",
       "      <td>2053013561185141473</td>\n",
       "      <td>#unknown</td>\n",
       "      <td>dji</td>\n",
       "      <td>251676</td>\n",
       "      <td>1759</td>\n",
       "      <td>678</td>\n",
       "      <td>167</td>\n",
       "    </tr>\n",
       "    <tr>\n",
       "      <th>38165868</th>\n",
       "      <td>514916579</td>\n",
       "      <td>9600117</td>\n",
       "      <td>2053013561185141473</td>\n",
       "      <td>#unknown</td>\n",
       "      <td>dji</td>\n",
       "      <td>251676</td>\n",
       "      <td>10978</td>\n",
       "      <td>678</td>\n",
       "      <td>167</td>\n",
       "    </tr>\n",
       "  </tbody>\n",
       "</table>\n",
       "</div>"
      ],
      "text/plain": [
       "            user_id  product_id          category_id  \\\n",
       "3727059   514916579     4800358  2053013554658804075   \n",
       "3728011   514916579     4800358  2053013554658804075   \n",
       "3728680   514916579     4801033  2053013554658804075   \n",
       "3729091   514916579     4802068  2053013554658804075   \n",
       "5430728   514916579     1002550  2053013555631882655   \n",
       "5431564   514916579     1004739  2053013555631882655   \n",
       "5433716   514916579     1005161  2053013555631882655   \n",
       "5435458   514916579     1005161  2053013555631882655   \n",
       "5436921   514916579     1004957  2053013555631882655   \n",
       "5440323   514916579     1004957  2053013555631882655   \n",
       "5441628   514916579     1004956  2053013555631882655   \n",
       "5450423   514916579     1004836  2053013555631882655   \n",
       "5531637   514916579     1003328  2053013555631882655   \n",
       "5533251   514916579     1004730  2053013555631882655   \n",
       "5543137   514916579     1004910  2053013555631882655   \n",
       "5543803   514916579     1004730  2053013555631882655   \n",
       "5544630   514916579     1004730  2053013555631882655   \n",
       "5545139   514916579     1004732  2053013555631882655   \n",
       "5547013   514916579     1004735  2053013555631882655   \n",
       "5547377   514916579     1004735  2053013555631882655   \n",
       "5547521   514916579     1004732  2053013555631882655   \n",
       "5557954   514916579     1004737  2053013555631882655   \n",
       "5559187   514916579     1004737  2053013555631882655   \n",
       "5559650   514916579     1004738  2053013555631882655   \n",
       "5560089   514916579     1004732  2053013555631882655   \n",
       "5560247   514916579     1004735  2053013555631882655   \n",
       "5560585   514916579     1004735  2053013555631882655   \n",
       "5563962   514916579     1004735  2053013555631882655   \n",
       "5566123   514916579     1004735  2053013555631882655   \n",
       "5608363   514916579     1005160  2053013555631882655   \n",
       "5608835   514916579     1005160  2053013555631882655   \n",
       "5609990   514916579     1004957  2053013555631882655   \n",
       "5610817   514916579     1004956  2053013555631882655   \n",
       "38157268  514916579     9600042  2053013561185141473   \n",
       "38159369  514916579     9600124  2053013561185141473   \n",
       "38165868  514916579     9600117  2053013561185141473   \n",
       "\n",
       "                        category_code        brand  user_index  product_index  \\\n",
       "3727059   electronics.audio.headphone  plantronics      251676           1270   \n",
       "3728011   electronics.audio.headphone  plantronics      251676           1270   \n",
       "3728680   electronics.audio.headphone  plantronics      251676           1704   \n",
       "3729091   electronics.audio.headphone  plantronics      251676           5520   \n",
       "5430728        electronics.smartphone   blackberry      251676           3388   \n",
       "5431564        electronics.smartphone       xiaomi      251676             12   \n",
       "5433716        electronics.smartphone       xiaomi      251676             48   \n",
       "5435458        electronics.smartphone       xiaomi      251676             48   \n",
       "5436921        electronics.smartphone       xiaomi      251676             42   \n",
       "5440323        electronics.smartphone       xiaomi      251676             42   \n",
       "5441628        electronics.smartphone       xiaomi      251676            185   \n",
       "5450423        electronics.smartphone      samsung      251676             11   \n",
       "5531637        electronics.smartphone        nokia      251676           3112   \n",
       "5533251        electronics.smartphone         sony      251676            482   \n",
       "5543137        electronics.smartphone         sony      251676           3878   \n",
       "5543803        electronics.smartphone         sony      251676            482   \n",
       "5544630        electronics.smartphone         sony      251676            482   \n",
       "5545139        electronics.smartphone         sony      251676           2248   \n",
       "5547013        electronics.smartphone         sony      251676           2267   \n",
       "5547377        electronics.smartphone         sony      251676           2267   \n",
       "5547521        electronics.smartphone         sony      251676           2248   \n",
       "5557954        electronics.smartphone         sony      251676           6556   \n",
       "5559187        electronics.smartphone         sony      251676           6556   \n",
       "5559650        electronics.smartphone         sony      251676           6949   \n",
       "5560089        electronics.smartphone         sony      251676           2248   \n",
       "5560247        electronics.smartphone         sony      251676           2267   \n",
       "5560585        electronics.smartphone         sony      251676           2267   \n",
       "5563962        electronics.smartphone         sony      251676           2267   \n",
       "5566123        electronics.smartphone         sony      251676           2267   \n",
       "5608363        electronics.smartphone       xiaomi      251676             15   \n",
       "5608835        electronics.smartphone       xiaomi      251676             15   \n",
       "5609990        electronics.smartphone       xiaomi      251676             42   \n",
       "5610817        electronics.smartphone       xiaomi      251676            185   \n",
       "38157268                     #unknown          dji      251676           9364   \n",
       "38159369                     #unknown          dji      251676           1759   \n",
       "38165868                     #unknown          dji      251676          10978   \n",
       "\n",
       "          brand_index  category_index  \n",
       "3727059           161              14  \n",
       "3728011           161              14  \n",
       "3728680           161              14  \n",
       "3729091           161              14  \n",
       "5430728           844               4  \n",
       "5431564            17               4  \n",
       "5433716            17               4  \n",
       "5435458            17               4  \n",
       "5436921            17               4  \n",
       "5440323            17               4  \n",
       "5441628            17               4  \n",
       "5450423            11               4  \n",
       "5531637            41               4  \n",
       "5533251            33               4  \n",
       "5543137            33               4  \n",
       "5543803            33               4  \n",
       "5544630            33               4  \n",
       "5545139            33               4  \n",
       "5547013            33               4  \n",
       "5547377            33               4  \n",
       "5547521            33               4  \n",
       "5557954            33               4  \n",
       "5559187            33               4  \n",
       "5559650            33               4  \n",
       "5560089            33               4  \n",
       "5560247            33               4  \n",
       "5560585            33               4  \n",
       "5563962            33               4  \n",
       "5566123            33               4  \n",
       "5608363            17               4  \n",
       "5608835            17               4  \n",
       "5609990            17               4  \n",
       "5610817            17               4  \n",
       "38157268          678             167  \n",
       "38159369          678             167  \n",
       "38165868          678             167  "
      ]
     },
     "execution_count": 24,
     "metadata": {},
     "output_type": "execute_result"
    }
   ],
   "source": [
    "import random\n",
    "\n",
    "random_user_id = random.choice(list(recommendations_dict.keys()))\n",
    "print(random_user_id)\n",
    "\n",
    "train_df[train_df['user_id'] == random_user_id]"
   ]
  },
  {
   "cell_type": "code",
   "execution_count": 25,
   "metadata": {},
   "outputs": [
    {
     "name": "stdout",
     "output_type": "stream",
     "text": [
      "('electronics.smartphone',)\n",
      "('electronics.smartphone',)\n",
      "('electronics.audio.headphone',)\n",
      "('electronics.smartphone',)\n",
      "('electronics.smartphone',)\n",
      "('electronics.smartphone',)\n",
      "('electronics.smartphone',)\n",
      "('electronics.smartphone',)\n",
      "('electronics.smartphone',)\n",
      "('#unknown',)\n",
      "('electronics.smartphone',)\n",
      "('electronics.smartphone',)\n",
      "('electronics.smartphone',)\n",
      "('electronics.audio.headphone',)\n",
      "('electronics.audio.headphone',)\n",
      "('electronics.smartphone',)\n",
      "('electronics.smartphone',)\n",
      "('electronics.smartphone',)\n",
      "('electronics.smartphone',)\n",
      "('electronics.smartphone',)\n"
     ]
    },
    {
     "name": "stderr",
     "output_type": "stream",
     "text": [
      "/var/folders/61/z_y23ln573b2r1g8y664sldc0000gn/T/ipykernel_10312/1566795865.py:2: DeprecationWarning: DataFrameGroupBy.apply operated on the grouping columns. This behavior is deprecated, and in a future version of pandas the grouping columns will be excluded from the operation. Either pass `include_groups=False` to exclude the groupings or explicitly select the grouping columns after groupby to silence this warning.\n",
      "  recommend_product_dict = train_df[train_df['product_id'].isin(recommend_product_ids)].groupby('product_id').apply(\n"
     ]
    }
   ],
   "source": [
    "recommend_product_ids = recommendations_dict[random_user_id]\n",
    "recommend_product_dict = train_df[train_df['product_id'].isin(recommend_product_ids)].groupby('product_id').apply(\n",
    "    lambda x: tuple(x[['category_code']].iloc[0])\n",
    ").to_dict()\n",
    "\n",
    "for product_id in recommend_product_ids[:20]:\n",
    "    category_code = recommend_product_dict[product_id]\n",
    "    print(category_code)"
   ]
  },
  {
   "cell_type": "code",
   "execution_count": null,
   "metadata": {},
   "outputs": [],
   "source": []
  }
 ],
 "metadata": {
  "kernelspec": {
   "display_name": "recsys",
   "language": "python",
   "name": "python3"
  },
  "language_info": {
   "codemirror_mode": {
    "name": "ipython",
    "version": 3
   },
   "file_extension": ".py",
   "mimetype": "text/x-python",
   "name": "python",
   "nbconvert_exporter": "python",
   "pygments_lexer": "ipython3",
   "version": "3.12.0"
  }
 },
 "nbformat": 4,
 "nbformat_minor": 2
}
