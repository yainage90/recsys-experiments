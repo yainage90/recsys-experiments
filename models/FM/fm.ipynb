{
 "cells": [
  {
   "cell_type": "code",
   "execution_count": 1,
   "metadata": {},
   "outputs": [],
   "source": [
    "import numpy as np\n",
    "import pandas as pd\n",
    "import random\n",
    "from tqdm import tqdm\n",
    "\n",
    "import torch\n",
    "import torch.nn as nn\n",
    "from torch.utils.data import Dataset, DataLoader\n",
    "import matplotlib.pyplot as plt"
   ]
  },
  {
   "cell_type": "code",
   "execution_count": 2,
   "metadata": {},
   "outputs": [
    {
     "data": {
      "text/html": [
       "<div>\n",
       "<style scoped>\n",
       "    .dataframe tbody tr th:only-of-type {\n",
       "        vertical-align: middle;\n",
       "    }\n",
       "\n",
       "    .dataframe tbody tr th {\n",
       "        vertical-align: top;\n",
       "    }\n",
       "\n",
       "    .dataframe thead th {\n",
       "        text-align: right;\n",
       "    }\n",
       "</style>\n",
       "<table border=\"1\" class=\"dataframe\">\n",
       "  <thead>\n",
       "    <tr style=\"text-align: right;\">\n",
       "      <th></th>\n",
       "      <th>user_id</th>\n",
       "      <th>product_id</th>\n",
       "      <th>category_id</th>\n",
       "      <th>category_code</th>\n",
       "      <th>brand</th>\n",
       "    </tr>\n",
       "  </thead>\n",
       "  <tbody>\n",
       "    <tr>\n",
       "      <th>0</th>\n",
       "      <td>541312140</td>\n",
       "      <td>44600062</td>\n",
       "      <td>2103807459595387724</td>\n",
       "      <td>#unknown</td>\n",
       "      <td>shiseido</td>\n",
       "    </tr>\n",
       "    <tr>\n",
       "      <th>1</th>\n",
       "      <td>554748717</td>\n",
       "      <td>3900821</td>\n",
       "      <td>2053013552326770905</td>\n",
       "      <td>appliances.environment.water_heater</td>\n",
       "      <td>aqua</td>\n",
       "    </tr>\n",
       "    <tr>\n",
       "      <th>2</th>\n",
       "      <td>519107250</td>\n",
       "      <td>17200506</td>\n",
       "      <td>2053013559792632471</td>\n",
       "      <td>furniture.living_room.sofa</td>\n",
       "      <td>#unknown</td>\n",
       "    </tr>\n",
       "    <tr>\n",
       "      <th>3</th>\n",
       "      <td>550050854</td>\n",
       "      <td>1307067</td>\n",
       "      <td>2053013558920217191</td>\n",
       "      <td>computers.notebook</td>\n",
       "      <td>lenovo</td>\n",
       "    </tr>\n",
       "    <tr>\n",
       "      <th>4</th>\n",
       "      <td>535871217</td>\n",
       "      <td>1004237</td>\n",
       "      <td>2053013555631882655</td>\n",
       "      <td>electronics.smartphone</td>\n",
       "      <td>apple</td>\n",
       "    </tr>\n",
       "  </tbody>\n",
       "</table>\n",
       "</div>"
      ],
      "text/plain": [
       "     user_id  product_id          category_id  \\\n",
       "0  541312140    44600062  2103807459595387724   \n",
       "1  554748717     3900821  2053013552326770905   \n",
       "2  519107250    17200506  2053013559792632471   \n",
       "3  550050854     1307067  2053013558920217191   \n",
       "4  535871217     1004237  2053013555631882655   \n",
       "\n",
       "                         category_code     brand  \n",
       "0                             #unknown  shiseido  \n",
       "1  appliances.environment.water_heater      aqua  \n",
       "2           furniture.living_room.sofa  #unknown  \n",
       "3                   computers.notebook    lenovo  \n",
       "4               electronics.smartphone     apple  "
      ]
     },
     "execution_count": 2,
     "metadata": {},
     "output_type": "execute_result"
    }
   ],
   "source": [
    "df = pd.read_feather('../../dataset/preprocessed_data.feather')[['user_id', 'product_id', 'category_id', 'category_code', 'brand']]\n",
    "df.head()"
   ]
  },
  {
   "cell_type": "code",
   "execution_count": 3,
   "metadata": {},
   "outputs": [
    {
     "name": "stdout",
     "output_type": "stream",
     "text": [
      "train: 38203885, test: 4244877\n"
     ]
    }
   ],
   "source": [
    "total_rows = len(df)\n",
    "\n",
    "train_size = int(total_rows * 0.9)\n",
    "\n",
    "train_df = df.iloc[:train_size]\n",
    "test_df = df.iloc[train_size:]\n",
    "\n",
    "print(f'train: {len(train_df)}, test: {len(test_df)}')\n",
    "\n",
    "del df"
   ]
  },
  {
   "cell_type": "code",
   "execution_count": 4,
   "metadata": {},
   "outputs": [],
   "source": [
    "user_counts = train_df['user_id'].value_counts().reset_index()[['user_id', 'count']]\n",
    "unique_user_ids = user_counts[user_counts['count'] >= 10]['user_id']\n",
    "user_id_to_index = {user_id: index for index, user_id in enumerate(unique_user_ids)}\n",
    "user_index_to_id = {index: user_id for index, user_id in enumerate(unique_user_ids)}\n",
    "\n",
    "product_counts = train_df['product_id'].value_counts().reset_index()[['product_id', 'count']]\n",
    "unique_product_ids = product_counts[product_counts['count'] >= 5]['product_id']\n",
    "product_id_to_index = {product_id: index for index, product_id in enumerate(unique_product_ids)}\n",
    "product_index_to_id = {index: product_id for index, product_id in enumerate(unique_product_ids)}\n",
    "\n",
    "del user_counts, product_counts"
   ]
  },
  {
   "cell_type": "code",
   "execution_count": 5,
   "metadata": {},
   "outputs": [],
   "source": [
    "unique_brands = train_df['brand'].unique()\n",
    "brand_id_to_index = {brand: index for index, brand in enumerate(unique_brands)}\n",
    "brand_index_to_id = {index: brand for index, brand in enumerate(unique_brands)}\n",
    "\n",
    "unique_category_ids = train_df['category_id'].unique()\n",
    "category_id_to_index = {category_id: index for index, category_id in enumerate(unique_category_ids)}\n",
    "category_index_to_id = {index: category_id for index, category_id in enumerate(unique_category_ids)}"
   ]
  },
  {
   "cell_type": "code",
   "execution_count": 6,
   "metadata": {},
   "outputs": [
    {
     "name": "stdout",
     "output_type": "stream",
     "text": [
      "unique user ids: 890624\n",
      "unique product ids: 130913\n",
      "unique brands: 3299\n",
      "unique category ids: 613\n",
      "train: 32022554, test: 2253627\n"
     ]
    },
    {
     "data": {
      "text/html": [
       "<div>\n",
       "<style scoped>\n",
       "    .dataframe tbody tr th:only-of-type {\n",
       "        vertical-align: middle;\n",
       "    }\n",
       "\n",
       "    .dataframe tbody tr th {\n",
       "        vertical-align: top;\n",
       "    }\n",
       "\n",
       "    .dataframe thead th {\n",
       "        text-align: right;\n",
       "    }\n",
       "</style>\n",
       "<table border=\"1\" class=\"dataframe\">\n",
       "  <thead>\n",
       "    <tr style=\"text-align: right;\">\n",
       "      <th></th>\n",
       "      <th>user_id</th>\n",
       "      <th>product_id</th>\n",
       "      <th>category_id</th>\n",
       "      <th>category_code</th>\n",
       "      <th>brand</th>\n",
       "      <th>user_index</th>\n",
       "      <th>product_index</th>\n",
       "      <th>brand_index</th>\n",
       "      <th>category_index</th>\n",
       "    </tr>\n",
       "  </thead>\n",
       "  <tbody>\n",
       "    <tr>\n",
       "      <th>0</th>\n",
       "      <td>541312140</td>\n",
       "      <td>44600062</td>\n",
       "      <td>2103807459595387724</td>\n",
       "      <td>#unknown</td>\n",
       "      <td>shiseido</td>\n",
       "      <td>32147</td>\n",
       "      <td>28939</td>\n",
       "      <td>0</td>\n",
       "      <td>0</td>\n",
       "    </tr>\n",
       "    <tr>\n",
       "      <th>2</th>\n",
       "      <td>519107250</td>\n",
       "      <td>17200506</td>\n",
       "      <td>2053013559792632471</td>\n",
       "      <td>furniture.living_room.sofa</td>\n",
       "      <td>#unknown</td>\n",
       "      <td>462789</td>\n",
       "      <td>5410</td>\n",
       "      <td>2</td>\n",
       "      <td>2</td>\n",
       "    </tr>\n",
       "    <tr>\n",
       "      <th>3</th>\n",
       "      <td>550050854</td>\n",
       "      <td>1307067</td>\n",
       "      <td>2053013558920217191</td>\n",
       "      <td>computers.notebook</td>\n",
       "      <td>lenovo</td>\n",
       "      <td>427246</td>\n",
       "      <td>213</td>\n",
       "      <td>3</td>\n",
       "      <td>3</td>\n",
       "    </tr>\n",
       "    <tr>\n",
       "      <th>4</th>\n",
       "      <td>535871217</td>\n",
       "      <td>1004237</td>\n",
       "      <td>2053013555631882655</td>\n",
       "      <td>electronics.smartphone</td>\n",
       "      <td>apple</td>\n",
       "      <td>84837</td>\n",
       "      <td>43</td>\n",
       "      <td>4</td>\n",
       "      <td>4</td>\n",
       "    </tr>\n",
       "    <tr>\n",
       "      <th>5</th>\n",
       "      <td>512742880</td>\n",
       "      <td>1480613</td>\n",
       "      <td>2053013561092866779</td>\n",
       "      <td>computers.desktop</td>\n",
       "      <td>pulser</td>\n",
       "      <td>140152</td>\n",
       "      <td>11240</td>\n",
       "      <td>5</td>\n",
       "      <td>5</td>\n",
       "    </tr>\n",
       "  </tbody>\n",
       "</table>\n",
       "</div>"
      ],
      "text/plain": [
       "     user_id  product_id          category_id               category_code  \\\n",
       "0  541312140    44600062  2103807459595387724                    #unknown   \n",
       "2  519107250    17200506  2053013559792632471  furniture.living_room.sofa   \n",
       "3  550050854     1307067  2053013558920217191          computers.notebook   \n",
       "4  535871217     1004237  2053013555631882655      electronics.smartphone   \n",
       "5  512742880     1480613  2053013561092866779           computers.desktop   \n",
       "\n",
       "      brand  user_index  product_index  brand_index  category_index  \n",
       "0  shiseido       32147          28939            0               0  \n",
       "2  #unknown      462789           5410            2               2  \n",
       "3    lenovo      427246            213            3               3  \n",
       "4     apple       84837             43            4               4  \n",
       "5    pulser      140152          11240            5               5  "
      ]
     },
     "execution_count": 6,
     "metadata": {},
     "output_type": "execute_result"
    }
   ],
   "source": [
    "train_df = train_df[\n",
    "    (train_df['user_id'].isin(unique_user_ids)) & \n",
    "    (train_df['product_id'].isin(unique_product_ids)) &\n",
    "    (train_df['brand'].isin(unique_brands)) &\n",
    "    (train_df['category_id'].isin(unique_category_ids))\n",
    "]\n",
    "\n",
    "test_df = test_df[\n",
    "    (test_df['user_id'].isin(unique_user_ids)) & \n",
    "    (test_df['product_id'].isin(unique_product_ids)) &\n",
    "    (test_df['brand'].isin(unique_brands)) &\n",
    "    (test_df['category_id'].isin(unique_category_ids))\n",
    "]\n",
    "\n",
    "train_df['user_index'] = [user_id_to_index[user_id] for user_id in train_df['user_id']]\n",
    "train_df['product_index'] = [product_id_to_index[product_id] for product_id in train_df['product_id']]\n",
    "train_df['brand_index'] = [brand_id_to_index[brand] for brand in train_df['brand']]\n",
    "train_df['category_index'] = [category_id_to_index[category_id] for category_id in train_df['category_id']]\n",
    "\n",
    "test_df['user_index'] = [user_id_to_index[user_id] for user_id in test_df['user_id']]\n",
    "test_df['product_index'] = [product_id_to_index[product_id] for product_id in test_df['product_id']]\n",
    "test_df['brand_index'] = [brand_id_to_index[brand] for brand in test_df['brand']]\n",
    "test_df['category_index'] = [category_id_to_index[category_id] for category_id in test_df['category_id']]\n",
    "\n",
    "print(f'unique user ids: {len(unique_user_ids)}')\n",
    "print(f'unique product ids: {len(unique_product_ids)}')\n",
    "print(f'unique brands: {len(unique_brands)}')\n",
    "print(f'unique category ids: {len(unique_category_ids)}')\n",
    "print(f'train: {len(train_df)}, test: {len(test_df)}')\n",
    "\n",
    "train_df.head()"
   ]
  },
  {
   "cell_type": "code",
   "execution_count": 8,
   "metadata": {},
   "outputs": [],
   "source": [
    "class FMDataset(Dataset):\n",
    "    def __init__(self, df):\n",
    "        self.data = []\n",
    "        for user, product, brand, category in df[['user_index', 'product_index', 'brand_index', 'category_index']].values:\n",
    "            self.data.append([int(user), int(product), int(brand), int(category)])\n",
    "\n",
    "    def __len__(self):\n",
    "        return len(self.data)\n",
    "\n",
    "    def __getitem__(self, idx):\n",
    "        return self.data[idx]\n",
    "\n",
    "train_dataset = FMDataset(train_df)\n",
    "test_dataset = FMDataset(test_df)"
   ]
  },
  {
   "cell_type": "code",
   "execution_count": 9,
   "metadata": {},
   "outputs": [
    {
     "name": "stdout",
     "output_type": "stream",
     "text": [
      "train:32022554, test: 2253627\n",
      "[32147, 28939, 0, 0]\n",
      "[183080, 363, 53, 4]\n"
     ]
    }
   ],
   "source": [
    "print(f'train:{len(train_dataset)}, test: {len(test_dataset)}')\n",
    "print(train_dataset[0])\n",
    "print(test_dataset[0])"
   ]
  },
  {
   "cell_type": "code",
   "execution_count": 10,
   "metadata": {},
   "outputs": [],
   "source": [
    "# For negative sampling\n",
    "user_index_to_viewed_product_indices = train_df.groupby('user_index')['product_index'].agg(set).to_dict()\n",
    "product_index_to_brand_index = dict(zip(train_df['product_index'], train_df['brand_index']))\n",
    "product_index_to_category_index = dict(zip(train_df['product_index'], train_df['category_index']))\n",
    "total_product_indices = train_df['product_index'].unique().tolist()"
   ]
  },
  {
   "cell_type": "code",
   "execution_count": 11,
   "metadata": {},
   "outputs": [],
   "source": [
    "def collate_fn(batch):\n",
    "    users = []\n",
    "    products = []\n",
    "    brands = []\n",
    "    categories = []\n",
    "\n",
    "    neg_users = []\n",
    "    neg_products = []\n",
    "    neg_brands = []\n",
    "    neg_categories = []\n",
    "    \n",
    "    for row in batch:\n",
    "        user = row[0]\n",
    "        product = row[1]\n",
    "        brand = row[2]\n",
    "        category = row[3]\n",
    "\n",
    "        user_viewed_product_indices = user_index_to_viewed_product_indices.get(user, [])\n",
    "        negative_product = None\n",
    "        while True:\n",
    "            negative_product = random.choice(total_product_indices)\n",
    "            if negative_product not in user_viewed_product_indices:\n",
    "                break\n",
    "\n",
    "        negative_brand = product_index_to_brand_index[negative_product]\n",
    "        negative_category = product_index_to_category_index[negative_product]\n",
    "\n",
    "        users.append(user)\n",
    "        products.append(product)\n",
    "        brands.append(brand)\n",
    "        categories.append(category)\n",
    "\n",
    "        neg_users.append(user)\n",
    "        neg_products.append(negative_product)\n",
    "        neg_brands.append(negative_brand)\n",
    "        neg_categories.append(negative_category)\n",
    "\n",
    "    pos_inputs = []\n",
    "    for user, product, brand, category in zip(users, products, brands, categories):\n",
    "        pos_inputs.append(([user, product, brand, category]))\n",
    "\n",
    "    neg_inputs = []\n",
    "    for user, product, brand, category in zip(neg_users, neg_products, neg_brands, neg_categories):\n",
    "        neg_inputs.append(([user, product, brand, category]))\n",
    "    \n",
    "    return torch.LongTensor(pos_inputs), torch.LongTensor(neg_inputs)"
   ]
  },
  {
   "cell_type": "code",
   "execution_count": 12,
   "metadata": {},
   "outputs": [
    {
     "name": "stdout",
     "output_type": "stream",
     "text": [
      "train: 7819, test: 551\n"
     ]
    }
   ],
   "source": [
    "batch_size = 4096\n",
    "train_loader = DataLoader(train_dataset, batch_size=batch_size, shuffle=True, collate_fn=collate_fn)\n",
    "test_loader = DataLoader(test_dataset, batch_size=batch_size, shuffle=False, collate_fn=collate_fn)\n",
    "\n",
    "print(f'train: {len(train_loader)}, test: {len(test_loader)}')"
   ]
  },
  {
   "cell_type": "code",
   "execution_count": 13,
   "metadata": {},
   "outputs": [
    {
     "name": "stdout",
     "output_type": "stream",
     "text": [
      "device: mps\n"
     ]
    }
   ],
   "source": [
    "device = torch.device('mps') if torch.backends.mps.is_available() else torch.device('cpu')\n",
    "print(f'device: {device}')"
   ]
  },
  {
   "cell_type": "code",
   "execution_count": 14,
   "metadata": {},
   "outputs": [],
   "source": [
    "class FM(nn.Module):\n",
    "    def __init__(\n",
    "        self,\n",
    "        field_dims,\n",
    "        n_factors,\n",
    "    ):\n",
    "        super(FM, self).__init__()\n",
    "\n",
    "        self.fc = nn.Embedding(sum(field_dims), 1)\n",
    "        self.bias = nn.Parameter(torch.zeros((1,)))\n",
    "        self.offsets = np.array((0, *np.cumsum(field_dims)[:-1]), dtype=np.long)\n",
    "\n",
    "        self.embedding = nn.Embedding(sum(field_dims), n_factors)\n",
    "        \n",
    "    def forward(self, x):\n",
    "        # offsets\n",
    "        x = x + x.new_tensor(self.offsets).unsqueeze(0)\n",
    "\n",
    "        # linear out\n",
    "        linear_out = self.bias + self.fc(x).sum(dim=1)\n",
    "\n",
    "        # interaction between features\n",
    "        square_of_sum = torch.sum(self.embedding(x), dim=1) ** 2\n",
    "        sum_of_square = torch.sum(self.embedding(x) ** 2, dim=1)\n",
    "        interaction_out = 0.5 * (square_of_sum - sum_of_square).sum(dim=1, keepdim=True)\n",
    "\n",
    "        out = linear_out + interaction_out\n",
    "\n",
    "        return out\n",
    "\n",
    "\n",
    "class BPRLoss(nn.Module):\n",
    "    def __init__(self, **kwargs):\n",
    "        super(BPRLoss, self).__init__(**kwargs)\n",
    "        self.sigmoid = nn.Sigmoid()\n",
    "\n",
    "    def forward(self, positive, negative):\n",
    "        distances = positive - negative\n",
    "        loss = -torch.sum(torch.log(self.sigmoid(distances)))\n",
    "        return loss"
   ]
  },
  {
   "cell_type": "code",
   "execution_count": 18,
   "metadata": {},
   "outputs": [],
   "source": [
    "def create_model():\n",
    "    return FM(\n",
    "        field_dims=[len(unique_user_ids), len(unique_product_ids), len(unique_brands), len(unique_category_ids)],\n",
    "        n_factors=8,\n",
    "    ).to(device)\n",
    "\n",
    "model = create_model()\n",
    "optimizer = torch.optim.Adam(model.parameters(), lr=1e-3, weight_decay=1e-5)\n",
    "criterion = BPRLoss().to(device)"
   ]
  },
  {
   "cell_type": "code",
   "execution_count": 19,
   "metadata": {},
   "outputs": [],
   "source": [
    "def train(model, optimizer, criterion, dataloader):\n",
    "    model.train()\n",
    "    total_loss = 0\n",
    "    total = 0\n",
    "\n",
    "    for pos_inputs, neg_inputs in tqdm(dataloader, desc=\"Train\"):\n",
    "        pos_outputs = model(pos_inputs.to(device))\n",
    "        neg_outputs = model(neg_inputs.to(device))\n",
    "        loss = criterion(pos_outputs, neg_outputs)\n",
    "        \n",
    "        optimizer.zero_grad()\n",
    "        loss.backward()\n",
    "        optimizer.step()\n",
    "\n",
    "        total_loss += loss.item()\n",
    "        total += pos_inputs.size(0)\n",
    "\n",
    "    avg_loss = total_loss / len(dataloader)\n",
    "    return avg_loss\n",
    "\n",
    "def evaluate(model, criterion, dataloader):\n",
    "    model.eval()\n",
    "    total_loss = 0\n",
    "    total = 0\n",
    "\n",
    "    with torch.no_grad():\n",
    "        for pos_inputs, neg_inputs in tqdm(dataloader, desc=\"Eval\"):\n",
    "            pos_outputs = model(pos_inputs.to(device))\n",
    "            neg_outputs = model(neg_inputs.to(device))\n",
    "            loss = criterion(pos_outputs, neg_outputs)\n",
    "\n",
    "            total_loss += loss.item()\n",
    "            total += pos_inputs.size(0)\n",
    "\n",
    "    avg_loss = total_loss / len(dataloader)\n",
    "    return avg_loss"
   ]
  },
  {
   "cell_type": "code",
   "execution_count": 20,
   "metadata": {},
   "outputs": [
    {
     "name": "stderr",
     "output_type": "stream",
     "text": [
      "Train: 100%|██████████| 7819/7819 [05:31<00:00, 23.56it/s] \n",
      "Eval: 100%|██████████| 551/551 [00:06<00:00, 83.03it/s]\n"
     ]
    },
    {
     "name": "stdout",
     "output_type": "stream",
     "text": [
      "Epoch 1, Train Loss: 3384.0560, Eval Loss: 2088.0029\n"
     ]
    },
    {
     "name": "stderr",
     "output_type": "stream",
     "text": [
      "Train: 100%|██████████| 7819/7819 [06:03<00:00, 21.53it/s]  \n",
      "Eval: 100%|██████████| 551/551 [00:10<00:00, 52.25it/s]\n"
     ]
    },
    {
     "name": "stdout",
     "output_type": "stream",
     "text": [
      "Epoch 2, Train Loss: 1415.4321, Eval Loss: 1564.5861\n"
     ]
    },
    {
     "name": "stderr",
     "output_type": "stream",
     "text": [
      "Train: 100%|██████████| 7819/7819 [04:40<00:00, 27.92it/s]\n",
      "Eval: 100%|██████████| 551/551 [00:06<00:00, 88.06it/s]\n"
     ]
    },
    {
     "name": "stdout",
     "output_type": "stream",
     "text": [
      "Epoch 3, Train Loss: 1047.0107, Eval Loss: 1333.3536\n"
     ]
    },
    {
     "name": "stderr",
     "output_type": "stream",
     "text": [
      "Train: 100%|██████████| 7819/7819 [04:55<00:00, 26.44it/s]\n",
      "Eval: 100%|██████████| 551/551 [00:06<00:00, 89.33it/s]\n"
     ]
    },
    {
     "name": "stdout",
     "output_type": "stream",
     "text": [
      "Epoch 4, Train Loss: 857.3340, Eval Loss: 1200.0498\n"
     ]
    },
    {
     "name": "stderr",
     "output_type": "stream",
     "text": [
      "Train: 100%|██████████| 7819/7819 [05:12<00:00, 25.04it/s] \n",
      "Eval: 100%|██████████| 551/551 [00:06<00:00, 89.28it/s]\n"
     ]
    },
    {
     "name": "stdout",
     "output_type": "stream",
     "text": [
      "Epoch 5, Train Loss: 732.4294, Eval Loss: 1113.9191\n"
     ]
    },
    {
     "name": "stderr",
     "output_type": "stream",
     "text": [
      "Train: 100%|██████████| 7819/7819 [05:26<00:00, 23.93it/s]\n",
      "Eval: 100%|██████████| 551/551 [00:10<00:00, 53.87it/s]\n"
     ]
    },
    {
     "name": "stdout",
     "output_type": "stream",
     "text": [
      "Epoch 6, Train Loss: 632.7256, Eval Loss: 1044.8442\n"
     ]
    },
    {
     "name": "stderr",
     "output_type": "stream",
     "text": [
      "Train: 100%|██████████| 7819/7819 [16:29<00:00,  7.90it/s]   \n",
      "Eval: 100%|██████████| 551/551 [00:07<00:00, 77.33it/s]\n"
     ]
    },
    {
     "name": "stdout",
     "output_type": "stream",
     "text": [
      "Epoch 7, Train Loss: 547.1774, Eval Loss: 998.7610\n"
     ]
    },
    {
     "name": "stderr",
     "output_type": "stream",
     "text": [
      "Train: 100%|██████████| 7819/7819 [07:24<00:00, 17.60it/s]  \n",
      "Eval: 100%|██████████| 551/551 [00:06<00:00, 83.35it/s]\n"
     ]
    },
    {
     "name": "stdout",
     "output_type": "stream",
     "text": [
      "Epoch 8, Train Loss: 474.0461, Eval Loss: 963.5260\n"
     ]
    },
    {
     "name": "stderr",
     "output_type": "stream",
     "text": [
      "Train: 100%|██████████| 7819/7819 [07:26<00:00, 17.51it/s] \n",
      "Eval: 100%|██████████| 551/551 [00:06<00:00, 86.50it/s]\n"
     ]
    },
    {
     "name": "stdout",
     "output_type": "stream",
     "text": [
      "Epoch 9, Train Loss: 412.6763, Eval Loss: 928.4718\n"
     ]
    },
    {
     "name": "stderr",
     "output_type": "stream",
     "text": [
      "Train: 100%|██████████| 7819/7819 [06:13<00:00, 20.91it/s]  \n",
      "Eval: 100%|██████████| 551/551 [00:10<00:00, 51.13it/s]\n"
     ]
    },
    {
     "name": "stdout",
     "output_type": "stream",
     "text": [
      "Epoch 10, Train Loss: 364.2057, Eval Loss: 903.2717\n"
     ]
    },
    {
     "name": "stderr",
     "output_type": "stream",
     "text": [
      "Train: 100%|██████████| 7819/7819 [06:38<00:00, 19.60it/s] \n",
      "Eval: 100%|██████████| 551/551 [00:06<00:00, 79.55it/s]\n"
     ]
    },
    {
     "name": "stdout",
     "output_type": "stream",
     "text": [
      "Epoch 11, Train Loss: 326.0224, Eval Loss: 882.9252\n"
     ]
    },
    {
     "name": "stderr",
     "output_type": "stream",
     "text": [
      "Train: 100%|██████████| 7819/7819 [06:31<00:00, 19.98it/s]  \n",
      "Eval: 100%|██████████| 551/551 [00:06<00:00, 85.83it/s]\n"
     ]
    },
    {
     "name": "stdout",
     "output_type": "stream",
     "text": [
      "Epoch 12, Train Loss: 296.3732, Eval Loss: 867.0378\n"
     ]
    },
    {
     "name": "stderr",
     "output_type": "stream",
     "text": [
      "Train: 100%|██████████| 7819/7819 [06:16<00:00, 20.77it/s]\n",
      "Eval: 100%|██████████| 551/551 [00:06<00:00, 87.70it/s]\n"
     ]
    },
    {
     "name": "stdout",
     "output_type": "stream",
     "text": [
      "Epoch 13, Train Loss: 273.5386, Eval Loss: 854.0844\n"
     ]
    },
    {
     "name": "stderr",
     "output_type": "stream",
     "text": [
      "Train: 100%|██████████| 7819/7819 [05:38<00:00, 23.13it/s]  \n",
      "Eval: 100%|██████████| 551/551 [00:10<00:00, 52.70it/s]\n"
     ]
    },
    {
     "name": "stdout",
     "output_type": "stream",
     "text": [
      "Epoch 14, Train Loss: 255.6642, Eval Loss: 842.6022\n"
     ]
    },
    {
     "name": "stderr",
     "output_type": "stream",
     "text": [
      "Train: 100%|██████████| 7819/7819 [06:31<00:00, 19.96it/s]  \n",
      "Eval: 100%|██████████| 551/551 [00:06<00:00, 88.29it/s]\n"
     ]
    },
    {
     "name": "stdout",
     "output_type": "stream",
     "text": [
      "Epoch 15, Train Loss: 241.3951, Eval Loss: 833.6270\n"
     ]
    },
    {
     "name": "stderr",
     "output_type": "stream",
     "text": [
      "Train: 100%|██████████| 7819/7819 [07:29<00:00, 17.39it/s]  \n",
      "Eval: 100%|██████████| 551/551 [00:06<00:00, 83.48it/s]\n"
     ]
    },
    {
     "name": "stdout",
     "output_type": "stream",
     "text": [
      "Epoch 16, Train Loss: 230.5435, Eval Loss: 826.8744\n"
     ]
    },
    {
     "name": "stderr",
     "output_type": "stream",
     "text": [
      "Train: 100%|██████████| 7819/7819 [06:25<00:00, 20.26it/s]  \n",
      "Eval: 100%|██████████| 551/551 [00:06<00:00, 86.91it/s]\n"
     ]
    },
    {
     "name": "stdout",
     "output_type": "stream",
     "text": [
      "Epoch 17, Train Loss: 221.2734, Eval Loss: 817.8428\n"
     ]
    },
    {
     "name": "stderr",
     "output_type": "stream",
     "text": [
      "Train: 100%|██████████| 7819/7819 [06:29<00:00, 20.09it/s]\n",
      "Eval: 100%|██████████| 551/551 [00:11<00:00, 48.99it/s]\n"
     ]
    },
    {
     "name": "stdout",
     "output_type": "stream",
     "text": [
      "Epoch 18, Train Loss: 213.8865, Eval Loss: 816.6720\n"
     ]
    },
    {
     "name": "stderr",
     "output_type": "stream",
     "text": [
      "Train: 100%|██████████| 7819/7819 [06:00<00:00, 21.72it/s]\n",
      "Eval: 100%|██████████| 551/551 [00:07<00:00, 76.34it/s]\n"
     ]
    },
    {
     "name": "stdout",
     "output_type": "stream",
     "text": [
      "Epoch 19, Train Loss: 207.4994, Eval Loss: 812.3788\n"
     ]
    },
    {
     "name": "stderr",
     "output_type": "stream",
     "text": [
      "Train: 100%|██████████| 7819/7819 [06:24<00:00, 20.32it/s] \n",
      "Eval: 100%|██████████| 551/551 [00:06<00:00, 78.84it/s]\n"
     ]
    },
    {
     "name": "stdout",
     "output_type": "stream",
     "text": [
      "Epoch 20, Train Loss: 202.5533, Eval Loss: 802.2152\n"
     ]
    },
    {
     "name": "stderr",
     "output_type": "stream",
     "text": [
      "Train: 100%|██████████| 7819/7819 [06:11<00:00, 21.06it/s]  \n",
      "Eval: 100%|██████████| 551/551 [00:10<00:00, 54.71it/s]\n"
     ]
    },
    {
     "name": "stdout",
     "output_type": "stream",
     "text": [
      "Epoch 21, Train Loss: 198.3610, Eval Loss: 802.5614\n"
     ]
    },
    {
     "name": "stderr",
     "output_type": "stream",
     "text": [
      "Train: 100%|██████████| 7819/7819 [05:29<00:00, 23.70it/s]  \n",
      "Eval: 100%|██████████| 551/551 [00:06<00:00, 88.09it/s]\n"
     ]
    },
    {
     "name": "stdout",
     "output_type": "stream",
     "text": [
      "Epoch 22, Train Loss: 194.5347, Eval Loss: 796.2360\n"
     ]
    },
    {
     "name": "stderr",
     "output_type": "stream",
     "text": [
      "Train: 100%|██████████| 7819/7819 [06:35<00:00, 19.79it/s]  \n",
      "Eval: 100%|██████████| 551/551 [00:07<00:00, 77.27it/s]\n"
     ]
    },
    {
     "name": "stdout",
     "output_type": "stream",
     "text": [
      "Epoch 23, Train Loss: 191.7391, Eval Loss: 797.6984\n"
     ]
    },
    {
     "name": "stderr",
     "output_type": "stream",
     "text": [
      "Train: 100%|██████████| 7819/7819 [06:32<00:00, 19.93it/s]\n",
      "Eval: 100%|██████████| 551/551 [00:06<00:00, 82.82it/s]\n"
     ]
    },
    {
     "name": "stdout",
     "output_type": "stream",
     "text": [
      "Epoch 24, Train Loss: 188.4681, Eval Loss: 792.5229\n"
     ]
    },
    {
     "name": "stderr",
     "output_type": "stream",
     "text": [
      "Train: 100%|██████████| 7819/7819 [06:30<00:00, 20.02it/s]  \n",
      "Eval: 100%|██████████| 551/551 [00:11<00:00, 49.52it/s]\n"
     ]
    },
    {
     "name": "stdout",
     "output_type": "stream",
     "text": [
      "Epoch 25, Train Loss: 185.9355, Eval Loss: 791.1929\n"
     ]
    },
    {
     "name": "stderr",
     "output_type": "stream",
     "text": [
      "Train: 100%|██████████| 7819/7819 [07:10<00:00, 18.16it/s]  \n",
      "Eval: 100%|██████████| 551/551 [00:06<00:00, 86.65it/s]\n"
     ]
    },
    {
     "name": "stdout",
     "output_type": "stream",
     "text": [
      "Epoch 26, Train Loss: 183.8370, Eval Loss: 789.1208\n"
     ]
    },
    {
     "name": "stderr",
     "output_type": "stream",
     "text": [
      "Train: 100%|██████████| 7819/7819 [07:12<00:00, 18.09it/s]  \n",
      "Eval: 100%|██████████| 551/551 [00:06<00:00, 87.54it/s]\n"
     ]
    },
    {
     "name": "stdout",
     "output_type": "stream",
     "text": [
      "Epoch 27, Train Loss: 181.7231, Eval Loss: 786.2811\n"
     ]
    },
    {
     "name": "stderr",
     "output_type": "stream",
     "text": [
      "Train: 100%|██████████| 7819/7819 [07:23<00:00, 17.65it/s]  \n",
      "Eval: 100%|██████████| 551/551 [00:06<00:00, 82.40it/s]\n"
     ]
    },
    {
     "name": "stdout",
     "output_type": "stream",
     "text": [
      "Epoch 28, Train Loss: 180.3010, Eval Loss: 786.5135\n"
     ]
    },
    {
     "name": "stderr",
     "output_type": "stream",
     "text": [
      "Train: 100%|██████████| 7819/7819 [07:05<00:00, 18.36it/s]  \n",
      "Eval: 100%|██████████| 551/551 [00:11<00:00, 48.21it/s]\n"
     ]
    },
    {
     "name": "stdout",
     "output_type": "stream",
     "text": [
      "Epoch 29, Train Loss: 178.4362, Eval Loss: 788.6716\n"
     ]
    },
    {
     "name": "stderr",
     "output_type": "stream",
     "text": [
      "Train: 100%|██████████| 7819/7819 [06:25<00:00, 20.28it/s]  \n",
      "Eval: 100%|██████████| 551/551 [00:06<00:00, 81.46it/s]\n"
     ]
    },
    {
     "name": "stdout",
     "output_type": "stream",
     "text": [
      "Epoch 30, Train Loss: 176.8976, Eval Loss: 783.9775\n"
     ]
    },
    {
     "name": "stderr",
     "output_type": "stream",
     "text": [
      "Train: 100%|██████████| 7819/7819 [06:40<00:00, 19.53it/s]  \n",
      "Eval: 100%|██████████| 551/551 [00:06<00:00, 82.09it/s]\n"
     ]
    },
    {
     "name": "stdout",
     "output_type": "stream",
     "text": [
      "Epoch 31, Train Loss: 176.0716, Eval Loss: 782.7494\n"
     ]
    },
    {
     "name": "stderr",
     "output_type": "stream",
     "text": [
      "Train: 100%|██████████| 7819/7819 [1:10:32<00:00,  1.85it/s]   \n",
      "Eval: 100%|██████████| 551/551 [00:06<00:00, 84.09it/s]\n"
     ]
    },
    {
     "name": "stdout",
     "output_type": "stream",
     "text": [
      "Epoch 32, Train Loss: 174.7526, Eval Loss: 784.5135\n"
     ]
    },
    {
     "name": "stderr",
     "output_type": "stream",
     "text": [
      "Train: 100%|██████████| 7819/7819 [04:15<00:00, 30.54it/s]\n",
      "Eval: 100%|██████████| 551/551 [00:08<00:00, 65.74it/s]\n"
     ]
    },
    {
     "name": "stdout",
     "output_type": "stream",
     "text": [
      "Epoch 33, Train Loss: 173.6441, Eval Loss: 782.6326\n"
     ]
    },
    {
     "name": "stderr",
     "output_type": "stream",
     "text": [
      "Train: 100%|██████████| 7819/7819 [04:16<00:00, 30.54it/s]\n",
      "Eval: 100%|██████████| 551/551 [00:06<00:00, 79.08it/s]\n"
     ]
    },
    {
     "name": "stdout",
     "output_type": "stream",
     "text": [
      "Epoch 34, Train Loss: 172.5298, Eval Loss: 785.4867\n"
     ]
    },
    {
     "name": "stderr",
     "output_type": "stream",
     "text": [
      "Train: 100%|██████████| 7819/7819 [04:22<00:00, 29.80it/s]\n",
      "Eval: 100%|██████████| 551/551 [00:06<00:00, 83.08it/s]\n"
     ]
    },
    {
     "name": "stdout",
     "output_type": "stream",
     "text": [
      "Epoch 35, Train Loss: 171.9546, Eval Loss: 781.6494\n"
     ]
    },
    {
     "name": "stderr",
     "output_type": "stream",
     "text": [
      "Train: 100%|██████████| 7819/7819 [04:21<00:00, 29.91it/s]\n",
      "Eval: 100%|██████████| 551/551 [00:06<00:00, 87.11it/s]\n"
     ]
    },
    {
     "name": "stdout",
     "output_type": "stream",
     "text": [
      "Epoch 36, Train Loss: 170.7129, Eval Loss: 780.9623\n"
     ]
    },
    {
     "name": "stderr",
     "output_type": "stream",
     "text": [
      "Train: 100%|██████████| 7819/7819 [04:12<00:00, 31.00it/s]\n",
      "Eval: 100%|██████████| 551/551 [00:08<00:00, 66.44it/s]\n"
     ]
    },
    {
     "name": "stdout",
     "output_type": "stream",
     "text": [
      "Epoch 37, Train Loss: 169.9941, Eval Loss: 783.0450\n"
     ]
    },
    {
     "name": "stderr",
     "output_type": "stream",
     "text": [
      "Train: 100%|██████████| 7819/7819 [04:21<00:00, 29.86it/s]\n",
      "Eval: 100%|██████████| 551/551 [00:06<00:00, 84.57it/s]\n"
     ]
    },
    {
     "name": "stdout",
     "output_type": "stream",
     "text": [
      "Epoch 38, Train Loss: 169.3334, Eval Loss: 779.6792\n"
     ]
    },
    {
     "name": "stderr",
     "output_type": "stream",
     "text": [
      "Train: 100%|██████████| 7819/7819 [04:12<00:00, 30.92it/s]\n",
      "Eval: 100%|██████████| 551/551 [00:06<00:00, 83.94it/s]\n"
     ]
    },
    {
     "name": "stdout",
     "output_type": "stream",
     "text": [
      "Epoch 39, Train Loss: 168.6761, Eval Loss: 779.1719\n"
     ]
    },
    {
     "name": "stderr",
     "output_type": "stream",
     "text": [
      "Train: 100%|██████████| 7819/7819 [04:15<00:00, 30.60it/s]\n",
      "Eval: 100%|██████████| 551/551 [00:06<00:00, 83.75it/s]\n"
     ]
    },
    {
     "name": "stdout",
     "output_type": "stream",
     "text": [
      "Epoch 40, Train Loss: 167.9112, Eval Loss: 778.0934\n"
     ]
    },
    {
     "name": "stderr",
     "output_type": "stream",
     "text": [
      "Train: 100%|██████████| 7819/7819 [04:13<00:00, 30.88it/s]\n",
      "Eval: 100%|██████████| 551/551 [00:08<00:00, 66.47it/s]\n"
     ]
    },
    {
     "name": "stdout",
     "output_type": "stream",
     "text": [
      "Epoch 41, Train Loss: 167.7447, Eval Loss: 781.2306\n"
     ]
    },
    {
     "name": "stderr",
     "output_type": "stream",
     "text": [
      "Train: 100%|██████████| 7819/7819 [04:09<00:00, 31.36it/s]\n",
      "Eval: 100%|██████████| 551/551 [00:06<00:00, 87.41it/s]\n"
     ]
    },
    {
     "name": "stdout",
     "output_type": "stream",
     "text": [
      "Epoch 42, Train Loss: 166.5450, Eval Loss: 779.2534\n"
     ]
    },
    {
     "name": "stderr",
     "output_type": "stream",
     "text": [
      "Train: 100%|██████████| 7819/7819 [04:12<00:00, 30.98it/s]\n",
      "Eval: 100%|██████████| 551/551 [00:06<00:00, 80.66it/s]"
     ]
    },
    {
     "name": "stdout",
     "output_type": "stream",
     "text": [
      "Epoch 43, Train Loss: 166.3402, Eval Loss: 779.0682\n",
      "Early stopping triggered at epoch 43\n"
     ]
    },
    {
     "name": "stderr",
     "output_type": "stream",
     "text": [
      "\n"
     ]
    }
   ],
   "source": [
    "patience = 3\n",
    "best_loss = float('inf')\n",
    "counter = 0\n",
    "\n",
    "n_epochs = 50\n",
    "for epoch in range(n_epochs):\n",
    "    train_loss = train(model, optimizer, criterion, train_loader)\n",
    "    eval_loss = evaluate(model, criterion, test_loader)\n",
    "\n",
    "    print(f'Epoch {epoch + 1}, Train Loss: {train_loss:.4f}, Eval Loss: {eval_loss:.4f}')\n",
    "\n",
    "    if eval_loss < best_loss:\n",
    "        best_loss = eval_loss\n",
    "        counter = 0\n",
    "        torch.save(model.state_dict(), 'best_model.pth')\n",
    "    else:\n",
    "        counter += 1\n",
    "        if counter >= patience:\n",
    "            print(f\"Early stopping triggered at epoch {epoch + 1}\")\n",
    "            break"
   ]
  },
  {
   "cell_type": "code",
   "execution_count": 21,
   "metadata": {},
   "outputs": [
    {
     "name": "stderr",
     "output_type": "stream",
     "text": [
      "/var/folders/61/z_y23ln573b2r1g8y664sldc0000gn/T/ipykernel_72297/2931862686.py:3: FutureWarning: You are using `torch.load` with `weights_only=False` (the current default value), which uses the default pickle module implicitly. It is possible to construct malicious pickle data which will execute arbitrary code during unpickling (See https://github.com/pytorch/pytorch/blob/main/SECURITY.md#untrusted-models for more details). In a future release, the default value for `weights_only` will be flipped to `True`. This limits the functions that could be executed during unpickling. Arbitrary objects will no longer be allowed to be loaded via this mode unless they are explicitly allowlisted by the user via `torch.serialization.add_safe_globals`. We recommend you start setting `weights_only=True` for any use case where you don't have full control of the loaded file. Please open an issue on GitHub for any issues related to this experimental feature.\n",
      "  model.load_state_dict(torch.load('best_model.pth'))\n"
     ]
    },
    {
     "data": {
      "text/plain": [
       "<All keys matched successfully>"
      ]
     },
     "execution_count": 21,
     "metadata": {},
     "output_type": "execute_result"
    }
   ],
   "source": [
    "model = create_model()\n",
    "\n",
    "model.load_state_dict(torch.load('best_model.pth'))"
   ]
  },
  {
   "cell_type": "code",
   "execution_count": 22,
   "metadata": {},
   "outputs": [
    {
     "name": "stderr",
     "output_type": "stream",
     "text": [
      "100%|██████████| 10000/10000 [28:30<00:00,  5.85it/s] \n"
     ]
    }
   ],
   "source": [
    "def recommend_all(n_sample_users=10000):\n",
    "    sample_user_indicies = test_df['user_index'].unique().tolist()[:n_sample_users]\n",
    "    product_indices = train_df['product_index'].unique().tolist()\n",
    "    brand_indices = [product_index_to_brand_index[i] for i in product_indices]\n",
    "    category_indices = [product_index_to_category_index[i] for i in product_indices]\n",
    "\n",
    "    recommend_dict = {}\n",
    "    for user in tqdm(sample_user_indicies):\n",
    "        inputs = []\n",
    "        for product, brand, category in zip(product_indices, brand_indices, category_indices):\n",
    "            inputs.append([user, product, brand, category])\n",
    "\n",
    "        scores = []\n",
    "        for i in range(0, len(inputs), 16384):\n",
    "            batch_inputs = inputs[i: i + 16384]\n",
    "            batch_inputs = torch.LongTensor(batch_inputs).to(device)\n",
    "            with torch.no_grad():\n",
    "                batch_scores = model(batch_inputs).squeeze()\n",
    "            scores.append(batch_scores)\n",
    "\n",
    "        scores = torch.cat(scores)\n",
    "\n",
    "        _, top_indices = torch.topk(scores, 500)\n",
    "        recommend_product_indices = [product_indices[i] for i in top_indices]\n",
    "        recommend_product_ids = [product_index_to_id[i] for i in recommend_product_indices]\n",
    "        user_id = user_index_to_id[user]\n",
    "        recommend_dict[user_id] = recommend_product_ids\n",
    "\n",
    "    return recommend_dict\n",
    "\n",
    "recommendations_dict = recommend_all()"
   ]
  },
  {
   "cell_type": "code",
   "execution_count": 23,
   "metadata": {},
   "outputs": [],
   "source": [
    "interaction_dict = test_df.groupby('user_id')['product_id'].agg(lambda x: list(set(x))).to_dict()"
   ]
  },
  {
   "cell_type": "code",
   "execution_count": 24,
   "metadata": {},
   "outputs": [],
   "source": [
    "def calculate_metrics(topk=10):\n",
    "\n",
    "    total_users = 0\n",
    "    precision_sum = 0\n",
    "    recall_sum = 0\n",
    "    ndcg_sum = 0\n",
    "\n",
    "    for user_id in tqdm(interaction_dict.keys()):\n",
    "        if user_id not in recommendations_dict:\n",
    "            continue\n",
    "\n",
    "        true_items = set(interaction_dict[user_id])\n",
    "        recommended_items = recommendations_dict[user_id]\n",
    "        top_k_items = set(recommended_items[:topk])\n",
    "\n",
    "        # precision\n",
    "        precision = len(top_k_items & true_items) / len(recommended_items)\n",
    "        precision_sum += precision\n",
    "        \n",
    "        # recall\n",
    "        recall = len(top_k_items & true_items) / len(true_items)\n",
    "        recall_sum += recall\n",
    "\n",
    "        # NDCG\n",
    "        dcg = 0\n",
    "        idcg = 0\n",
    "        for i, item in enumerate(top_k_items):\n",
    "            rel = 1 if item in true_items else 0\n",
    "            dcg += (2**rel - 1) / np.log2(i + 2)\n",
    "        \n",
    "        ideal_ranking = sorted([1 if item in true_items else 0 for item in top_k_items], reverse=True)\n",
    "        for i, rel in enumerate(ideal_ranking):\n",
    "            idcg += (2**rel - 1) / np.log2(i + 2)\n",
    "        \n",
    "        ndcg = dcg / idcg if idcg > 0 else 0\n",
    "        ndcg_sum += ndcg\n",
    "\n",
    "        total_users += 1\n",
    "        \n",
    "    mean_precision = precision_sum / total_users\n",
    "    mean_recall = recall_sum / total_users\n",
    "    mean_ndcg = float(ndcg_sum / total_users)\n",
    "\n",
    "    return mean_precision, mean_recall, mean_ndcg"
   ]
  },
  {
   "cell_type": "code",
   "execution_count": 25,
   "metadata": {},
   "outputs": [
    {
     "name": "stderr",
     "output_type": "stream",
     "text": [
      "100%|██████████| 201629/201629 [00:00<00:00, 1018829.06it/s]\n"
     ]
    },
    {
     "name": "stdout",
     "output_type": "stream",
     "text": [
      "precision@10: 0.00075, recall@10: 0.06760, ndcg@10: 0.11682\n"
     ]
    },
    {
     "name": "stderr",
     "output_type": "stream",
     "text": [
      "100%|██████████| 201629/201629 [00:00<00:00, 412945.67it/s]\n"
     ]
    },
    {
     "name": "stdout",
     "output_type": "stream",
     "text": [
      "precision@30: 0.00163, recall@30: 0.13489, ndcg@30: 0.13593\n"
     ]
    },
    {
     "name": "stderr",
     "output_type": "stream",
     "text": [
      "100%|██████████| 201629/201629 [00:00<00:00, 256763.92it/s]\n"
     ]
    },
    {
     "name": "stdout",
     "output_type": "stream",
     "text": [
      "precision@50: 0.00224, recall@50: 0.17706, ndcg@50: 0.14188\n"
     ]
    },
    {
     "name": "stderr",
     "output_type": "stream",
     "text": [
      "100%|██████████| 201629/201629 [00:01<00:00, 130650.57it/s]\n"
     ]
    },
    {
     "name": "stdout",
     "output_type": "stream",
     "text": [
      "precision@100: 0.00328, recall@100: 0.24371, ndcg@100: 0.14736\n"
     ]
    },
    {
     "name": "stderr",
     "output_type": "stream",
     "text": [
      "100%|██████████| 201629/201629 [00:02<00:00, 68122.24it/s]\n"
     ]
    },
    {
     "name": "stdout",
     "output_type": "stream",
     "text": [
      "precision@200: 0.00456, recall@200: 0.32047, ndcg@200: 0.15083\n"
     ]
    },
    {
     "name": "stderr",
     "output_type": "stream",
     "text": [
      "100%|██████████| 201629/201629 [00:04<00:00, 45186.17it/s]\n"
     ]
    },
    {
     "name": "stdout",
     "output_type": "stream",
     "text": [
      "precision@300: 0.00546, recall@300: 0.37100, ndcg@300: 0.15324\n"
     ]
    },
    {
     "name": "stderr",
     "output_type": "stream",
     "text": [
      "100%|██████████| 201629/201629 [00:06<00:00, 33224.88it/s]\n"
     ]
    },
    {
     "name": "stdout",
     "output_type": "stream",
     "text": [
      "precision@400: 0.00615, recall@400: 0.40938, ndcg@400: 0.15231\n"
     ]
    },
    {
     "name": "stderr",
     "output_type": "stream",
     "text": [
      "100%|██████████| 201629/201629 [00:07<00:00, 26369.43it/s]"
     ]
    },
    {
     "name": "stdout",
     "output_type": "stream",
     "text": [
      "precision@500: 0.00671, recall@500: 0.43957, ndcg@500: 0.15226\n"
     ]
    },
    {
     "name": "stderr",
     "output_type": "stream",
     "text": [
      "\n"
     ]
    }
   ],
   "source": [
    "topk_values = [10, 30, 50, 100, 200, 300, 400, 500]\n",
    "\n",
    "precisions, recalls, ndcgs = [], [], []\n",
    "for topk in topk_values:\n",
    "    precision, recall, ndcg = calculate_metrics(topk=topk)\n",
    "    precisions.append(precision)\n",
    "    recalls.append(recall)\n",
    "    ndcgs.append(ndcg)\n",
    "    print(f'precision@{topk}: {precision:.5f}, recall@{topk}: {recall:.5f}, ndcg@{topk}: {ndcg:.5f}')"
   ]
  },
  {
   "cell_type": "code",
   "execution_count": 26,
   "metadata": {},
   "outputs": [
    {
     "data": {
      "image/png": "[encoded data removed]",
      "text/plain": [
       "<Figure size 1200x600 with 1 Axes>"
      ]
     },
     "metadata": {},
     "output_type": "display_data"
    }
   ],
   "source": [
    "plt.figure(figsize=(12, 6))\n",
    "\n",
    "plt.plot(topk_values, precisions, marker='o', label='Precision')\n",
    "\n",
    "plt.plot(topk_values, recalls, marker='s', label='Recall')\n",
    "\n",
    "plt.plot(topk_values, ndcgs, marker='^', label='NDCG')\n",
    "\n",
    "plt.title('Metrics vs Top-K')\n",
    "plt.xlabel('Top-K')\n",
    "plt.ylabel('Metric Value')\n",
    "plt.legend()\n",
    "plt.grid(True, linestyle='--', alpha=0.7)\n",
    "\n",
    "plt.xticks(topk_values)\n",
    "\n",
    "plt.ylim(bottom=0)\n",
    "\n",
    "plt.tight_layout()\n",
    "plt.show()"
   ]
  },
  {
   "cell_type": "code",
   "execution_count": 36,
   "metadata": {},
   "outputs": [
    {
     "name": "stdout",
     "output_type": "stream",
     "text": [
      "530428730\n"
     ]
    },
    {
     "data": {
      "text/html": [
       "<div>\n",
       "<style scoped>\n",
       "    .dataframe tbody tr th:only-of-type {\n",
       "        vertical-align: middle;\n",
       "    }\n",
       "\n",
       "    .dataframe tbody tr th {\n",
       "        vertical-align: top;\n",
       "    }\n",
       "\n",
       "    .dataframe thead th {\n",
       "        text-align: right;\n",
       "    }\n",
       "</style>\n",
       "<table border=\"1\" class=\"dataframe\">\n",
       "  <thead>\n",
       "    <tr style=\"text-align: right;\">\n",
       "      <th></th>\n",
       "      <th>user_id</th>\n",
       "      <th>product_id</th>\n",
       "      <th>category_id</th>\n",
       "      <th>category_code</th>\n",
       "      <th>brand</th>\n",
       "      <th>user_index</th>\n",
       "      <th>product_index</th>\n",
       "      <th>brand_index</th>\n",
       "      <th>category_index</th>\n",
       "    </tr>\n",
       "  </thead>\n",
       "  <tbody>\n",
       "    <tr>\n",
       "      <th>9568683</th>\n",
       "      <td>530428730</td>\n",
       "      <td>1306754</td>\n",
       "      <td>2053013558920217191</td>\n",
       "      <td>computers.notebook</td>\n",
       "      <td>hp</td>\n",
       "      <td>82324</td>\n",
       "      <td>677</td>\n",
       "      <td>15</td>\n",
       "      <td>3</td>\n",
       "    </tr>\n",
       "    <tr>\n",
       "      <th>9569828</th>\n",
       "      <td>530428730</td>\n",
       "      <td>1306754</td>\n",
       "      <td>2053013558920217191</td>\n",
       "      <td>computers.notebook</td>\n",
       "      <td>hp</td>\n",
       "      <td>82324</td>\n",
       "      <td>677</td>\n",
       "      <td>15</td>\n",
       "      <td>3</td>\n",
       "    </tr>\n",
       "    <tr>\n",
       "      <th>9581309</th>\n",
       "      <td>530428730</td>\n",
       "      <td>5701138</td>\n",
       "      <td>2053013553970938175</td>\n",
       "      <td>auto.accessories.player</td>\n",
       "      <td>swat</td>\n",
       "      <td>82324</td>\n",
       "      <td>11448</td>\n",
       "      <td>206</td>\n",
       "      <td>78</td>\n",
       "    </tr>\n",
       "    <tr>\n",
       "      <th>9581885</th>\n",
       "      <td>530428730</td>\n",
       "      <td>5701138</td>\n",
       "      <td>2053013553970938175</td>\n",
       "      <td>auto.accessories.player</td>\n",
       "      <td>swat</td>\n",
       "      <td>82324</td>\n",
       "      <td>11448</td>\n",
       "      <td>206</td>\n",
       "      <td>78</td>\n",
       "    </tr>\n",
       "    <tr>\n",
       "      <th>14513546</th>\n",
       "      <td>530428730</td>\n",
       "      <td>1306754</td>\n",
       "      <td>2053013558920217191</td>\n",
       "      <td>computers.notebook</td>\n",
       "      <td>hp</td>\n",
       "      <td>82324</td>\n",
       "      <td>677</td>\n",
       "      <td>15</td>\n",
       "      <td>3</td>\n",
       "    </tr>\n",
       "    <tr>\n",
       "      <th>...</th>\n",
       "      <td>...</td>\n",
       "      <td>...</td>\n",
       "      <td>...</td>\n",
       "      <td>...</td>\n",
       "      <td>...</td>\n",
       "      <td>...</td>\n",
       "      <td>...</td>\n",
       "      <td>...</td>\n",
       "      <td>...</td>\n",
       "    </tr>\n",
       "    <tr>\n",
       "      <th>24085305</th>\n",
       "      <td>530428730</td>\n",
       "      <td>1306754</td>\n",
       "      <td>2053013558920217191</td>\n",
       "      <td>computers.notebook</td>\n",
       "      <td>hp</td>\n",
       "      <td>82324</td>\n",
       "      <td>677</td>\n",
       "      <td>15</td>\n",
       "      <td>3</td>\n",
       "    </tr>\n",
       "    <tr>\n",
       "      <th>24086274</th>\n",
       "      <td>530428730</td>\n",
       "      <td>1306754</td>\n",
       "      <td>2053013558920217191</td>\n",
       "      <td>computers.notebook</td>\n",
       "      <td>hp</td>\n",
       "      <td>82324</td>\n",
       "      <td>677</td>\n",
       "      <td>15</td>\n",
       "      <td>3</td>\n",
       "    </tr>\n",
       "    <tr>\n",
       "      <th>25629011</th>\n",
       "      <td>530428730</td>\n",
       "      <td>1306754</td>\n",
       "      <td>2053013558920217191</td>\n",
       "      <td>computers.notebook</td>\n",
       "      <td>hp</td>\n",
       "      <td>82324</td>\n",
       "      <td>677</td>\n",
       "      <td>15</td>\n",
       "      <td>3</td>\n",
       "    </tr>\n",
       "    <tr>\n",
       "      <th>25629434</th>\n",
       "      <td>530428730</td>\n",
       "      <td>1306754</td>\n",
       "      <td>2053013558920217191</td>\n",
       "      <td>computers.notebook</td>\n",
       "      <td>hp</td>\n",
       "      <td>82324</td>\n",
       "      <td>677</td>\n",
       "      <td>15</td>\n",
       "      <td>3</td>\n",
       "    </tr>\n",
       "    <tr>\n",
       "      <th>25629774</th>\n",
       "      <td>530428730</td>\n",
       "      <td>1306754</td>\n",
       "      <td>2053013558920217191</td>\n",
       "      <td>computers.notebook</td>\n",
       "      <td>hp</td>\n",
       "      <td>82324</td>\n",
       "      <td>677</td>\n",
       "      <td>15</td>\n",
       "      <td>3</td>\n",
       "    </tr>\n",
       "  </tbody>\n",
       "</table>\n",
       "<p>76 rows × 9 columns</p>\n",
       "</div>"
      ],
      "text/plain": [
       "            user_id  product_id          category_id            category_code  \\\n",
       "9568683   530428730     1306754  2053013558920217191       computers.notebook   \n",
       "9569828   530428730     1306754  2053013558920217191       computers.notebook   \n",
       "9581309   530428730     5701138  2053013553970938175  auto.accessories.player   \n",
       "9581885   530428730     5701138  2053013553970938175  auto.accessories.player   \n",
       "14513546  530428730     1306754  2053013558920217191       computers.notebook   \n",
       "...             ...         ...                  ...                      ...   \n",
       "24085305  530428730     1306754  2053013558920217191       computers.notebook   \n",
       "24086274  530428730     1306754  2053013558920217191       computers.notebook   \n",
       "25629011  530428730     1306754  2053013558920217191       computers.notebook   \n",
       "25629434  530428730     1306754  2053013558920217191       computers.notebook   \n",
       "25629774  530428730     1306754  2053013558920217191       computers.notebook   \n",
       "\n",
       "         brand  user_index  product_index  brand_index  category_index  \n",
       "9568683     hp       82324            677           15               3  \n",
       "9569828     hp       82324            677           15               3  \n",
       "9581309   swat       82324          11448          206              78  \n",
       "9581885   swat       82324          11448          206              78  \n",
       "14513546    hp       82324            677           15               3  \n",
       "...        ...         ...            ...          ...             ...  \n",
       "24085305    hp       82324            677           15               3  \n",
       "24086274    hp       82324            677           15               3  \n",
       "25629011    hp       82324            677           15               3  \n",
       "25629434    hp       82324            677           15               3  \n",
       "25629774    hp       82324            677           15               3  \n",
       "\n",
       "[76 rows x 9 columns]"
      ]
     },
     "execution_count": 36,
     "metadata": {},
     "output_type": "execute_result"
    }
   ],
   "source": [
    "import random\n",
    "\n",
    "random_user_id = random.choice(list(recommendations_dict.keys()))\n",
    "print(random_user_id)\n",
    "\n",
    "train_df[train_df['user_id'] == random_user_id]"
   ]
  },
  {
   "cell_type": "code",
   "execution_count": 37,
   "metadata": {},
   "outputs": [
    {
     "name": "stdout",
     "output_type": "stream",
     "text": [
      "computers.notebook lenovo\n",
      "computers.notebook acer\n",
      "computers.notebook acer\n",
      "computers.notebook hp\n",
      "computers.notebook lenovo\n",
      "electronics.smartphone apple\n",
      "computers.notebook lenovo\n",
      "computers.notebook acer\n",
      "computers.notebook hp\n",
      "electronics.smartphone samsung\n",
      "electronics.smartphone samsung\n",
      "electronics.smartphone apple\n",
      "computers.notebook hp\n",
      "computers.notebook acer\n",
      "computers.notebook lenovo\n",
      "computers.notebook asus\n",
      "#unknown cordiant\n",
      "electronics.smartphone apple\n",
      "computers.notebook asus\n",
      "computers.notebook lenovo\n"
     ]
    },
    {
     "name": "stderr",
     "output_type": "stream",
     "text": [
      "/var/folders/61/z_y23ln573b2r1g8y664sldc0000gn/T/ipykernel_72297/3293158499.py:2: DeprecationWarning: DataFrameGroupBy.apply operated on the grouping columns. This behavior is deprecated, and in a future version of pandas the grouping columns will be excluded from the operation. Either pass `include_groups=False` to exclude the groupings or explicitly select the grouping columns after groupby to silence this warning.\n",
      "  recommend_product_dict = train_df[train_df['product_id'].isin(recommend_product_ids)].groupby('product_id').apply(\n"
     ]
    }
   ],
   "source": [
    "recommend_product_ids = recommendations_dict[random_user_id]\n",
    "recommend_product_dict = train_df[train_df['product_id'].isin(recommend_product_ids)].groupby('product_id').apply(\n",
    "    lambda x: tuple(x[['category_code', 'brand']].iloc[0])\n",
    ").to_dict()\n",
    "\n",
    "for product_id in recommend_product_ids[:20]:\n",
    "    category_code, brand = recommend_product_dict[product_id]\n",
    "    print(category_code, brand)"
   ]
  },
  {
   "cell_type": "code",
   "execution_count": null,
   "metadata": {},
   "outputs": [],
   "source": []
  }
 ],
 "metadata": {
  "kernelspec": {
   "display_name": "recsys",
   "language": "python",
   "name": "python3"
  },
  "language_info": {
   "codemirror_mode": {
    "name": "ipython",
    "version": 3
   },
   "file_extension": ".py",
   "mimetype": "text/x-python",
   "name": "python",
   "nbconvert_exporter": "python",
   "pygments_lexer": "ipython3",
   "version": "3.12.0"
  }
 },
 "nbformat": 4,
 "nbformat_minor": 2
}
