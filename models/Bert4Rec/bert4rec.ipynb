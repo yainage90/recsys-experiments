{
 "cells": [
  {
   "cell_type": "code",
   "execution_count": 1,
   "metadata": {},
   "outputs": [],
   "source": [
    "import numpy as np\n",
    "import pandas as pd\n",
    "import random\n",
    "from tqdm import tqdm\n",
    "import os\n",
    "import json\n",
    "\n",
    "import torch\n",
    "import torch.nn as nn\n",
    "import torch.nn.functional as F\n",
    "from torch.utils.data import Dataset, DataLoader, random_split\n",
    "import matplotlib.pyplot as plt\n",
    "\n",
    "from base_module import *\n",
    "from bert import Bert"
   ]
  },
  {
   "cell_type": "code",
   "execution_count": 2,
   "metadata": {},
   "outputs": [
    {
     "name": "stdout",
     "output_type": "stream",
     "text": [
      "device: mps\n"
     ]
    }
   ],
   "source": [
    "device = torch.device('mps') if torch.backends.mps.is_available() else torch.device('cpu')\n",
    "print(f'device: {device}')"
   ]
  },
  {
   "cell_type": "code",
   "execution_count": 3,
   "metadata": {},
   "outputs": [
    {
     "data": {
      "text/html": [
       "<div>\n",
       "<style scoped>\n",
       "    .dataframe tbody tr th:only-of-type {\n",
       "        vertical-align: middle;\n",
       "    }\n",
       "\n",
       "    .dataframe tbody tr th {\n",
       "        vertical-align: top;\n",
       "    }\n",
       "\n",
       "    .dataframe thead th {\n",
       "        text-align: right;\n",
       "    }\n",
       "</style>\n",
       "<table border=\"1\" class=\"dataframe\">\n",
       "  <thead>\n",
       "    <tr style=\"text-align: right;\">\n",
       "      <th></th>\n",
       "      <th>event_time</th>\n",
       "      <th>user_id</th>\n",
       "      <th>user_session</th>\n",
       "      <th>product_id</th>\n",
       "      <th>brand</th>\n",
       "      <th>category_id</th>\n",
       "      <th>category_code</th>\n",
       "    </tr>\n",
       "  </thead>\n",
       "  <tbody>\n",
       "    <tr>\n",
       "      <th>0</th>\n",
       "      <td>2019-10-01 00:00:00+00:00</td>\n",
       "      <td>541312140</td>\n",
       "      <td>72d76fde-8bb3-4e00-8c23-a032dfed738c</td>\n",
       "      <td>44600062</td>\n",
       "      <td>shiseido</td>\n",
       "      <td>2103807459595387724</td>\n",
       "      <td>#unknown</td>\n",
       "    </tr>\n",
       "    <tr>\n",
       "      <th>1</th>\n",
       "      <td>2019-10-01 00:00:00+00:00</td>\n",
       "      <td>554748717</td>\n",
       "      <td>9333dfbd-b87a-4708-9857-6336556b0fcc</td>\n",
       "      <td>3900821</td>\n",
       "      <td>aqua</td>\n",
       "      <td>2053013552326770905</td>\n",
       "      <td>appliances.environment.water_heater</td>\n",
       "    </tr>\n",
       "    <tr>\n",
       "      <th>2</th>\n",
       "      <td>2019-10-01 00:00:01+00:00</td>\n",
       "      <td>519107250</td>\n",
       "      <td>566511c2-e2e3-422b-b695-cf8e6e792ca8</td>\n",
       "      <td>17200506</td>\n",
       "      <td>#unknown</td>\n",
       "      <td>2053013559792632471</td>\n",
       "      <td>furniture.living_room.sofa</td>\n",
       "    </tr>\n",
       "    <tr>\n",
       "      <th>3</th>\n",
       "      <td>2019-10-01 00:00:01+00:00</td>\n",
       "      <td>550050854</td>\n",
       "      <td>7c90fc70-0e80-4590-96f3-13c02c18c713</td>\n",
       "      <td>1307067</td>\n",
       "      <td>lenovo</td>\n",
       "      <td>2053013558920217191</td>\n",
       "      <td>computers.notebook</td>\n",
       "    </tr>\n",
       "    <tr>\n",
       "      <th>4</th>\n",
       "      <td>2019-10-01 00:00:04+00:00</td>\n",
       "      <td>535871217</td>\n",
       "      <td>c6bd7419-2748-4c56-95b4-8cec9ff8b80d</td>\n",
       "      <td>1004237</td>\n",
       "      <td>apple</td>\n",
       "      <td>2053013555631882655</td>\n",
       "      <td>electronics.smartphone</td>\n",
       "    </tr>\n",
       "  </tbody>\n",
       "</table>\n",
       "</div>"
      ],
      "text/plain": [
       "                 event_time    user_id                          user_session  \\\n",
       "0 2019-10-01 00:00:00+00:00  541312140  72d76fde-8bb3-4e00-8c23-a032dfed738c   \n",
       "1 2019-10-01 00:00:00+00:00  554748717  9333dfbd-b87a-4708-9857-6336556b0fcc   \n",
       "2 2019-10-01 00:00:01+00:00  519107250  566511c2-e2e3-422b-b695-cf8e6e792ca8   \n",
       "3 2019-10-01 00:00:01+00:00  550050854  7c90fc70-0e80-4590-96f3-13c02c18c713   \n",
       "4 2019-10-01 00:00:04+00:00  535871217  c6bd7419-2748-4c56-95b4-8cec9ff8b80d   \n",
       "\n",
       "   product_id     brand          category_id  \\\n",
       "0    44600062  shiseido  2103807459595387724   \n",
       "1     3900821      aqua  2053013552326770905   \n",
       "2    17200506  #unknown  2053013559792632471   \n",
       "3     1307067    lenovo  2053013558920217191   \n",
       "4     1004237     apple  2053013555631882655   \n",
       "\n",
       "                         category_code  \n",
       "0                             #unknown  \n",
       "1  appliances.environment.water_heater  \n",
       "2           furniture.living_room.sofa  \n",
       "3                   computers.notebook  \n",
       "4               electronics.smartphone  "
      ]
     },
     "execution_count": 3,
     "metadata": {},
     "output_type": "execute_result"
    }
   ],
   "source": [
    "df = pd.read_feather('../../dataset/preprocessed_data.feather')[['event_time', 'user_id', 'user_session', 'product_id', 'brand', 'category_id', 'category_code']]\n",
    "df.head()"
   ]
  },
  {
   "cell_type": "code",
   "execution_count": 4,
   "metadata": {},
   "outputs": [],
   "source": [
    "user_counts = df['user_session'].value_counts().reset_index()[['user_session', 'count']]\n",
    "unique_user_sessions = list(user_counts[(user_counts['count'] >= 5) & (user_counts['count'] <= 50)]['user_session'])\n",
    "df = df[df['user_session'].isin(unique_user_sessions)]\n",
    "\n",
    "product_counts = df['product_id'].value_counts().reset_index()[['product_id', 'count']]\n",
    "# 한 달에 100번 이상 선택받은 상품만 필터링\n",
    "unique_product_ids = list(product_counts[product_counts['count'] >=100]['product_id'])\n",
    "\n",
    "del user_counts, product_counts"
   ]
  },
  {
   "cell_type": "code",
   "execution_count": 5,
   "metadata": {},
   "outputs": [
    {
     "name": "stdout",
     "output_type": "stream",
     "text": [
      "vocab size: 31350\n"
     ]
    }
   ],
   "source": [
    "word2index = {product_id: index + 2 for index, product_id in enumerate(unique_product_ids)}\n",
    "word2index['<PAD>'] = 0\n",
    "word2index['<UNK>'] = 1\n",
    "word2index['[MASK]'] = len(word2index)\n",
    "index2word = {index: word for word, index in word2index.items()}\n",
    "\n",
    "vocab_size = len(word2index)\n",
    "print(f'vocab size: {vocab_size}')"
   ]
  },
  {
   "cell_type": "code",
   "execution_count": 6,
   "metadata": {},
   "outputs": [
    {
     "name": "stdout",
     "output_type": "stream",
     "text": [
      "[[1005115, 1005105, 1005105, 5100816, 1004858, 1005104, 1003312, 1005212], [1004768, 1005098, 1005073, 1004871, 1004751, 1004653, 1005015, 1004871, 1003527, 1004871, 1005115, 1004249, 1005105, 1005135, 1004246, 1004870, 1004870, 1004870], [1004856, 1004856, 1004863, 1004834, 1004834, 1004834, 1004834, 1004834, 1004834, 1004834, 1004834]]\n"
     ]
    }
   ],
   "source": [
    "sequence_data = df.groupby('user_session')['product_id'].agg(list).reset_index()['product_id'].tolist()\n",
    "print(sequence_data[:3])"
   ]
  },
  {
   "cell_type": "code",
   "execution_count": 7,
   "metadata": {},
   "outputs": [
    {
     "data": {
      "image/png": "[encoded data removed]",
      "text/plain": [
       "<Figure size 1000x600 with 1 Axes>"
      ]
     },
     "metadata": {},
     "output_type": "display_data"
    },
    {
     "name": "stdout",
     "output_type": "stream",
     "text": [
      "Minimum length: 5\n",
      "Maximum length: 50\n",
      "Mean length: 10.67\n",
      "Median length: 8.00\n"
     ]
    }
   ],
   "source": [
    "lengths = [len(lst) for lst in sequence_data]\n",
    "\n",
    "plt.figure(figsize=(10, 6))\n",
    "plt.hist(lengths, bins='auto', edgecolor='black')\n",
    "\n",
    "plt.title('Distribution of List Lengths')\n",
    "plt.xlabel('Number of Elements')\n",
    "plt.ylabel('Frequency')\n",
    "\n",
    "plt.xticks(range(min(lengths), max(lengths)+1))\n",
    "\n",
    "plt.grid(axis='y', linestyle='--', alpha=0.7)\n",
    "\n",
    "mean_length = np.mean(lengths)\n",
    "median_length = np.median(lengths)\n",
    "\n",
    "plt.axvline(mean_length, color='r', linestyle='dashed', linewidth=2, label=f'Mean: {mean_length:.2f}')\n",
    "plt.axvline(median_length, color='g', linestyle='dashed', linewidth=2, label=f'Median: {median_length:.2f}')\n",
    "\n",
    "plt.legend()\n",
    "\n",
    "plt.tight_layout()\n",
    "plt.show()\n",
    "\n",
    "print(f\"Minimum length: {min(lengths)}\")\n",
    "print(f\"Maximum length: {max(lengths)}\")\n",
    "print(f\"Mean length: {mean_length:.2f}\")\n",
    "print(f\"Median length: {median_length:.2f}\")"
   ]
  },
  {
   "cell_type": "code",
   "execution_count": 8,
   "metadata": {},
   "outputs": [],
   "source": [
    "min_len = 5\n",
    "max_len = 20"
   ]
  },
  {
   "cell_type": "code",
   "execution_count": 9,
   "metadata": {},
   "outputs": [
    {
     "name": "stderr",
     "output_type": "stream",
     "text": [
      "100%|██████████| 200000/200000 [00:00<00:00, 641014.79it/s]\n",
      "100%|██████████| 10000/10000 [00:00<00:00, 586132.28it/s]\n"
     ]
    }
   ],
   "source": [
    "class SequenceDataset(Dataset):\n",
    "    def __init__(self, data, word2index, min_len, max_len, mask_only_last=False):\n",
    "        self.word2index = word2index\n",
    "        self.min_len = min_len\n",
    "        self.max_len = max_len\n",
    "        self.mask_only_last = mask_only_last\n",
    "\n",
    "        self.sequences = []\n",
    "        for product_ids in tqdm(data):\n",
    "            # 같은 상품이 연속으로 클릭된 경우 한 번으로 환원\n",
    "            clean_product_ids = []\n",
    "            for i in product_ids:\n",
    "                if (not clean_product_ids) or (clean_product_ids[-1] != i):\n",
    "                    clean_product_ids.append(i)\n",
    "\n",
    "            if len(clean_product_ids) < min_len:\n",
    "                continue\n",
    "\n",
    "            product_indices = [word2index.get(i, word2index['<UNK>']) for i in clean_product_ids]\n",
    "\n",
    "            if mask_only_last and product_indices[-1] == word2index['<UNK>']:\n",
    "                continue\n",
    "\n",
    "            if all([i == word2index['<UNK>'] for i in product_indices[:max_len]]):\n",
    "                continue\n",
    "\n",
    "            self.sequences.append(product_indices)\n",
    "\n",
    "    def __len__(self):\n",
    "        return len(self.sequences)\n",
    "\n",
    "    def __getitem__(self, idx):\n",
    "        item_list = self.sequences[idx][:self.max_len]\n",
    "        input_ids = item_list + [self.word2index['<PAD>']] * (self.max_len - len(item_list))  # padding\n",
    "        if self.mask_only_last:\n",
    "            mask_pos = len(item_list) - 1\n",
    "        else:\n",
    "            mask_pos = None\n",
    "            while True:\n",
    "                mask_pos = random.randint(0, len(item_list) - 1)\n",
    "                if input_ids[mask_pos] != word2index['<UNK>']:\n",
    "                    break\n",
    "                \n",
    "        target = input_ids[mask_pos]\n",
    "        input_ids[mask_pos] = self.word2index['[MASK]']\n",
    "\n",
    "        return (\n",
    "            torch.LongTensor(input_ids),\n",
    "            torch.LongTensor([mask_pos]),\n",
    "            torch.LongTensor([target]),\n",
    "        )\n",
    "\n",
    "train_dataset = SequenceDataset(sequence_data[:200000], word2index, min_len, max_len, mask_only_last=False)\n",
    "val_dataset = SequenceDataset(sequence_data[200000:210000], word2index, min_len, max_len, mask_only_last=True)"
   ]
  },
  {
   "cell_type": "code",
   "execution_count": 10,
   "metadata": {},
   "outputs": [],
   "source": [
    "train_dataloader = DataLoader(train_dataset, batch_size=128, shuffle=True)\n",
    "val_dataloader = DataLoader(val_dataset, batch_size=128, shuffle=False)"
   ]
  },
  {
   "cell_type": "code",
   "execution_count": 11,
   "metadata": {},
   "outputs": [
    {
     "name": "stdout",
     "output_type": "stream",
     "text": [
      "(tensor([    4,    10, 31349,    31,    57,    83,   421,     0,     0,     0,\n",
      "            0,     0,     0,     0,     0,     0,     0,     0,     0,     0]), tensor([2]), tensor([14]))\n",
      "(tensor([ 6871,  4337,  4198,  3723,  8443,  5996,  3652,  2684, 31349,     0,\n",
      "            0,     0,     0,     0,     0,     0,     0,     0,     0,     0]), tensor([8]), tensor([7884]))\n"
     ]
    }
   ],
   "source": [
    "print(train_dataset[0])\n",
    "print(val_dataset[0])"
   ]
  },
  {
   "cell_type": "code",
   "execution_count": 12,
   "metadata": {},
   "outputs": [],
   "source": [
    "d_embed = 64\n",
    "d_model = 64\n",
    "n_layer = 2\n",
    "h = 2\n",
    "d_ff = d_model * 2\n",
    "\n",
    "token_embed = TokenEmbedding(d_embed=d_embed, vocab_size=vocab_size)\n",
    "pos_embed = PositionEmbedding(d_embed=d_embed, max_len=max_len)\n",
    "embed = BertEmbedding(token_embed=token_embed, pos_embed=pos_embed)\n",
    "\n",
    "attention = MultiHeadAttentionLayer(d_model=d_model, h=h, qkv_fc=nn.Linear(d_embed, d_model), out_fc=nn.Linear(d_model, d_embed))\n",
    "position_ff = PositionWiseFeedForwardLayer(fc1=nn.Linear(d_embed, d_ff), fc2=nn.Linear(d_ff, d_embed))\n",
    "\n",
    "encoder_block = EncoderBlock(self_attention=copy.deepcopy(attention), position_ff=position_ff, d_model=d_model)\n",
    "encoder = Encoder(encoder_block=encoder_block, n_layer=n_layer)\n",
    "\n",
    "generator = nn.Linear(d_embed, vocab_size)\n",
    "\n",
    "model = Bert(\n",
    "    embed=embed,\n",
    "    encoder=encoder,\n",
    "    generator=generator\n",
    ").to(device)\n",
    "criterion = nn.CrossEntropyLoss(ignore_index=word2index['<PAD>']).to(device)\n",
    "optimizer = torch.optim.Adam(model.parameters(), lr=5e-4)"
   ]
  },
  {
   "cell_type": "code",
   "execution_count": 13,
   "metadata": {},
   "outputs": [],
   "source": [
    "def train(model, dataloader, criterion, optimizer):\n",
    "    model.train()\n",
    "    total_loss = 0\n",
    "    for batch in tqdm(dataloader):\n",
    "        input_ids, mask_pos, targets = [b.to(device) for b in batch]\n",
    "        outputs = model(input_ids)\n",
    "        loss = criterion(outputs[torch.arange(outputs.size(0)), mask_pos.squeeze(), :], targets.squeeze())\n",
    "\n",
    "        optimizer.zero_grad()\n",
    "        loss.backward()\n",
    "        optimizer.step()\n",
    "        total_loss += loss.item()\n",
    "\n",
    "    \n",
    "    avg_loss = total_loss / len(dataloader)\n",
    "\n",
    "    return avg_loss\n",
    "\n",
    "\n",
    "def calculate_mrr(predictions, targets):\n",
    "    mrr = 0\n",
    "    for pred, target in zip(predictions, targets):\n",
    "        ranking = (pred.argsort(descending=True) == target).nonzero().item()\n",
    "        mrr += 1 / (ranking + 1)  # +1 because ranking is 0-indexed\n",
    "    return mrr / len(targets)\n",
    "\n",
    "\n",
    "def calculate_hr(predictions, targets, k=10):\n",
    "    hr = 0\n",
    "    for pred, target in zip(predictions, targets):\n",
    "        topk = pred.argsort(descending=True)[:k]\n",
    "        if target in topk:\n",
    "            hr += 1\n",
    "    \n",
    "    return hr / len(targets)\n",
    "\n",
    "\n",
    "def evaluate(model, dataloader, criterion):\n",
    "    model.eval()\n",
    "    total_loss = 0\n",
    "    total_hr = 0\n",
    "    total_mrr = 0\n",
    "    with torch.no_grad():\n",
    "        for batch in tqdm(dataloader):\n",
    "            input_ids, mask_pos, targets = [b.to(device) for b in batch]\n",
    "            outputs = model(input_ids)\n",
    "            loss = criterion(outputs[torch.arange(outputs.size(0)), mask_pos.squeeze(), :], targets.squeeze())\n",
    "            total_loss += loss.item()\n",
    "\n",
    "            # Calculate MRR\n",
    "            predictions = outputs[torch.arange(outputs.size(0)), mask_pos.squeeze(), :]\n",
    "            hr = calculate_hr(predictions, targets.squeeze(), k=10)\n",
    "            total_hr += hr\n",
    "            mrr = calculate_mrr(predictions, targets.squeeze())\n",
    "            total_mrr += mrr\n",
    "\n",
    "    avg_loss = total_loss / len(dataloader)\n",
    "    avg_hr = total_hr / len(dataloader)\n",
    "    avg_mrr = total_mrr / len(dataloader)\n",
    "    return avg_loss, avg_hr, avg_mrr"
   ]
  },
  {
   "cell_type": "code",
   "execution_count": 14,
   "metadata": {},
   "outputs": [],
   "source": [
    "model_save_dir = './'"
   ]
  },
  {
   "cell_type": "code",
   "execution_count": 15,
   "metadata": {},
   "outputs": [
    {
     "name": "stderr",
     "output_type": "stream",
     "text": [
      "100%|██████████| 1057/1057 [00:53<00:00, 19.78it/s]\n",
      "100%|██████████| 48/48 [00:22<00:00,  2.14it/s]\n"
     ]
    },
    {
     "name": "stdout",
     "output_type": "stream",
     "text": [
      "Epoch: 0, Train loss: 9.699, Eval loss: 9.554, HR@10: 0.032, MRR: 0.015\n"
     ]
    },
    {
     "name": "stderr",
     "output_type": "stream",
     "text": [
      "100%|██████████| 1057/1057 [00:49<00:00, 21.50it/s]\n",
      "100%|██████████| 48/48 [00:22<00:00,  2.14it/s]\n"
     ]
    },
    {
     "name": "stdout",
     "output_type": "stream",
     "text": [
      "Epoch: 1, Train loss: 9.262, Eval loss: 9.361, HR@10: 0.034, MRR: 0.017\n"
     ]
    },
    {
     "name": "stderr",
     "output_type": "stream",
     "text": [
      "100%|██████████| 1057/1057 [00:49<00:00, 21.55it/s]\n",
      "100%|██████████| 48/48 [00:21<00:00,  2.19it/s]\n"
     ]
    },
    {
     "name": "stdout",
     "output_type": "stream",
     "text": [
      "Epoch: 2, Train loss: 9.022, Eval loss: 9.183, HR@10: 0.039, MRR: 0.019\n"
     ]
    },
    {
     "name": "stderr",
     "output_type": "stream",
     "text": [
      "100%|██████████| 1057/1057 [00:48<00:00, 21.62it/s]\n",
      "100%|██████████| 48/48 [00:21<00:00,  2.21it/s]\n"
     ]
    },
    {
     "name": "stdout",
     "output_type": "stream",
     "text": [
      "Epoch: 3, Train loss: 8.836, Eval loss: 9.044, HR@10: 0.052, MRR: 0.027\n"
     ]
    },
    {
     "name": "stderr",
     "output_type": "stream",
     "text": [
      "100%|██████████| 1057/1057 [00:48<00:00, 21.63it/s]\n",
      "100%|██████████| 48/48 [00:22<00:00,  2.18it/s]\n"
     ]
    },
    {
     "name": "stdout",
     "output_type": "stream",
     "text": [
      "Epoch: 4, Train loss: 8.653, Eval loss: 8.892, HR@10: 0.075, MRR: 0.036\n"
     ]
    },
    {
     "name": "stderr",
     "output_type": "stream",
     "text": [
      "100%|██████████| 1057/1057 [00:49<00:00, 21.54it/s]\n",
      "100%|██████████| 48/48 [00:22<00:00,  2.18it/s]\n"
     ]
    },
    {
     "name": "stdout",
     "output_type": "stream",
     "text": [
      "Epoch: 5, Train loss: 8.464, Eval loss: 8.724, HR@10: 0.086, MRR: 0.044\n"
     ]
    },
    {
     "name": "stderr",
     "output_type": "stream",
     "text": [
      "100%|██████████| 1057/1057 [00:48<00:00, 21.67it/s]\n",
      "100%|██████████| 48/48 [00:22<00:00,  2.17it/s]\n"
     ]
    },
    {
     "name": "stdout",
     "output_type": "stream",
     "text": [
      "Epoch: 6, Train loss: 8.284, Eval loss: 8.571, HR@10: 0.097, MRR: 0.049\n"
     ]
    },
    {
     "name": "stderr",
     "output_type": "stream",
     "text": [
      "100%|██████████| 1057/1057 [00:48<00:00, 21.63it/s]\n",
      "100%|██████████| 48/48 [00:21<00:00,  2.24it/s]\n"
     ]
    },
    {
     "name": "stdout",
     "output_type": "stream",
     "text": [
      "Epoch: 7, Train loss: 8.111, Eval loss: 8.418, HR@10: 0.111, MRR: 0.054\n"
     ]
    },
    {
     "name": "stderr",
     "output_type": "stream",
     "text": [
      "100%|██████████| 1057/1057 [00:48<00:00, 21.63it/s]\n",
      "100%|██████████| 48/48 [00:22<00:00,  2.15it/s]\n"
     ]
    },
    {
     "name": "stdout",
     "output_type": "stream",
     "text": [
      "Epoch: 8, Train loss: 7.946, Eval loss: 8.276, HR@10: 0.120, MRR: 0.057\n"
     ]
    },
    {
     "name": "stderr",
     "output_type": "stream",
     "text": [
      "100%|██████████| 1057/1057 [00:48<00:00, 21.83it/s]\n",
      "100%|██████████| 48/48 [00:21<00:00,  2.28it/s]\n"
     ]
    },
    {
     "name": "stdout",
     "output_type": "stream",
     "text": [
      "Epoch: 9, Train loss: 7.789, Eval loss: 8.151, HR@10: 0.134, MRR: 0.064\n"
     ]
    },
    {
     "name": "stderr",
     "output_type": "stream",
     "text": [
      "100%|██████████| 1057/1057 [00:48<00:00, 21.82it/s]\n",
      "100%|██████████| 48/48 [00:21<00:00,  2.23it/s]\n"
     ]
    },
    {
     "name": "stdout",
     "output_type": "stream",
     "text": [
      "Epoch: 10, Train loss: 7.640, Eval loss: 8.026, HR@10: 0.139, MRR: 0.069\n"
     ]
    },
    {
     "name": "stderr",
     "output_type": "stream",
     "text": [
      "100%|██████████| 1057/1057 [00:48<00:00, 21.78it/s]\n",
      "100%|██████████| 48/48 [00:20<00:00,  2.33it/s]\n"
     ]
    },
    {
     "name": "stdout",
     "output_type": "stream",
     "text": [
      "Epoch: 11, Train loss: 7.507, Eval loss: 7.923, HR@10: 0.145, MRR: 0.072\n"
     ]
    },
    {
     "name": "stderr",
     "output_type": "stream",
     "text": [
      "100%|██████████| 1057/1057 [00:48<00:00, 21.80it/s]\n",
      "100%|██████████| 48/48 [00:20<00:00,  2.35it/s]\n"
     ]
    },
    {
     "name": "stdout",
     "output_type": "stream",
     "text": [
      "Epoch: 12, Train loss: 7.370, Eval loss: 7.822, HR@10: 0.154, MRR: 0.075\n"
     ]
    },
    {
     "name": "stderr",
     "output_type": "stream",
     "text": [
      "100%|██████████| 1057/1057 [00:48<00:00, 21.83it/s]\n",
      "100%|██████████| 48/48 [00:20<00:00,  2.34it/s]\n"
     ]
    },
    {
     "name": "stdout",
     "output_type": "stream",
     "text": [
      "Epoch: 13, Train loss: 7.259, Eval loss: 7.720, HR@10: 0.161, MRR: 0.080\n"
     ]
    },
    {
     "name": "stderr",
     "output_type": "stream",
     "text": [
      "100%|██████████| 1057/1057 [00:48<00:00, 21.72it/s]\n",
      "100%|██████████| 48/48 [00:21<00:00,  2.25it/s]\n"
     ]
    },
    {
     "name": "stdout",
     "output_type": "stream",
     "text": [
      "Epoch: 14, Train loss: 7.158, Eval loss: 7.648, HR@10: 0.162, MRR: 0.081\n"
     ]
    },
    {
     "name": "stderr",
     "output_type": "stream",
     "text": [
      "100%|██████████| 1057/1057 [00:48<00:00, 21.72it/s]\n",
      "100%|██████████| 48/48 [00:21<00:00,  2.22it/s]\n"
     ]
    },
    {
     "name": "stdout",
     "output_type": "stream",
     "text": [
      "Epoch: 15, Train loss: 7.054, Eval loss: 7.566, HR@10: 0.169, MRR: 0.082\n"
     ]
    },
    {
     "name": "stderr",
     "output_type": "stream",
     "text": [
      "100%|██████████| 1057/1057 [00:48<00:00, 21.75it/s]\n",
      "100%|██████████| 48/48 [00:20<00:00,  2.33it/s]\n"
     ]
    },
    {
     "name": "stdout",
     "output_type": "stream",
     "text": [
      "Epoch: 16, Train loss: 6.958, Eval loss: 7.491, HR@10: 0.177, MRR: 0.086\n"
     ]
    },
    {
     "name": "stderr",
     "output_type": "stream",
     "text": [
      "100%|██████████| 1057/1057 [00:48<00:00, 21.65it/s]\n",
      "100%|██████████| 48/48 [00:20<00:00,  2.35it/s]\n"
     ]
    },
    {
     "name": "stdout",
     "output_type": "stream",
     "text": [
      "Epoch: 17, Train loss: 6.875, Eval loss: 7.426, HR@10: 0.184, MRR: 0.088\n"
     ]
    },
    {
     "name": "stderr",
     "output_type": "stream",
     "text": [
      "100%|██████████| 1057/1057 [00:48<00:00, 21.78it/s]\n",
      "100%|██████████| 48/48 [00:21<00:00,  2.27it/s]\n"
     ]
    },
    {
     "name": "stdout",
     "output_type": "stream",
     "text": [
      "Epoch: 18, Train loss: 6.786, Eval loss: 7.374, HR@10: 0.185, MRR: 0.089\n"
     ]
    },
    {
     "name": "stderr",
     "output_type": "stream",
     "text": [
      "100%|██████████| 1057/1057 [00:48<00:00, 21.80it/s]\n",
      "100%|██████████| 48/48 [00:20<00:00,  2.33it/s]\n"
     ]
    },
    {
     "name": "stdout",
     "output_type": "stream",
     "text": [
      "Epoch: 19, Train loss: 6.717, Eval loss: 7.309, HR@10: 0.188, MRR: 0.091\n"
     ]
    },
    {
     "name": "stderr",
     "output_type": "stream",
     "text": [
      "100%|██████████| 1057/1057 [00:48<00:00, 21.86it/s]\n",
      "100%|██████████| 48/48 [00:21<00:00,  2.25it/s]\n"
     ]
    },
    {
     "name": "stdout",
     "output_type": "stream",
     "text": [
      "Epoch: 20, Train loss: 6.646, Eval loss: 7.261, HR@10: 0.195, MRR: 0.093\n"
     ]
    },
    {
     "name": "stderr",
     "output_type": "stream",
     "text": [
      "100%|██████████| 1057/1057 [00:48<00:00, 21.77it/s]\n",
      "100%|██████████| 48/48 [00:20<00:00,  2.33it/s]\n"
     ]
    },
    {
     "name": "stdout",
     "output_type": "stream",
     "text": [
      "Epoch: 21, Train loss: 6.580, Eval loss: 7.214, HR@10: 0.199, MRR: 0.096\n"
     ]
    },
    {
     "name": "stderr",
     "output_type": "stream",
     "text": [
      "100%|██████████| 1057/1057 [00:48<00:00, 21.75it/s]\n",
      "100%|██████████| 48/48 [00:20<00:00,  2.32it/s]\n"
     ]
    },
    {
     "name": "stdout",
     "output_type": "stream",
     "text": [
      "Epoch: 22, Train loss: 6.519, Eval loss: 7.170, HR@10: 0.202, MRR: 0.095\n"
     ]
    },
    {
     "name": "stderr",
     "output_type": "stream",
     "text": [
      "100%|██████████| 1057/1057 [00:48<00:00, 21.80it/s]\n",
      "100%|██████████| 48/48 [00:21<00:00,  2.25it/s]\n"
     ]
    },
    {
     "name": "stdout",
     "output_type": "stream",
     "text": [
      "Epoch: 23, Train loss: 6.457, Eval loss: 7.131, HR@10: 0.199, MRR: 0.095\n"
     ]
    },
    {
     "name": "stderr",
     "output_type": "stream",
     "text": [
      "100%|██████████| 1057/1057 [00:48<00:00, 21.71it/s]\n",
      "100%|██████████| 48/48 [00:21<00:00,  2.19it/s]\n"
     ]
    },
    {
     "name": "stdout",
     "output_type": "stream",
     "text": [
      "Epoch: 24, Train loss: 6.397, Eval loss: 7.096, HR@10: 0.206, MRR: 0.097\n"
     ]
    },
    {
     "name": "stderr",
     "output_type": "stream",
     "text": [
      "100%|██████████| 1057/1057 [00:48<00:00, 21.71it/s]\n",
      "100%|██████████| 48/48 [00:21<00:00,  2.19it/s]\n"
     ]
    },
    {
     "name": "stdout",
     "output_type": "stream",
     "text": [
      "Epoch: 25, Train loss: 6.347, Eval loss: 7.076, HR@10: 0.206, MRR: 0.099\n"
     ]
    },
    {
     "name": "stderr",
     "output_type": "stream",
     "text": [
      "100%|██████████| 1057/1057 [00:48<00:00, 21.70it/s]\n",
      "100%|██████████| 48/48 [00:21<00:00,  2.19it/s]\n"
     ]
    },
    {
     "name": "stdout",
     "output_type": "stream",
     "text": [
      "Epoch: 26, Train loss: 6.304, Eval loss: 7.031, HR@10: 0.211, MRR: 0.102\n"
     ]
    },
    {
     "name": "stderr",
     "output_type": "stream",
     "text": [
      "100%|██████████| 1057/1057 [00:50<00:00, 20.75it/s]\n",
      "100%|██████████| 48/48 [00:21<00:00,  2.21it/s]\n"
     ]
    },
    {
     "name": "stdout",
     "output_type": "stream",
     "text": [
      "Epoch: 27, Train loss: 6.256, Eval loss: 7.006, HR@10: 0.209, MRR: 0.098\n"
     ]
    },
    {
     "name": "stderr",
     "output_type": "stream",
     "text": [
      "100%|██████████| 1057/1057 [00:48<00:00, 21.61it/s]\n",
      "100%|██████████| 48/48 [00:21<00:00,  2.28it/s]\n"
     ]
    },
    {
     "name": "stdout",
     "output_type": "stream",
     "text": [
      "Epoch: 28, Train loss: 6.217, Eval loss: 6.970, HR@10: 0.216, MRR: 0.101\n"
     ]
    },
    {
     "name": "stderr",
     "output_type": "stream",
     "text": [
      "100%|██████████| 1057/1057 [00:48<00:00, 21.69it/s]\n",
      "100%|██████████| 48/48 [00:21<00:00,  2.21it/s]"
     ]
    },
    {
     "name": "stdout",
     "output_type": "stream",
     "text": [
      "Epoch: 29, Train loss: 6.166, Eval loss: 6.937, HR@10: 0.212, MRR: 0.104\n",
      "max MRR: 0.10362379760076068\n"
     ]
    },
    {
     "name": "stderr",
     "output_type": "stream",
     "text": [
      "\n"
     ]
    }
   ],
   "source": [
    "if not os.path.isdir(model_save_dir):\n",
    "    os.makedirs(model_save_dir)\n",
    "\n",
    "n_epochs = 30\n",
    "max_mrr = float(\"-inf\")\n",
    "early_stop_counter = 0\n",
    "\n",
    "train_history = []\n",
    "for epoch in range(n_epochs):\n",
    "    train_loss = train(model, train_dataloader, criterion, optimizer)\n",
    "    eval_loss, hr, mrr = evaluate(model, val_dataloader, criterion)\n",
    "\n",
    "    print(f'Epoch: {epoch}, Train loss: {train_loss:.3f}, Eval loss: {eval_loss:.3f}, HR@10: {hr:.3f}, MRR: {mrr:.3f}')\n",
    "\n",
    "    train_history.append(\n",
    "        {\n",
    "            'epoch': epoch,\n",
    "            'train_loss': train_loss,\n",
    "            'eval_loss': eval_loss,\n",
    "            'mrr': mrr,\n",
    "        }\n",
    "    )\n",
    "\n",
    "    if mrr > max_mrr:\n",
    "        torch.save(\n",
    "            copy.deepcopy(model).to(torch.device(\"cpu\")).state_dict(),\n",
    "            f\"{model_save_dir}/bert4rec.pt\",\n",
    "        )\n",
    "        max_mrr = mrr\n",
    "\n",
    "print(f\"max MRR: {max_mrr}\")\n",
    "\n",
    "with open(f\"{model_save_dir}/train_history.json\", \"w\") as f:\n",
    "    f.write(json.dumps(train_history))"
   ]
  },
  {
   "cell_type": "code",
   "execution_count": 16,
   "metadata": {},
   "outputs": [],
   "source": [
    "product_id_to_category_code = dict(zip(df['product_id'], df['category_code']))"
   ]
  },
  {
   "cell_type": "code",
   "execution_count": 20,
   "metadata": {},
   "outputs": [
    {
     "name": "stderr",
     "output_type": "stream",
     "text": [
      "100%|██████████| 1000/1000 [00:00<00:00, 438964.31it/s]"
     ]
    },
    {
     "name": "stdout",
     "output_type": "stream",
     "text": [
      "previewed_categories: ['apparel.shoes', 'apparel.shoes', 'apparel.shoes']\n",
      "top10_categories: ['sport.bicycle', 'apparel.shoes', 'apparel.shoes', 'apparel.shoes', 'apparel.shoes', 'apparel.shoes', 'apparel.shoes.keds', 'apparel.shoes', 'apparel.shoes', 'apparel.shoes']\n"
     ]
    },
    {
     "name": "stderr",
     "output_type": "stream",
     "text": [
      "\n"
     ]
    }
   ],
   "source": [
    "test_dataset = SequenceDataset(sequence_data[210000:211000], word2index, min_len, max_len, mask_only_last=True)\n",
    "random_idx = random.randint(0, len(test_dataset))\n",
    "input_ids, mask_pos, target = test_dataset[random_idx]\n",
    "outputs = model(input_ids.unsqueeze(0).to(device))\n",
    "pred = outputs[0, mask_pos, :].squeeze()\n",
    "sorted_indices = pred.argsort(descending=True)\n",
    "\n",
    "previewed_categories = []\n",
    "for i in input_ids[:-1]:\n",
    "    product_id = index2word[i.item()]\n",
    "    if product_id in ('<PAD>', '[MASK]'):\n",
    "        break\n",
    "    if product_id == '<UNK>':\n",
    "        continue\n",
    "    category_code = product_id_to_category_code[product_id]\n",
    "    previewed_categories.append(category_code)\n",
    "\n",
    "top10_categories = []\n",
    "for i in sorted_indices[:10]:\n",
    "    product_id = index2word[i.item()]\n",
    "    if product_id in ('<PAD>', '[MASK]'):\n",
    "        break\n",
    "    if product_id == '<UNK>':\n",
    "        continue\n",
    "    category_code = product_id_to_category_code[product_id]\n",
    "    top10_categories.append(category_code)\n",
    "\n",
    "print(f'previewed_categories: {previewed_categories}')\n",
    "print(f'top10_categories: {top10_categories}')"
   ]
  },
  {
   "cell_type": "code",
   "execution_count": null,
   "metadata": {},
   "outputs": [],
   "source": []
  }
 ],
 "metadata": {
  "kernelspec": {
   "display_name": "recsys",
   "language": "python",
   "name": "python3"
  },
  "language_info": {
   "codemirror_mode": {
    "name": "ipython",
    "version": 3
   },
   "file_extension": ".py",
   "mimetype": "text/x-python",
   "name": "python",
   "nbconvert_exporter": "python",
   "pygments_lexer": "ipython3",
   "version": "3.12.0"
  }
 },
 "nbformat": 4,
 "nbformat_minor": 2
}
