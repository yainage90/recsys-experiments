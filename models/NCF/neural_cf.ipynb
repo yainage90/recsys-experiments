{
 "cells": [
  {
   "cell_type": "code",
   "execution_count": 25,
   "metadata": {},
   "outputs": [],
   "source": [
    "import numpy as np\n",
    "import pandas as pd\n",
    "import random\n",
    "from tqdm import tqdm\n",
    "\n",
    "import torch\n",
    "import torch.nn as nn\n",
    "import torch.nn.functional as F\n",
    "from torch.utils.data import Dataset, DataLoader\n",
    "import matplotlib.pyplot as plt"
   ]
  },
  {
   "cell_type": "code",
   "execution_count": 26,
   "metadata": {},
   "outputs": [
    {
     "data": {
      "text/html": [
       "<div>\n",
       "<style scoped>\n",
       "    .dataframe tbody tr th:only-of-type {\n",
       "        vertical-align: middle;\n",
       "    }\n",
       "\n",
       "    .dataframe tbody tr th {\n",
       "        vertical-align: top;\n",
       "    }\n",
       "\n",
       "    .dataframe thead th {\n",
       "        text-align: right;\n",
       "    }\n",
       "</style>\n",
       "<table border=\"1\" class=\"dataframe\">\n",
       "  <thead>\n",
       "    <tr style=\"text-align: right;\">\n",
       "      <th></th>\n",
       "      <th>user_id</th>\n",
       "      <th>product_id</th>\n",
       "      <th>category_code</th>\n",
       "    </tr>\n",
       "  </thead>\n",
       "  <tbody>\n",
       "    <tr>\n",
       "      <th>0</th>\n",
       "      <td>541312140</td>\n",
       "      <td>44600062</td>\n",
       "      <td>#unknown</td>\n",
       "    </tr>\n",
       "    <tr>\n",
       "      <th>1</th>\n",
       "      <td>554748717</td>\n",
       "      <td>3900821</td>\n",
       "      <td>appliances.environment.water_heater</td>\n",
       "    </tr>\n",
       "    <tr>\n",
       "      <th>2</th>\n",
       "      <td>519107250</td>\n",
       "      <td>17200506</td>\n",
       "      <td>furniture.living_room.sofa</td>\n",
       "    </tr>\n",
       "    <tr>\n",
       "      <th>3</th>\n",
       "      <td>550050854</td>\n",
       "      <td>1307067</td>\n",
       "      <td>computers.notebook</td>\n",
       "    </tr>\n",
       "    <tr>\n",
       "      <th>4</th>\n",
       "      <td>535871217</td>\n",
       "      <td>1004237</td>\n",
       "      <td>electronics.smartphone</td>\n",
       "    </tr>\n",
       "  </tbody>\n",
       "</table>\n",
       "</div>"
      ],
      "text/plain": [
       "     user_id  product_id                        category_code\n",
       "0  541312140    44600062                             #unknown\n",
       "1  554748717     3900821  appliances.environment.water_heater\n",
       "2  519107250    17200506           furniture.living_room.sofa\n",
       "3  550050854     1307067                   computers.notebook\n",
       "4  535871217     1004237               electronics.smartphone"
      ]
     },
     "execution_count": 26,
     "metadata": {},
     "output_type": "execute_result"
    }
   ],
   "source": [
    "df = pd.read_feather('../../dataset/preprocessed_data.feather')[['user_id', 'product_id', 'category_code']]\n",
    "df.head()"
   ]
  },
  {
   "cell_type": "code",
   "execution_count": 27,
   "metadata": {},
   "outputs": [
    {
     "name": "stdout",
     "output_type": "stream",
     "text": [
      "train: 38203885, test: 4244877\n"
     ]
    }
   ],
   "source": [
    "total_rows = len(df)\n",
    "\n",
    "train_size = int(total_rows * 0.9)\n",
    "\n",
    "train_df = df.iloc[:train_size]\n",
    "test_df = df.iloc[train_size:]\n",
    "\n",
    "print(f'train: {len(train_df)}, test: {len(test_df)}')\n",
    "\n",
    "del df"
   ]
  },
  {
   "cell_type": "code",
   "execution_count": 28,
   "metadata": {},
   "outputs": [],
   "source": [
    "user_counts = train_df['user_id'].value_counts().reset_index()[['user_id', 'count']]\n",
    "unique_user_ids = user_counts[user_counts['count'] >= 10]['user_id']\n",
    "user_id_to_index = {user_id: index for index, user_id in enumerate(unique_user_ids)}\n",
    "user_index_to_id = {index: user_id for index, user_id in enumerate(unique_user_ids)}\n",
    "\n",
    "product_counts = train_df['product_id'].value_counts().reset_index()[['product_id', 'count']]\n",
    "unique_product_ids = product_counts[product_counts['count'] >= 5]['product_id']\n",
    "product_id_to_index = {product_id: index for index, product_id in enumerate(unique_product_ids)}\n",
    "product_index_to_id = {index: product_id for index, product_id in enumerate(unique_product_ids)}\n",
    "\n",
    "del user_counts, product_counts"
   ]
  },
  {
   "cell_type": "code",
   "execution_count": 29,
   "metadata": {},
   "outputs": [
    {
     "name": "stdout",
     "output_type": "stream",
     "text": [
      "unique user ids: 890624\n",
      "unique product ids: 130913\n",
      "train: 32022554, test: 2253829\n"
     ]
    },
    {
     "data": {
      "text/html": [
       "<div>\n",
       "<style scoped>\n",
       "    .dataframe tbody tr th:only-of-type {\n",
       "        vertical-align: middle;\n",
       "    }\n",
       "\n",
       "    .dataframe tbody tr th {\n",
       "        vertical-align: top;\n",
       "    }\n",
       "\n",
       "    .dataframe thead th {\n",
       "        text-align: right;\n",
       "    }\n",
       "</style>\n",
       "<table border=\"1\" class=\"dataframe\">\n",
       "  <thead>\n",
       "    <tr style=\"text-align: right;\">\n",
       "      <th></th>\n",
       "      <th>user_id</th>\n",
       "      <th>product_id</th>\n",
       "      <th>category_code</th>\n",
       "      <th>user_index</th>\n",
       "      <th>product_index</th>\n",
       "    </tr>\n",
       "  </thead>\n",
       "  <tbody>\n",
       "    <tr>\n",
       "      <th>0</th>\n",
       "      <td>541312140</td>\n",
       "      <td>44600062</td>\n",
       "      <td>#unknown</td>\n",
       "      <td>32147</td>\n",
       "      <td>28939</td>\n",
       "    </tr>\n",
       "    <tr>\n",
       "      <th>2</th>\n",
       "      <td>519107250</td>\n",
       "      <td>17200506</td>\n",
       "      <td>furniture.living_room.sofa</td>\n",
       "      <td>462789</td>\n",
       "      <td>5410</td>\n",
       "    </tr>\n",
       "    <tr>\n",
       "      <th>3</th>\n",
       "      <td>550050854</td>\n",
       "      <td>1307067</td>\n",
       "      <td>computers.notebook</td>\n",
       "      <td>427246</td>\n",
       "      <td>213</td>\n",
       "    </tr>\n",
       "    <tr>\n",
       "      <th>4</th>\n",
       "      <td>535871217</td>\n",
       "      <td>1004237</td>\n",
       "      <td>electronics.smartphone</td>\n",
       "      <td>84837</td>\n",
       "      <td>43</td>\n",
       "    </tr>\n",
       "    <tr>\n",
       "      <th>5</th>\n",
       "      <td>512742880</td>\n",
       "      <td>1480613</td>\n",
       "      <td>computers.desktop</td>\n",
       "      <td>140152</td>\n",
       "      <td>11240</td>\n",
       "    </tr>\n",
       "  </tbody>\n",
       "</table>\n",
       "</div>"
      ],
      "text/plain": [
       "     user_id  product_id               category_code  user_index  \\\n",
       "0  541312140    44600062                    #unknown       32147   \n",
       "2  519107250    17200506  furniture.living_room.sofa      462789   \n",
       "3  550050854     1307067          computers.notebook      427246   \n",
       "4  535871217     1004237      electronics.smartphone       84837   \n",
       "5  512742880     1480613           computers.desktop      140152   \n",
       "\n",
       "   product_index  \n",
       "0          28939  \n",
       "2           5410  \n",
       "3            213  \n",
       "4             43  \n",
       "5          11240  "
      ]
     },
     "execution_count": 29,
     "metadata": {},
     "output_type": "execute_result"
    }
   ],
   "source": [
    "train_df = train_df[\n",
    "    (train_df['user_id'].isin(unique_user_ids)) & \n",
    "    (train_df['product_id'].isin(unique_product_ids))\n",
    "]\n",
    "\n",
    "test_df = test_df[\n",
    "    (test_df['user_id'].isin(unique_user_ids)) & \n",
    "    (test_df['product_id'].isin(unique_product_ids))\n",
    "]\n",
    "\n",
    "train_df['user_index'] = [user_id_to_index[user_id] for user_id in train_df['user_id']]\n",
    "train_df['product_index'] = [product_id_to_index[product_id] for product_id in train_df['product_id']]\n",
    "\n",
    "test_df['user_index'] = [user_id_to_index[user_id] for user_id in test_df['user_id']]\n",
    "test_df['product_index'] = [product_id_to_index[product_id] for product_id in test_df['product_id']]\n",
    "\n",
    "print(f'unique user ids: {len(unique_user_ids)}')\n",
    "print(f'unique product ids: {len(unique_product_ids)}')\n",
    "print(f'train: {len(train_df)}, test: {len(test_df)}')\n",
    "\n",
    "train_df.head()"
   ]
  },
  {
   "cell_type": "code",
   "execution_count": 30,
   "metadata": {},
   "outputs": [],
   "source": [
    "class FMDataset(Dataset):\n",
    "    def __init__(self, df):\n",
    "        self.data = []\n",
    "        for user, product in df[['user_index', 'product_index']].values:\n",
    "            self.data.append([int(user), int(product)])\n",
    "\n",
    "    def __len__(self):\n",
    "        return len(self.data)\n",
    "\n",
    "    def __getitem__(self, idx):\n",
    "        return self.data[idx]\n",
    "\n",
    "train_dataset = FMDataset(train_df)\n",
    "test_dataset = FMDataset(test_df)"
   ]
  },
  {
   "cell_type": "code",
   "execution_count": 31,
   "metadata": {},
   "outputs": [
    {
     "name": "stdout",
     "output_type": "stream",
     "text": [
      "train:32022554, test: 2253829\n",
      "[32147, 28939]\n",
      "[183080, 363]\n"
     ]
    }
   ],
   "source": [
    "print(f'train:{len(train_dataset)}, test: {len(test_dataset)}')\n",
    "print(train_dataset[0])\n",
    "print(test_dataset[0])"
   ]
  },
  {
   "cell_type": "code",
   "execution_count": 32,
   "metadata": {},
   "outputs": [],
   "source": [
    "# For negative sampling\n",
    "user_index_to_viewed_product_indices = train_df.groupby('user_index')['product_index'].agg(set).to_dict()\n",
    "total_product_indices = train_df['product_index'].unique().tolist()"
   ]
  },
  {
   "cell_type": "code",
   "execution_count": 65,
   "metadata": {},
   "outputs": [],
   "source": [
    "def collate_fn(batch):\n",
    "    users = []\n",
    "    products = []\n",
    "\n",
    "    neg_users = []\n",
    "    neg_products = []\n",
    "    \n",
    "    for row in batch:\n",
    "        user = row[0]\n",
    "        product = row[1]\n",
    "\n",
    "        user_viewed_product_indices = user_index_to_viewed_product_indices.get(user, [])\n",
    "        negative_product = None\n",
    "        while True:\n",
    "            negative_product = random.choice(total_product_indices)\n",
    "            if negative_product not in user_viewed_product_indices:\n",
    "                break\n",
    "\n",
    "        users.append(user)\n",
    "        products.append(product)\n",
    "\n",
    "        neg_users.append(user)\n",
    "        neg_products.append(negative_product)\n",
    "\n",
    "    pos_inputs = []\n",
    "    for user, product in zip(users, products):\n",
    "        pos_inputs.append(([user, product]))\n",
    "\n",
    "    neg_inputs = []\n",
    "    for user, product in zip(neg_users, neg_products):\n",
    "        neg_inputs.append(([user, product]))\n",
    "    \n",
    "    return torch.LongTensor(pos_inputs), torch.LongTensor(neg_inputs)"
   ]
  },
  {
   "cell_type": "code",
   "execution_count": 66,
   "metadata": {},
   "outputs": [
    {
     "name": "stdout",
     "output_type": "stream",
     "text": [
      "train: 7819, test: 551\n"
     ]
    }
   ],
   "source": [
    "batch_size = 4096\n",
    "train_loader = DataLoader(train_dataset, batch_size=batch_size, shuffle=True, collate_fn=collate_fn)\n",
    "test_loader = DataLoader(test_dataset, batch_size=batch_size, shuffle=False, collate_fn=collate_fn)\n",
    "\n",
    "print(f'train: {len(train_loader)}, test: {len(test_loader)}')"
   ]
  },
  {
   "cell_type": "code",
   "execution_count": 67,
   "metadata": {},
   "outputs": [
    {
     "name": "stdout",
     "output_type": "stream",
     "text": [
      "device: mps\n"
     ]
    }
   ],
   "source": [
    "device = torch.device('mps') if torch.backends.mps.is_available() else torch.device('cpu')\n",
    "print(f'device: {device}')"
   ]
  },
  {
   "cell_type": "code",
   "execution_count": 69,
   "metadata": {},
   "outputs": [],
   "source": [
    "class GMF(nn.Module):\n",
    "    def __init__(self, num_users, num_items, latent_dim):\n",
    "        super(GMF, self).__init__()\n",
    "        self.user_embedding = nn.Embedding(num_users, latent_dim)\n",
    "        self.item_embedding = nn.Embedding(num_items, latent_dim)\n",
    "\n",
    "    def forward(self, user_indices, item_indices):\n",
    "        user_emb = self.user_embedding(user_indices)\n",
    "        item_emb = self.item_embedding(item_indices)\n",
    "        out = torch.mul(user_emb, item_emb)\n",
    "        return out\n",
    "\n",
    "class MLP(nn.Module):\n",
    "    def __init__(self, num_users, num_items, latent_dim, layers):\n",
    "        super(MLP, self).__init__()\n",
    "        self.user_embedding = nn.Embedding(num_users, latent_dim)\n",
    "        self.item_embedding = nn.Embedding(num_items, latent_dim)\n",
    "\n",
    "        self.layers = nn.ModuleList()\n",
    "        input_size = 2 * latent_dim\n",
    "        self.layers.append(nn.Linear(input_size, layers[0]))\n",
    "\n",
    "        for h_dim_in, h_dim_out in zip(layers[:-1], layers[1:]):\n",
    "            self.layers.append(nn.Linear(h_dim_in, h_dim_out))\n",
    "\n",
    "    def forward(self, user_indices, item_indices):\n",
    "        user_emb = self.user_embedding(user_indices)\n",
    "        item_emb = self.item_embedding(item_indices)\n",
    "        x = torch.cat([user_emb, item_emb], dim=-1)\n",
    "\n",
    "        for layer in self.layers:\n",
    "            x = F.relu(layer(x))\n",
    "\n",
    "        return x\n",
    "\n",
    "class NeuralCF(nn.Module):\n",
    "    def __init__(self, num_users, num_items, latent_dim, mlp_layers):\n",
    "        super(NeuralCF, self).__init__()\n",
    "        \n",
    "        self.gmf = GMF(num_users, num_items, latent_dim)\n",
    "        self.mlp = MLP(num_users, num_items, latent_dim, mlp_layers)\n",
    "        self.fc = nn.Linear(latent_dim + mlp_layers[-1], 1)\n",
    "\n",
    "    def forward(self, user_indices, item_indices):\n",
    "        gmf_out = self.gmf(user_indices, item_indices)\n",
    "        mlp_out = self.mlp(user_indices, item_indices)\n",
    "\n",
    "        out = self.fc(torch.cat([gmf_out, mlp_out], dim=-1)).squeeze()\n",
    "        return out\n",
    "\n",
    "        \n",
    "class BPRLoss(nn.Module):\n",
    "    def __init__(self, **kwargs):\n",
    "        super(BPRLoss, self).__init__(**kwargs)\n",
    "        self.sigmoid = nn.Sigmoid()\n",
    "\n",
    "    def forward(self, positive, negative):\n",
    "        distances = positive - negative\n",
    "        loss = -torch.sum(torch.log(self.sigmoid(distances)))\n",
    "        return loss"
   ]
  },
  {
   "cell_type": "code",
   "execution_count": 75,
   "metadata": {},
   "outputs": [],
   "source": [
    "def create_model():\n",
    "    return NeuralCF(\n",
    "        num_users=len(unique_user_ids),\n",
    "        num_items=len(unique_product_ids),\n",
    "        latent_dim=8,\n",
    "        mlp_layers=[16, 8, 4],\n",
    "    ).to(device)\n",
    "\n",
    "model = create_model()\n",
    "# criterion = nn.BCEWithLogitsLoss().to(device)\n",
    "criterion = BPRLoss()\n",
    "optimizer = torch.optim.Adam(params=model.parameters(), lr=1e-3, weight_decay=1e-5)"
   ]
  },
  {
   "cell_type": "code",
   "execution_count": 76,
   "metadata": {},
   "outputs": [],
   "source": [
    "def train(model, optimizer, criterion, dataloader):\n",
    "    model.train()\n",
    "    total_loss = 0\n",
    "    total = 0\n",
    "\n",
    "    for pos_inputs, neg_inputs in tqdm(dataloader, desc=\"Train\"):\n",
    "        pos_user_indices, pos_item_indices = pos_inputs[:, 0].to(device), pos_inputs[:, 1].to(device)\n",
    "        neg_user_indices, neg_item_indices = neg_inputs[:, 0].to(device), neg_inputs[:, 1].to(device)\n",
    "        pos_outputs = model(pos_user_indices, pos_item_indices)\n",
    "        neg_outputs = model(neg_user_indices, neg_item_indices)\n",
    "        loss = criterion(pos_outputs, neg_outputs)\n",
    "        \n",
    "        optimizer.zero_grad()\n",
    "        loss.backward()\n",
    "        optimizer.step()\n",
    "\n",
    "        total_loss += loss.item()\n",
    "        total += pos_inputs.size(0)\n",
    "\n",
    "    avg_loss = total_loss / len(dataloader)\n",
    "    return avg_loss\n",
    "\n",
    "def evaluate(model, criterion, dataloader):\n",
    "    model.eval()\n",
    "    total_loss = 0\n",
    "    total = 0\n",
    "\n",
    "    with torch.no_grad():\n",
    "        for pos_inputs, neg_inputs in tqdm(dataloader, desc=\"Eval\"):\n",
    "            pos_user_indices, pos_item_indices = pos_inputs[:, 0].to(device), pos_inputs[:, 1].to(device)\n",
    "            neg_user_indices, neg_item_indices = neg_inputs[:, 0].to(device), neg_inputs[:, 1].to(device)\n",
    "            pos_outputs = model(pos_user_indices, pos_item_indices)\n",
    "            neg_outputs = model(neg_user_indices, neg_item_indices)\n",
    "            loss = criterion(pos_outputs, neg_outputs)\n",
    "\n",
    "            total_loss += loss.item()\n",
    "            total += pos_inputs.size(0)\n",
    "\n",
    "    avg_loss = total_loss / len(dataloader)\n",
    "    return avg_loss"
   ]
  },
  {
   "cell_type": "code",
   "execution_count": 77,
   "metadata": {},
   "outputs": [
    {
     "name": "stderr",
     "output_type": "stream",
     "text": [
      "Train: 100%|██████████| 7819/7819 [04:21<00:00, 29.86it/s]\n",
      "Eval: 100%|██████████| 551/551 [00:04<00:00, 113.25it/s]\n"
     ]
    },
    {
     "name": "stdout",
     "output_type": "stream",
     "text": [
      "Epoch 1, Train Loss: 985.6743, Eval Loss: 956.0278\n"
     ]
    },
    {
     "name": "stderr",
     "output_type": "stream",
     "text": [
      "Train: 100%|██████████| 7819/7819 [04:04<00:00, 32.04it/s]\n",
      "Eval: 100%|██████████| 551/551 [00:07<00:00, 75.78it/s] \n"
     ]
    },
    {
     "name": "stdout",
     "output_type": "stream",
     "text": [
      "Epoch 2, Train Loss: 776.2164, Eval Loss: 948.7932\n"
     ]
    },
    {
     "name": "stderr",
     "output_type": "stream",
     "text": [
      "Train: 100%|██████████| 7819/7819 [04:11<00:00, 31.11it/s]\n",
      "Eval: 100%|██████████| 551/551 [00:04<00:00, 119.19it/s]\n"
     ]
    },
    {
     "name": "stdout",
     "output_type": "stream",
     "text": [
      "Epoch 3, Train Loss: 754.7548, Eval Loss: 948.6939\n"
     ]
    },
    {
     "name": "stderr",
     "output_type": "stream",
     "text": [
      "Train: 100%|██████████| 7819/7819 [04:09<00:00, 31.32it/s]\n",
      "Eval: 100%|██████████| 551/551 [00:04<00:00, 112.10it/s]\n"
     ]
    },
    {
     "name": "stdout",
     "output_type": "stream",
     "text": [
      "Epoch 4, Train Loss: 721.8181, Eval Loss: 952.2563\n"
     ]
    },
    {
     "name": "stderr",
     "output_type": "stream",
     "text": [
      "Train: 100%|██████████| 7819/7819 [04:26<00:00, 29.31it/s]  \n",
      "Eval: 100%|██████████| 551/551 [00:08<00:00, 67.15it/s] \n"
     ]
    },
    {
     "name": "stdout",
     "output_type": "stream",
     "text": [
      "Epoch 5, Train Loss: 685.7287, Eval Loss: 960.6904\n"
     ]
    },
    {
     "name": "stderr",
     "output_type": "stream",
     "text": [
      "Train: 100%|██████████| 7819/7819 [04:52<00:00, 26.69it/s]\n",
      "Eval: 100%|██████████| 551/551 [00:04<00:00, 112.62it/s]"
     ]
    },
    {
     "name": "stdout",
     "output_type": "stream",
     "text": [
      "Epoch 6, Train Loss: 649.0348, Eval Loss: 965.2465\n",
      "Early stopping triggered at epoch 6\n"
     ]
    },
    {
     "name": "stderr",
     "output_type": "stream",
     "text": [
      "\n"
     ]
    }
   ],
   "source": [
    "patience = 3\n",
    "best_loss = float('inf')\n",
    "counter = 0\n",
    "\n",
    "n_epochs = 50\n",
    "for epoch in range(n_epochs):\n",
    "    train_loss = train(model, optimizer, criterion, train_loader)\n",
    "    eval_loss = evaluate(model, criterion, test_loader)\n",
    "\n",
    "    print(f'Epoch {epoch + 1}, Train Loss: {train_loss:.4f}, Eval Loss: {eval_loss:.4f}')\n",
    "\n",
    "    if eval_loss < best_loss:\n",
    "        best_loss = eval_loss\n",
    "        counter = 0\n",
    "        torch.save(model.state_dict(), 'best_model.pth')\n",
    "    else:\n",
    "        counter += 1\n",
    "        if counter >= patience:\n",
    "            print(f\"Early stopping triggered at epoch {epoch + 1}\")\n",
    "            break"
   ]
  },
  {
   "cell_type": "code",
   "execution_count": 78,
   "metadata": {},
   "outputs": [
    {
     "name": "stderr",
     "output_type": "stream",
     "text": [
      "/var/folders/61/z_y23ln573b2r1g8y664sldc0000gn/T/ipykernel_85353/2981501294.py:2: FutureWarning: You are using `torch.load` with `weights_only=False` (the current default value), which uses the default pickle module implicitly. It is possible to construct malicious pickle data which will execute arbitrary code during unpickling (See https://github.com/pytorch/pytorch/blob/main/SECURITY.md#untrusted-models for more details). In a future release, the default value for `weights_only` will be flipped to `True`. This limits the functions that could be executed during unpickling. Arbitrary objects will no longer be allowed to be loaded via this mode unless they are explicitly allowlisted by the user via `torch.serialization.add_safe_globals`. We recommend you start setting `weights_only=True` for any use case where you don't have full control of the loaded file. Please open an issue on GitHub for any issues related to this experimental feature.\n",
      "  model.load_state_dict(torch.load('best_model.pth'))\n"
     ]
    },
    {
     "data": {
      "text/plain": [
       "<All keys matched successfully>"
      ]
     },
     "execution_count": 78,
     "metadata": {},
     "output_type": "execute_result"
    }
   ],
   "source": [
    "model = create_model()\n",
    "model.load_state_dict(torch.load('best_model.pth'))"
   ]
  },
  {
   "cell_type": "code",
   "execution_count": 79,
   "metadata": {},
   "outputs": [
    {
     "name": "stderr",
     "output_type": "stream",
     "text": [
      "100%|██████████| 10000/10000 [30:20<00:00,  5.49it/s] \n"
     ]
    }
   ],
   "source": [
    "def recommend_all(n_sample_users=10000):\n",
    "    sample_user_indicies = test_df['user_index'].unique().tolist()[:n_sample_users]\n",
    "    product_indices = train_df['product_index'].unique().tolist()\n",
    "\n",
    "    recommend_dict = {}\n",
    "    for user in tqdm(sample_user_indicies):\n",
    "        inputs = []\n",
    "        for product in product_indices:\n",
    "            inputs.append([user, product])\n",
    "\n",
    "        scores = []\n",
    "        for i in range(0, len(inputs), 16384):\n",
    "            batch_inputs = inputs[i: i + 16384]\n",
    "            batch_inputs = torch.LongTensor(batch_inputs).to(device)\n",
    "            with torch.no_grad():\n",
    "                user_indices, item_indices = batch_inputs[:, 0], batch_inputs[:, 1]\n",
    "                batch_scores = model(user_indices, item_indices).squeeze()\n",
    "            scores.append(batch_scores)\n",
    "\n",
    "        scores = torch.cat(scores)\n",
    "\n",
    "        _, top_indices = torch.topk(scores, 500)\n",
    "        recommend_product_indices = [product_indices[i] for i in top_indices]\n",
    "        recommend_product_ids = [product_index_to_id[i] for i in recommend_product_indices]\n",
    "        user_id = user_index_to_id[user]\n",
    "        recommend_dict[user_id] = recommend_product_ids\n",
    "\n",
    "    return recommend_dict\n",
    "\n",
    "recommendations_dict = recommend_all()"
   ]
  },
  {
   "cell_type": "code",
   "execution_count": 80,
   "metadata": {},
   "outputs": [],
   "source": [
    "interaction_dict = test_df.groupby('user_id')['product_id'].agg(lambda x: list(set(x))).to_dict()"
   ]
  },
  {
   "cell_type": "code",
   "execution_count": 81,
   "metadata": {},
   "outputs": [],
   "source": [
    "def calculate_metrics(topk=10):\n",
    "\n",
    "    total_users = 0\n",
    "    precision_sum = 0\n",
    "    recall_sum = 0\n",
    "    ndcg_sum = 0\n",
    "\n",
    "    for user_id in tqdm(interaction_dict.keys()):\n",
    "        if user_id not in recommendations_dict:\n",
    "            continue\n",
    "\n",
    "        true_items = set(interaction_dict[user_id])\n",
    "        recommended_items = recommendations_dict[user_id]\n",
    "        top_k_items = set(recommended_items[:topk])\n",
    "\n",
    "        # precision\n",
    "        precision = len(top_k_items & true_items) / len(recommended_items)\n",
    "        precision_sum += precision\n",
    "        \n",
    "        # recall\n",
    "        recall = len(top_k_items & true_items) / len(true_items)\n",
    "        recall_sum += recall\n",
    "\n",
    "        # NDCG\n",
    "        dcg = 0\n",
    "        idcg = 0\n",
    "        for i, item in enumerate(top_k_items):\n",
    "            rel = 1 if item in true_items else 0\n",
    "            dcg += (2**rel - 1) / np.log2(i + 2)\n",
    "        \n",
    "        ideal_ranking = sorted([1 if item in true_items else 0 for item in top_k_items], reverse=True)\n",
    "        for i, rel in enumerate(ideal_ranking):\n",
    "            idcg += (2**rel - 1) / np.log2(i + 2)\n",
    "        \n",
    "        ndcg = dcg / idcg if idcg > 0 else 0\n",
    "        ndcg_sum += ndcg\n",
    "\n",
    "        total_users += 1\n",
    "        \n",
    "    mean_precision = precision_sum / total_users\n",
    "    mean_recall = recall_sum / total_users\n",
    "    mean_ndcg = float(ndcg_sum / total_users)\n",
    "\n",
    "    return mean_precision, mean_recall, mean_ndcg"
   ]
  },
  {
   "cell_type": "code",
   "execution_count": 82,
   "metadata": {},
   "outputs": [
    {
     "name": "stderr",
     "output_type": "stream",
     "text": [
      "100%|██████████| 201629/201629 [00:00<00:00, 1033945.92it/s]\n"
     ]
    },
    {
     "name": "stdout",
     "output_type": "stream",
     "text": [
      "precision@10: 0.00058, recall@10: 0.05517, ndcg@10: 0.09221\n"
     ]
    },
    {
     "name": "stderr",
     "output_type": "stream",
     "text": [
      "100%|██████████| 201629/201629 [00:00<00:00, 424374.83it/s]\n"
     ]
    },
    {
     "name": "stdout",
     "output_type": "stream",
     "text": [
      "precision@30: 0.00124, recall@30: 0.11029, ndcg@30: 0.10594\n"
     ]
    },
    {
     "name": "stderr",
     "output_type": "stream",
     "text": [
      "100%|██████████| 201629/201629 [00:00<00:00, 254667.53it/s]\n"
     ]
    },
    {
     "name": "stdout",
     "output_type": "stream",
     "text": [
      "precision@50: 0.00167, recall@50: 0.14225, ndcg@50: 0.11039\n"
     ]
    },
    {
     "name": "stderr",
     "output_type": "stream",
     "text": [
      "100%|██████████| 201629/201629 [00:01<00:00, 136984.22it/s]\n"
     ]
    },
    {
     "name": "stdout",
     "output_type": "stream",
     "text": [
      "precision@100: 0.00236, recall@100: 0.19250, ndcg@100: 0.10976\n"
     ]
    },
    {
     "name": "stderr",
     "output_type": "stream",
     "text": [
      "100%|██████████| 201629/201629 [00:02<00:00, 70324.94it/s]\n"
     ]
    },
    {
     "name": "stdout",
     "output_type": "stream",
     "text": [
      "precision@200: 0.00324, recall@200: 0.25269, ndcg@200: 0.11546\n"
     ]
    },
    {
     "name": "stderr",
     "output_type": "stream",
     "text": [
      "100%|██████████| 201629/201629 [00:04<00:00, 46159.37it/s]\n"
     ]
    },
    {
     "name": "stdout",
     "output_type": "stream",
     "text": [
      "precision@300: 0.00383, recall@300: 0.28991, ndcg@300: 0.11912\n"
     ]
    },
    {
     "name": "stderr",
     "output_type": "stream",
     "text": [
      "100%|██████████| 201629/201629 [00:05<00:00, 34432.44it/s]\n"
     ]
    },
    {
     "name": "stdout",
     "output_type": "stream",
     "text": [
      "precision@400: 0.00428, recall@400: 0.31839, ndcg@400: 0.11960\n"
     ]
    },
    {
     "name": "stderr",
     "output_type": "stream",
     "text": [
      "100%|██████████| 201629/201629 [00:07<00:00, 27428.12it/s]"
     ]
    },
    {
     "name": "stdout",
     "output_type": "stream",
     "text": [
      "precision@500: 0.00465, recall@500: 0.34094, ndcg@500: 0.12088\n"
     ]
    },
    {
     "name": "stderr",
     "output_type": "stream",
     "text": [
      "\n"
     ]
    }
   ],
   "source": [
    "topk_values = [10, 30, 50, 100, 200, 300, 400, 500]\n",
    "\n",
    "precisions, recalls, ndcgs = [], [], []\n",
    "for topk in topk_values:\n",
    "    precision, recall, ndcg = calculate_metrics(topk=topk)\n",
    "    precisions.append(precision)\n",
    "    recalls.append(recall)\n",
    "    ndcgs.append(ndcg)\n",
    "    print(f'precision@{topk}: {precision:.5f}, recall@{topk}: {recall:.5f}, ndcg@{topk}: {ndcg:.5f}')"
   ]
  },
  {
   "cell_type": "code",
   "execution_count": 83,
   "metadata": {},
   "outputs": [
    {
     "data": {
      "image/png": "[encoded data removed]",
      "text/plain": [
       "<Figure size 1200x600 with 1 Axes>"
      ]
     },
     "metadata": {},
     "output_type": "display_data"
    }
   ],
   "source": [
    "plt.figure(figsize=(12, 6))\n",
    "\n",
    "plt.plot(topk_values, precisions, marker='o', label='Precision')\n",
    "\n",
    "plt.plot(topk_values, recalls, marker='s', label='Recall')\n",
    "\n",
    "plt.plot(topk_values, ndcgs, marker='^', label='NDCG')\n",
    "\n",
    "plt.title('Metrics vs Top-K')\n",
    "plt.xlabel('Top-K')\n",
    "plt.ylabel('Metric Value')\n",
    "plt.legend()\n",
    "plt.grid(True, linestyle='--', alpha=0.7)\n",
    "\n",
    "plt.xticks(topk_values)\n",
    "\n",
    "plt.ylim(bottom=0)\n",
    "\n",
    "plt.tight_layout()\n",
    "plt.show()"
   ]
  },
  {
   "cell_type": "code",
   "execution_count": 84,
   "metadata": {},
   "outputs": [
    {
     "name": "stdout",
     "output_type": "stream",
     "text": [
      "518504755\n"
     ]
    },
    {
     "data": {
      "text/html": [
       "<div>\n",
       "<style scoped>\n",
       "    .dataframe tbody tr th:only-of-type {\n",
       "        vertical-align: middle;\n",
       "    }\n",
       "\n",
       "    .dataframe tbody tr th {\n",
       "        vertical-align: top;\n",
       "    }\n",
       "\n",
       "    .dataframe thead th {\n",
       "        text-align: right;\n",
       "    }\n",
       "</style>\n",
       "<table border=\"1\" class=\"dataframe\">\n",
       "  <thead>\n",
       "    <tr style=\"text-align: right;\">\n",
       "      <th></th>\n",
       "      <th>user_id</th>\n",
       "      <th>product_id</th>\n",
       "      <th>category_code</th>\n",
       "      <th>user_index</th>\n",
       "      <th>product_index</th>\n",
       "    </tr>\n",
       "  </thead>\n",
       "  <tbody>\n",
       "    <tr>\n",
       "      <th>4441228</th>\n",
       "      <td>518504755</td>\n",
       "      <td>15100337</td>\n",
       "      <td>#unknown</td>\n",
       "      <td>44547</td>\n",
       "      <td>109</td>\n",
       "    </tr>\n",
       "    <tr>\n",
       "      <th>4441772</th>\n",
       "      <td>518504755</td>\n",
       "      <td>15100362</td>\n",
       "      <td>#unknown</td>\n",
       "      <td>44547</td>\n",
       "      <td>1168</td>\n",
       "    </tr>\n",
       "    <tr>\n",
       "      <th>4442613</th>\n",
       "      <td>518504755</td>\n",
       "      <td>15100133</td>\n",
       "      <td>#unknown</td>\n",
       "      <td>44547</td>\n",
       "      <td>765</td>\n",
       "    </tr>\n",
       "    <tr>\n",
       "      <th>4443036</th>\n",
       "      <td>518504755</td>\n",
       "      <td>15100371</td>\n",
       "      <td>#unknown</td>\n",
       "      <td>44547</td>\n",
       "      <td>318</td>\n",
       "    </tr>\n",
       "    <tr>\n",
       "      <th>4444046</th>\n",
       "      <td>518504755</td>\n",
       "      <td>15100009</td>\n",
       "      <td>#unknown</td>\n",
       "      <td>44547</td>\n",
       "      <td>134</td>\n",
       "    </tr>\n",
       "    <tr>\n",
       "      <th>...</th>\n",
       "      <td>...</td>\n",
       "      <td>...</td>\n",
       "      <td>...</td>\n",
       "      <td>...</td>\n",
       "      <td>...</td>\n",
       "    </tr>\n",
       "    <tr>\n",
       "      <th>37087150</th>\n",
       "      <td>518504755</td>\n",
       "      <td>3601479</td>\n",
       "      <td>appliances.kitchen.washer</td>\n",
       "      <td>44547</td>\n",
       "      <td>897</td>\n",
       "    </tr>\n",
       "    <tr>\n",
       "      <th>37088642</th>\n",
       "      <td>518504755</td>\n",
       "      <td>3601479</td>\n",
       "      <td>appliances.kitchen.washer</td>\n",
       "      <td>44547</td>\n",
       "      <td>897</td>\n",
       "    </tr>\n",
       "    <tr>\n",
       "      <th>37089360</th>\n",
       "      <td>518504755</td>\n",
       "      <td>3601267</td>\n",
       "      <td>appliances.kitchen.washer</td>\n",
       "      <td>44547</td>\n",
       "      <td>22177</td>\n",
       "    </tr>\n",
       "    <tr>\n",
       "      <th>37089845</th>\n",
       "      <td>518504755</td>\n",
       "      <td>3600457</td>\n",
       "      <td>appliances.kitchen.washer</td>\n",
       "      <td>44547</td>\n",
       "      <td>9415</td>\n",
       "    </tr>\n",
       "    <tr>\n",
       "      <th>37093147</th>\n",
       "      <td>518504755</td>\n",
       "      <td>3601438</td>\n",
       "      <td>appliances.kitchen.washer</td>\n",
       "      <td>44547</td>\n",
       "      <td>222</td>\n",
       "    </tr>\n",
       "  </tbody>\n",
       "</table>\n",
       "<p>107 rows × 5 columns</p>\n",
       "</div>"
      ],
      "text/plain": [
       "            user_id  product_id              category_code  user_index  \\\n",
       "4441228   518504755    15100337                   #unknown       44547   \n",
       "4441772   518504755    15100362                   #unknown       44547   \n",
       "4442613   518504755    15100133                   #unknown       44547   \n",
       "4443036   518504755    15100371                   #unknown       44547   \n",
       "4444046   518504755    15100009                   #unknown       44547   \n",
       "...             ...         ...                        ...         ...   \n",
       "37087150  518504755     3601479  appliances.kitchen.washer       44547   \n",
       "37088642  518504755     3601479  appliances.kitchen.washer       44547   \n",
       "37089360  518504755     3601267  appliances.kitchen.washer       44547   \n",
       "37089845  518504755     3600457  appliances.kitchen.washer       44547   \n",
       "37093147  518504755     3601438  appliances.kitchen.washer       44547   \n",
       "\n",
       "          product_index  \n",
       "4441228             109  \n",
       "4441772            1168  \n",
       "4442613             765  \n",
       "4443036             318  \n",
       "4444046             134  \n",
       "...                 ...  \n",
       "37087150            897  \n",
       "37088642            897  \n",
       "37089360          22177  \n",
       "37089845           9415  \n",
       "37093147            222  \n",
       "\n",
       "[107 rows x 5 columns]"
      ]
     },
     "execution_count": 84,
     "metadata": {},
     "output_type": "execute_result"
    }
   ],
   "source": [
    "import random\n",
    "\n",
    "random_user_id = random.choice(list(recommendations_dict.keys()))\n",
    "print(random_user_id)\n",
    "\n",
    "train_df[train_df['user_id'] == random_user_id]"
   ]
  },
  {
   "cell_type": "code",
   "execution_count": 85,
   "metadata": {},
   "outputs": [
    {
     "name": "stdout",
     "output_type": "stream",
     "text": [
      "('electronics.smartphone',)\n",
      "('electronics.smartphone',)\n",
      "('electronics.smartphone',)\n",
      "('electronics.smartphone',)\n",
      "('electronics.smartphone',)\n",
      "('electronics.smartphone',)\n",
      "('electronics.smartphone',)\n",
      "('electronics.audio.headphone',)\n",
      "('computers.notebook',)\n",
      "('electronics.smartphone',)\n",
      "('electronics.smartphone',)\n",
      "('electronics.smartphone',)\n",
      "('electronics.smartphone',)\n",
      "('appliances.environment.vacuum',)\n",
      "('electronics.smartphone',)\n",
      "('electronics.smartphone',)\n",
      "('electronics.smartphone',)\n",
      "('electronics.smartphone',)\n",
      "('electronics.video.tv',)\n",
      "('electronics.smartphone',)\n"
     ]
    },
    {
     "name": "stderr",
     "output_type": "stream",
     "text": [
      "/var/folders/61/z_y23ln573b2r1g8y664sldc0000gn/T/ipykernel_85353/1566795865.py:2: DeprecationWarning: DataFrameGroupBy.apply operated on the grouping columns. This behavior is deprecated, and in a future version of pandas the grouping columns will be excluded from the operation. Either pass `include_groups=False` to exclude the groupings or explicitly select the grouping columns after groupby to silence this warning.\n",
      "  recommend_product_dict = train_df[train_df['product_id'].isin(recommend_product_ids)].groupby('product_id').apply(\n"
     ]
    }
   ],
   "source": [
    "recommend_product_ids = recommendations_dict[random_user_id]\n",
    "recommend_product_dict = train_df[train_df['product_id'].isin(recommend_product_ids)].groupby('product_id').apply(\n",
    "    lambda x: tuple(x[['category_code']].iloc[0])\n",
    ").to_dict()\n",
    "\n",
    "for product_id in recommend_product_ids[:20]:\n",
    "    category_code = recommend_product_dict[product_id]\n",
    "    print(category_code)"
   ]
  },
  {
   "cell_type": "code",
   "execution_count": null,
   "metadata": {},
   "outputs": [],
   "source": []
  }
 ],
 "metadata": {
  "kernelspec": {
   "display_name": "recsys",
   "language": "python",
   "name": "python3"
  },
  "language_info": {
   "codemirror_mode": {
    "name": "ipython",
    "version": 3
   },
   "file_extension": ".py",
   "mimetype": "text/x-python",
   "name": "python",
   "nbconvert_exporter": "python",
   "pygments_lexer": "ipython3",
   "version": "3.12.0"
  }
 },
 "nbformat": 4,
 "nbformat_minor": 2
}
